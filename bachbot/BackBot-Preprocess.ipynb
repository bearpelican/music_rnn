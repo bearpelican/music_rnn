{
 "cells": [
  {
   "cell_type": "code",
   "execution_count": 1,
   "metadata": {},
   "outputs": [
    {
     "name": "stderr",
     "output_type": "stream",
     "text": [
      "/home/paperspace/anaconda3/envs/music/lib/python3.6/site-packages/h5py/__init__.py:36: FutureWarning: Conversion of the second argument of issubdtype from `float` to `np.floating` is deprecated. In future, it will be treated as `np.float64 == np.dtype(float).type`.\n",
      "  from ._conv import register_converters as _register_converters\n"
     ]
    }
   ],
   "source": [
    "import argparse, json, os\n",
    "import numpy as np\n",
    "import h5py\n",
    "import codecs"
   ]
  },
  {
   "cell_type": "code",
   "execution_count": 2,
   "metadata": {},
   "outputs": [],
   "source": [
    "# -*- coding: utf-8 -*-\n",
    "def preprocess(input_txt, output_h5, output_json, val_frac=0.1, test_frac=0.1, encoding='utf-8'):\n",
    "    # First go the file once to see how big it is and to build the vocab\n",
    "    token_to_idx = {}\n",
    "    total_size = 0\n",
    "    with codecs.open(input_txt, 'r', encoding) as f:\n",
    "        for line in f:\n",
    "            total_size += len(line)\n",
    "            for char in line:\n",
    "                if char not in token_to_idx:\n",
    "                    token_to_idx[char] = len(token_to_idx) + 1\n",
    "\n",
    "    # Now we can figure out the split sizes\n",
    "    val_size = int(val_frac * total_size)\n",
    "    test_size = int(test_frac * total_size)\n",
    "    train_size = total_size - val_size - test_size\n",
    "\n",
    "    print('Total vocabulary size: %d' % len(token_to_idx))\n",
    "    print('Total tokens in file: %d' % total_size)\n",
    "    print('  Training size: %d' % train_size)\n",
    "    print('  Val size: %d' % val_size)\n",
    "    print('  Test size: %d' % test_size)\n",
    "\n",
    "    # Choose the datatype based on the vocabulary size\n",
    "    dtype = np.uint8\n",
    "    if len(token_to_idx) > 255:\n",
    "        dtype = np.uint32\n",
    "        \n",
    "    print('Using dtype ', dtype)\n",
    "\n",
    "    # Just load data into memory ... we'll have to do something more clever\n",
    "    # for huge datasets but this should be fine for now\n",
    "    train = np.zeros(train_size, dtype=dtype)\n",
    "    val = np.zeros(val_size, dtype=dtype)\n",
    "    test = np.zeros(test_size, dtype=dtype)\n",
    "    splits = [train, val, test]\n",
    "\n",
    "    # Go through the file again and write data to numpy arrays\n",
    "    split_idx, cur_idx = 0, 0\n",
    "    with codecs.open(input_txt, 'r', encoding) as f:\n",
    "        for line in f:\n",
    "            for char in line:\n",
    "                splits[split_idx][cur_idx] = token_to_idx[char]\n",
    "                cur_idx += 1\n",
    "                if cur_idx == splits[split_idx].size:\n",
    "                    split_idx += 1\n",
    "                    cur_idx = 0\n",
    "\n",
    "    # Write data to HDF5 file\n",
    "    with h5py.File(output_h5, 'w') as f:\n",
    "        f.create_dataset('train', data=train)\n",
    "        f.create_dataset('val', data=val)\n",
    "        f.create_dataset('test', data=test)\n",
    "\n",
    "    # For 'bytes' encoding, replace non-ascii characters so the json dump\n",
    "    # doesn't crash\n",
    "    if encoding is None:\n",
    "        new_token_to_idx = {}\n",
    "        for token, idx in token_to_idx.items():\n",
    "            if ord(token) > 127:\n",
    "                new_token_to_idx['[%d]' % ord(token)] = idx\n",
    "            else:\n",
    "                new_token_to_idx[token] = idx\n",
    "        token_to_idx = new_token_to_idx\n",
    "\n",
    "    # Dump a JSON file for the vocab\n",
    "    json_data = {\n",
    "        'token_to_idx': token_to_idx,\n",
    "        'idx_to_token': {v: k for k, v in token_to_idx.items()},\n",
    "    }\n",
    "    with open(output_json, 'w') as f:\n",
    "        json.dump(json_data, f)\n"
   ]
  },
  {
   "cell_type": "code",
   "execution_count": 5,
   "metadata": {},
   "outputs": [],
   "source": [
    "from constants import *"
   ]
  },
  {
   "cell_type": "code",
   "execution_count": 6,
   "metadata": {},
   "outputs": [
    {
     "name": "stdout",
     "output_type": "stream",
     "text": [
      "Total vocabulary size: 108\n",
      "Total tokens in file: 341705\n",
      "  Training size: 273365\n",
      "  Val size: 34170\n",
      "  Test size: 34170\n",
      "Using dtype  <class 'numpy.uint8'>\n"
     ]
    }
   ],
   "source": [
    "preprocess(f'{CONCAT_DIR}/concat_corpus.utf', f'{CONCAT_DIR}/concat_corpus.h5', f'{CONCAT_DIR}/concat_corpus.json')"
   ]
  },
  {
   "cell_type": "code",
   "execution_count": null,
   "metadata": {},
   "outputs": [],
   "source": []
  }
 ],
 "metadata": {
  "kernelspec": {
   "display_name": "Python 3",
   "language": "python",
   "name": "python3"
  },
  "language_info": {
   "codemirror_mode": {
    "name": "ipython",
    "version": 3
   },
   "file_extension": ".py",
   "mimetype": "text/x-python",
   "name": "python",
   "nbconvert_exporter": "python",
   "pygments_lexer": "ipython3",
   "version": "3.6.4"
  }
 },
 "nbformat": 4,
 "nbformat_minor": 2
}
