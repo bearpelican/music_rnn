{
 "cells": [
  {
   "cell_type": "code",
   "execution_count": 1,
   "metadata": {},
   "outputs": [],
   "source": [
    "%reload_ext autoreload\n",
    "%autoreload 2\n",
    "%matplotlib inline"
   ]
  },
  {
   "cell_type": "code",
   "execution_count": 2,
   "metadata": {
    "collapsed": true
   },
   "outputs": [],
   "source": [
    "import numpy as np\n",
    "import torch\n",
    "import torch.utils.data\n",
    "import torch.nn as nn\n",
    "import torch.nn.functional as F\n",
    "import torch.optim as optim\n",
    "from torch.autograd import Variable\n",
    "from torchvision import datasets, transforms\n",
    "from torchvision.utils import make_grid , save_image"
   ]
  },
  {
   "cell_type": "code",
   "execution_count": 3,
   "metadata": {},
   "outputs": [],
   "source": [
    "from constants import *"
   ]
  },
  {
   "cell_type": "code",
   "execution_count": 4,
   "metadata": {
    "collapsed": true
   },
   "outputs": [],
   "source": [
    "import matplotlib.pyplot as plt"
   ]
  },
  {
   "cell_type": "markdown",
   "metadata": {},
   "source": [
    "### Old way of pulling out corpus"
   ]
  },
  {
   "cell_type": "code",
   "execution_count": 5,
   "metadata": {},
   "outputs": [],
   "source": [
    "with open(f'{CONCAT_DIR}/concat_corpus.utf') as f:\n",
    "    train_contents = f.read()"
   ]
  },
  {
   "cell_type": "code",
   "execution_count": 6,
   "metadata": {},
   "outputs": [
    {
     "data": {
      "text/plain": [
       "'їPÿ\\x07{\\x919\\x05)\\x1c'"
      ]
     },
     "execution_count": 6,
     "metadata": {},
     "output_type": "execute_result"
    }
   ],
   "source": [
    "train_contents[0:10]"
   ]
  },
  {
   "cell_type": "code",
   "execution_count": 7,
   "metadata": {},
   "outputs": [
    {
     "name": "stderr",
     "output_type": "stream",
     "text": [
      "/home/paperspace/anaconda3/envs/music/lib/python3.6/site-packages/h5py/__init__.py:36: FutureWarning: Conversion of the second argument of issubdtype from `float` to `np.floating` is deprecated. In future, it will be treated as `np.float64 == np.dtype(float).type`.\n",
      "  from ._conv import register_converters as _register_converters\n"
     ]
    }
   ],
   "source": [
    "import h5py    \n",
    "import numpy as np    \n",
    "import json\n",
    "concat_h5 = h5py.File(f'{CONCAT_DIR}/concat_corpus.h5','r+') \n",
    "\n",
    "concat_json = json.load(open(f'{CONCAT_DIR}/concat_corpus.json', 'rb'))"
   ]
  },
  {
   "cell_type": "code",
   "execution_count": 8,
   "metadata": {},
   "outputs": [],
   "source": [
    "t = concat_h5['train']"
   ]
  },
  {
   "cell_type": "code",
   "execution_count": 9,
   "metadata": {},
   "outputs": [
    {
     "data": {
      "text/plain": [
       "array([ 1,  2,  3,  4,  5,  6,  7,  8,  9, 10], dtype=uint8)"
      ]
     },
     "execution_count": 9,
     "metadata": {},
     "output_type": "execute_result"
    }
   ],
   "source": [
    "t[:10]"
   ]
  },
  {
   "cell_type": "markdown",
   "metadata": {},
   "source": [
    "### One hot encoding"
   ]
  },
  {
   "cell_type": "code",
   "execution_count": 10,
   "metadata": {},
   "outputs": [],
   "source": [
    "def one_hot(a,c): \n",
    "    return np.eye(c)[a]"
   ]
  },
  {
   "cell_type": "code",
   "execution_count": 11,
   "metadata": {},
   "outputs": [],
   "source": [
    "class MusicDataset(torch.utils.data.Dataset):\n",
    "    \"\"\"Face Landmarks dataset.\"\"\"\n",
    "\n",
    "    def __init__(self, h5_file, set_type, json_file, timesteps, root_dir):\n",
    "        self.concat_h5 = h5py.File(f'{root_dir}/{h5_file}','r+')\n",
    "        self.dataset = self.concat_h5[set_type]\n",
    "        self.concat_json = json.load(open(f'{root_dir}/{json_file}', 'rb'))\n",
    "        self.vocab_size = len(self.concat_json['idx_to_token'])+1\n",
    "        self.data_length = self.dataset.shape[0]\n",
    "        self.timesteps = timesteps\n",
    "\n",
    "    def __len__(self):\n",
    "#         print((self.data_length - self.timesteps)//10)\n",
    "#         return (self.data_length - self.timesteps)//10\n",
    "        return (self.data_length // self.timesteps)\n",
    "\n",
    "    def __getitem__(self, idx):\n",
    "#         print(np.arange(10)[0:8]) # example\n",
    "#         print(np.arange(10)[8])\n",
    "        # (AS) Should not have duplicate sequences. \n",
    "        # RBMs do not actually use target value, so no point in repeating next char\n",
    "#         x = self.dataset[idx:idx+timesteps]\n",
    "#         y = self.dataset[idx+timesteps]\n",
    "        \n",
    "        start = idx*self.timesteps\n",
    "        x = self.dataset[start:start+self.timesteps]\n",
    "        y = self.dataset[start+self.timesteps]\n",
    "#         x_hot = one_hot(x, self.vocab_size)\n",
    "        return x, y\n"
   ]
  },
  {
   "cell_type": "code",
   "execution_count": 12,
   "metadata": {},
   "outputs": [],
   "source": [
    "md = MusicDataset(h5_file='concat_corpus.h5', set_type='train', json_file='concat_corpus.json', timesteps=15, root_dir=CONCAT_DIR)"
   ]
  },
  {
   "cell_type": "code",
   "execution_count": 13,
   "metadata": {},
   "outputs": [],
   "source": [
    "batch_size = 64\n",
    "train_loader = torch.utils.data.DataLoader(md,\n",
    "    batch_size=batch_size)"
   ]
  },
  {
   "cell_type": "markdown",
   "metadata": {},
   "source": [
    "### Dataset sanity test"
   ]
  },
  {
   "cell_type": "code",
   "execution_count": null,
   "metadata": {},
   "outputs": [],
   "source": [
    "train_iter = enumerate(train_loader)"
   ]
  },
  {
   "cell_type": "code",
   "execution_count": null,
   "metadata": {},
   "outputs": [],
   "source": [
    "i, (x, y) = next(train_iter)\n",
    "i2, (x2, y2) = next(train_iter)"
   ]
  },
  {
   "cell_type": "code",
   "execution_count": null,
   "metadata": {},
   "outputs": [],
   "source": [
    "md.dataset[:100]"
   ]
  },
  {
   "cell_type": "code",
   "execution_count": null,
   "metadata": {},
   "outputs": [],
   "source": [
    "# a = np.argmax(x[11], axis=1)[:-1]\n",
    "# b = np.argmax(x[10], axis=1)[1:]\n",
    "# np.testing.assert_array_equal(a, b)"
   ]
  },
  {
   "cell_type": "code",
   "execution_count": null,
   "metadata": {},
   "outputs": [],
   "source": [
    "# a = np.argmax(x2[0], axis=1)[:-1]\n",
    "# b = np.argmax(x[-1], axis=1)[1:]\n",
    "# np.testing.assert_array_equal(a, b)"
   ]
  },
  {
   "cell_type": "markdown",
   "metadata": {},
   "source": [
    "### Model"
   ]
  },
  {
   "cell_type": "code",
   "execution_count": 14,
   "metadata": {},
   "outputs": [],
   "source": [
    "def repackage_var(h):\n",
    "    \"\"\"Wraps h in new Variables, to detach them from their history.\"\"\"\n",
    "    return torch.autograd.Variable(h.data).cuda() if type(h) == torch.autograd.Variable else tuple(repackage_var(v) for v in h)"
   ]
  },
  {
   "cell_type": "code",
   "execution_count": 15,
   "metadata": {
    "collapsed": false
   },
   "outputs": [],
   "source": [
    "class StatefulLSTM(torch.nn.Module):\n",
    "    def __init__(self, scale_size, n_hidden, n_factors, bs, nl):\n",
    "        super().__init__()\n",
    "        self.scale_size = scale_size\n",
    "        self.nl = nl\n",
    "        self.embedding = torch.nn.Embedding(scale_size, n_factors)\n",
    "        self.rnn = torch.nn.LSTM(n_factors, n_hidden, nl, dropout=0.5)\n",
    "        self.l_out = torch.nn.Linear(n_hidden, scale_size)\n",
    "        self.n_hidden = n_hidden\n",
    "        self.init_hidden(bs)\n",
    "        \n",
    "    def forward(self, notes):\n",
    "        bs = notes[0].shape[0]\n",
    "        if self.h[0].size(1) != bs: \n",
    "            print('batch size is not same size as original:', bs)\n",
    "            self.init_hidden(bs)\n",
    "        emb = self.embedding(notes)\n",
    "        outp,h = self.rnn(emb, self.h)\n",
    "        self.h = repackage_var(h)\n",
    "#         return torch.nn.functional.log_softmax(self.l_out(outp), dim=-1).view(-1, self.scale_size)\n",
    "        return torch.nn.functional.log_softmax(self.l_out(outp[:, -1, :]), dim=-1)\n",
    "#         return torch.nn.functional.softmax(self.l_out(outp[:, -1, :]), dim=-1)\n",
    "    \n",
    "    def init_hidden(self, bs):\n",
    "        h1 = torch.autograd.Variable(torch.zeros(self.nl, bs, self.n_hidden))\n",
    "        h2 = torch.autograd.Variable(torch.zeros(self.nl, bs, self.n_hidden))\n",
    "        if self._cuda():\n",
    "            self.h = (h1.cuda(), h2.cuda())\n",
    "        else:\n",
    "            self.h = (h1, h2)\n",
    "            \n",
    "    def _cuda(self):\n",
    "        return next(self.parameters()).is_cuda"
   ]
  },
  {
   "cell_type": "markdown",
   "metadata": {},
   "source": [
    "### Training"
   ]
  },
  {
   "cell_type": "code",
   "execution_count": 16,
   "metadata": {
    "collapsed": false
   },
   "outputs": [],
   "source": [
    "m = StatefulLSTM(md.vocab_size, n_hidden=256, n_factors=10, bs=batch_size, nl=2).cuda()"
   ]
  },
  {
   "cell_type": "code",
   "execution_count": 17,
   "metadata": {
    "collapsed": true
   },
   "outputs": [],
   "source": [
    "train_op = torch.optim.Adam(m.parameters(), lr=1e-3)"
   ]
  },
  {
   "cell_type": "code",
   "execution_count": 18,
   "metadata": {},
   "outputs": [],
   "source": [
    "loss_fn = torch.nn.NLLLoss()"
   ]
  },
  {
   "cell_type": "code",
   "execution_count": 19,
   "metadata": {},
   "outputs": [
    {
     "name": "stdout",
     "output_type": "stream",
     "text": [
      "batch size is not same size as original: 15\n",
      "Step: 0 Loss: 2.5683021545410156\n",
      "Step: 1 Loss: 2.3499510288238525\n",
      "Step: 2 Loss: 2.1287286281585693\n",
      "Step: 3 Loss: 2.022139072418213\n",
      "Step: 4 Loss: 2.0011024475097656\n",
      "Step: 5 Loss: 1.9984527826309204\n",
      "Step: 6 Loss: 1.926031231880188\n",
      "Step: 7 Loss: 1.8813749551773071\n",
      "Step: 8 Loss: 1.7983454465866089\n",
      "Step: 9 Loss: 1.7398408651351929\n",
      "Step: 10 Loss: 1.7155526876449585\n",
      "Step: 11 Loss: 1.6044965982437134\n",
      "Step: 12 Loss: 1.6079603433609009\n",
      "Step: 13 Loss: 1.4806982278823853\n",
      "Step: 14 Loss: 1.5355020761489868\n",
      "Step: 15 Loss: 1.3822604417800903\n",
      "Step: 16 Loss: 1.2611007690429688\n",
      "Step: 17 Loss: 1.3176378011703491\n",
      "Step: 18 Loss: 1.1455236673355103\n",
      "Step: 19 Loss: 1.1275262832641602\n",
      "Step: 20 Loss: 1.0927006006240845\n",
      "Step: 21 Loss: 1.0568561553955078\n",
      "Step: 22 Loss: 1.036879539489746\n",
      "Step: 23 Loss: 0.960381805896759\n",
      "Step: 24 Loss: 0.9074965119361877\n",
      "Step: 25 Loss: 0.9171072840690613\n",
      "Step: 26 Loss: 0.8896744847297668\n",
      "Step: 27 Loss: 0.8364683985710144\n",
      "Step: 28 Loss: 0.7289602160453796\n",
      "Step: 29 Loss: 0.714012622833252\n",
      "Step: 30 Loss: 0.6472912430763245\n",
      "Step: 31 Loss: 0.6893853545188904\n",
      "Step: 32 Loss: 0.7020645141601562\n",
      "Step: 33 Loss: 0.5371891856193542\n",
      "Step: 34 Loss: 0.5571908354759216\n",
      "Step: 35 Loss: 0.5646808743476868\n",
      "Step: 36 Loss: 0.5187475681304932\n",
      "Step: 37 Loss: 0.4826090335845947\n",
      "Step: 38 Loss: 0.48040032386779785\n",
      "Step: 39 Loss: 0.4578828811645508\n",
      "Step: 40 Loss: 0.24302025139331818\n",
      "Step: 41 Loss: 0.43730345368385315\n",
      "Step: 42 Loss: 0.3510299623012543\n",
      "Step: 43 Loss: 0.3498671054840088\n",
      "Step: 44 Loss: 0.3793255090713501\n",
      "Step: 45 Loss: 0.2626843750476837\n",
      "Step: 46 Loss: 0.31968289613723755\n",
      "Step: 47 Loss: 0.3360360860824585\n",
      "Step: 48 Loss: 0.2950945198535919\n",
      "Step: 49 Loss: 0.41568949818611145\n",
      "Step: 50 Loss: 0.1613834947347641\n",
      "Step: 51 Loss: 0.3135559856891632\n",
      "Step: 52 Loss: 0.2872438132762909\n",
      "Step: 53 Loss: 0.32448872923851013\n",
      "Step: 54 Loss: 0.19142663478851318\n",
      "Step: 55 Loss: 0.20586778223514557\n",
      "Step: 56 Loss: 0.35493743419647217\n",
      "Step: 57 Loss: 0.20002096891403198\n",
      "Step: 58 Loss: 0.19760990142822266\n",
      "Step: 59 Loss: 0.13906659185886383\n",
      "Step: 60 Loss: 0.15592266619205475\n",
      "Step: 61 Loss: 0.19641077518463135\n",
      "Step: 62 Loss: 0.2955872118473053\n",
      "Step: 63 Loss: 0.19025933742523193\n",
      "Step: 64 Loss: 0.136207714676857\n",
      "Step: 65 Loss: 0.31177884340286255\n",
      "Step: 66 Loss: 0.09896257519721985\n",
      "Step: 67 Loss: 0.15224595367908478\n",
      "Step: 68 Loss: 0.23959320783615112\n",
      "Step: 69 Loss: 0.2104879468679428\n",
      "Step: 70 Loss: 0.2322831153869629\n",
      "Step: 71 Loss: 0.13058625161647797\n",
      "Step: 72 Loss: 0.0938926711678505\n",
      "Step: 73 Loss: 0.10748500376939774\n",
      "Step: 74 Loss: 0.23005671799182892\n",
      "Step: 75 Loss: 0.24544095993041992\n",
      "Step: 76 Loss: 0.12616989016532898\n",
      "Step: 77 Loss: 0.13581682741641998\n",
      "Step: 78 Loss: 0.14133329689502716\n",
      "Step: 79 Loss: 0.07059571146965027\n",
      "Step: 80 Loss: 0.2136688381433487\n",
      "Step: 81 Loss: 0.1721445918083191\n",
      "Step: 82 Loss: 0.14411599934101105\n",
      "Step: 83 Loss: 0.1207825168967247\n",
      "Step: 84 Loss: 0.21393316984176636\n",
      "Step: 85 Loss: 0.10155129432678223\n",
      "Step: 86 Loss: 0.15763388574123383\n",
      "Step: 87 Loss: 0.07651040703058243\n",
      "Step: 88 Loss: 0.06725556403398514\n",
      "Step: 89 Loss: 0.08138962835073471\n",
      "Step: 90 Loss: 0.09211485832929611\n",
      "Step: 91 Loss: 0.14602512121200562\n",
      "Step: 92 Loss: 0.06960729509592056\n",
      "Step: 93 Loss: 0.19765663146972656\n",
      "Step: 94 Loss: 0.2667122781276703\n",
      "Step: 95 Loss: 0.1687663197517395\n",
      "Step: 96 Loss: 0.08277279138565063\n",
      "Step: 97 Loss: 0.03444799780845642\n",
      "Step: 98 Loss: 0.16453582048416138\n",
      "Step: 99 Loss: 0.13531871140003204\n"
     ]
    }
   ],
   "source": [
    "display_step = 100\n",
    "training_steps = 100\n",
    "for step in range(training_steps):\n",
    "# for step in tqdm(range(training_steps)):\n",
    "    for i, (data,target) in enumerate(train_loader):\n",
    "        data, target = torch.autograd.Variable(data.long().cuda()), torch.autograd.Variable(target.long().cuda())\n",
    "        m.zero_grad()\n",
    "        forward = m(data)\n",
    "        loss = loss_fn(forward, target)\n",
    "        loss.backward()\n",
    "        train_op.step()\n",
    "#     if (step % display_step == 0):\n",
    "    print(f'Step: {step} Loss: {loss.data[0]}')"
   ]
  },
  {
   "cell_type": "markdown",
   "metadata": {},
   "source": [
    "### Generate music"
   ]
  },
  {
   "cell_type": "code",
   "execution_count": null,
   "metadata": {},
   "outputs": [],
   "source": [
    "gen_song = encoded_songs[ind][:timesteps].tolist() # TODO explore different (non-random) seed options"
   ]
  },
  {
   "cell_type": "markdown",
   "metadata": {},
   "source": [
    "Need to have unknown state 0?"
   ]
  },
  {
   "cell_type": "code",
   "execution_count": 20,
   "metadata": {},
   "outputs": [],
   "source": [
    "timesteps = md.timesteps\n",
    "output_size = md.vocab_size"
   ]
  },
  {
   "cell_type": "code",
   "execution_count": 21,
   "metadata": {},
   "outputs": [],
   "source": [
    "gen_song = md.dataset[:timesteps]"
   ]
  },
  {
   "cell_type": "code",
   "execution_count": 22,
   "metadata": {},
   "outputs": [],
   "source": [
    "def generate_sequence(song, seq_length):\n",
    "    full_song = song.tolist()\n",
    "    # generate music!\n",
    "    m.init_hidden(batch_size)\n",
    "    for i in range(seq_length):\n",
    "        seed = np.array([full_song[-timesteps:]])\n",
    "        # Use our RNN for prediction using our seed! \n",
    "        seed_v = torch.autograd.Variable(torch.from_numpy(seed).long()).cuda()\n",
    "    #     seed_v = torch.autograd.Variable(torch.from_numpy(np.argmax(seed, axis=1)).long()).cuda() # for onehot\n",
    "        predict_probs = m(seed_v)\n",
    "\n",
    "        percentage_prob = (np.e ** predict_probs.data.cpu().numpy())\n",
    "        # Define output vector for our generated song by sampling from our predicted probability distribution\n",
    "        \n",
    "    #     sampled_note = np.random.choice(range(md.vocab_size), p=percentage_prob[0]) # TODO\n",
    "        sampled_note = np.argmax(percentage_prob)\n",
    "    #     print('Sampled_note:', sampled_note)\n",
    "        full_song.append(sampled_note)\n",
    "    return full_song\n",
    "    \n"
   ]
  },
  {
   "cell_type": "code",
   "execution_count": 23,
   "metadata": {
    "collapsed": true
   },
   "outputs": [],
   "source": [
    "import decode"
   ]
  },
  {
   "cell_type": "code",
   "execution_count": 24,
   "metadata": {},
   "outputs": [],
   "source": [
    "def decode_output(output_idx):\n",
    "    idx2token = md.concat_json['idx_to_token']\n",
    "    token_list = list(map(lambda x: idx2token.get(str(x), ''), output_idx))\n",
    "    return decode_token(token_list)\n",
    "\n",
    "def decode_token(token_list):\n",
    "    if (token_list[0] != START_DELIM):\n",
    "        token_list.insert(0, START_DELIM)\n",
    "    token_str = ''.join(token_list)\n",
    "    with open(f'{SCRATCH_DIR}/utf_to_txt.json', 'r') as f:\n",
    "        utf_to_txt = json.load(f)\n",
    "    score, stream = decode.decode_string(utf_to_txt, token_str)\n",
    "    return token_str, score, stream\n",
    "\n",
    "# test = [idx2token[f'{x}'] for x in seq_arr]; test"
   ]
  },
  {
   "cell_type": "code",
   "execution_count": 26,
   "metadata": {},
   "outputs": [
    {
     "name": "stdout",
     "output_type": "stream",
     "text": [
      "batch size is not same size as original: 15\n"
     ]
    }
   ],
   "source": [
    "song_seed = md.dataset[:md.timesteps]\n",
    "generated_idxs = generate_sequence(song_seed, 500)"
   ]
  },
  {
   "cell_type": "code",
   "execution_count": 27,
   "metadata": {},
   "outputs": [
    {
     "name": "stderr",
     "output_type": "stream",
     "text": [
      "/home/paperspace/music_rnn/bachbot/decode.py:133: Music21DeprecationWarning: Note._setMidi was deprecated on May 2014 and will disappear at or after September 2017, v.5. use pitch.midi instead\n",
      "  note.midi = note_tuple[0]\n"
     ]
    }
   ],
   "source": [
    "token_str, score, stream = decode_output(generated_idxs)"
   ]
  },
  {
   "cell_type": "code",
   "execution_count": 28,
   "metadata": {},
   "outputs": [
    {
     "data": {
      "text/plain": [
       "'їPÿ\\x07{\\x919\\x05)\\x1c\\x91\\x91\\x91Ûÿ\\x07Hí\\x91áÿ\\x9eH\\x91çïH\\x91\\x84\\x91\\x84\\x91\\x05ïh\\x91\\x17ïï%\\x91á\\x9e+H\\x91çï)ã%\\x91\\x84ћїç)h\\x91\\x91\\x17ïæãB\\x91\\x84\\x91çàÕÒ\\x07Ù\\x91\\x84\\x91çî\\x07{\\x1c\\x91\\x91\\x17à)%\\x91\\x17ï+µ\\x91\\x84\\x91\\x05ï\\x9a\\x91\\x91\\x17)H\\x91þî{çàï)%\\x91á\\x9e\\x07{\\x1c\\x91á+H\\x91çï)%\\x91þ\\x9et\\x91\\x17àï)%\\x91ç\\x17ï\\x91\\x91çï)%\\x91\\x91\\x17)\\x1c\\x91\\x91Õh\\x91î\\x07h\\x91þ\\x9eH\\x91çà))%\\x91\\x84\\x91\\x84\\x91çïæ~Ù\\x91\\x84\\x91ÿ\\x07{µ\\x91çàï%\\x91\\x91ç\\x05ÐÈ\\x91á,\\x9et\\x1c\\x91áá,H\\x91áî\\x07{\\x91þ\\x9eH\\x91çï\\x1c\\x91Pÿ\\x9e{h\\x91\\x05\\x9eh\\x91á\\x9e\\x07{í\\x91á\\x9eH\\x91çàà)\\x1c\\x91\\x91\\x05ïï%\\x91á\\x9etH\\x91ç\\x05Õ+)%\\x91\\x17ïæ \\x91\\x84\\x91\\x91\\x17)è\\x91\\x91Õ)\\x1c\\x91ç\\x9e\\x07{\\x91çà)%\\x91á\\x9etH\\x91ç\\x05ï)%\\x91á\\x9et\\x91FàïB\\x91\\x84\\x91\\x91\\x91çï\\x1c\\x91ç\\x9e\\x07{\\x1c\\x91PÄ\\x91\\x91çêH\\x91çï\\x1c\\x91çïæ%\\x91á\\x9eH\\x91çï\\x1c\\x91\\x17ïæB\\x91\\x91\\x91çï\\x1c\\x91\\x84\\x91\\x84\\x91\\x1c\\x91\\x91{\\x11§\\x91ÿ\\x07{µ\\x91ç\\x05àï\\x9a\\x91\\x91\\x17à)%\\x91\\x91ç\\x05àÐ\\x9a\\x91\\x91\\x17à)\\x9a\\x91\\x17ïh\\x91\\x84\\x91\\x05ïh\\x91î\\x9e\\x07H\\x91F,,t\\x91ç\\x05ï)%\\x91á\\x9etH\\x91\\x05ïB\\x91\\x91\\x17\\x05Õ+)h±\\x91çïã\\x91\\x84\\x91\\x05Õ+\\x07{µ\\x91çÕ)k\\x91çïH\\x91\\x84\\x91áîtH\\x91ç)\\x1c\\x91\\x91\\x17ïæ%\\x91\\x84\\x91çÿ\\x07{µ\\x91àÐ±\\x91\\x91\\x17è\\x91\\x84\\x91ÿî\\x07µ\\x91çÕÐ'"
      ]
     },
     "execution_count": 28,
     "metadata": {},
     "output_type": "execute_result"
    }
   ],
   "source": [
    "token_str"
   ]
  },
  {
   "cell_type": "markdown",
   "metadata": {},
   "source": [
    "### For testing stuff"
   ]
  },
  {
   "cell_type": "code",
   "execution_count": null,
   "metadata": {},
   "outputs": [],
   "source": [
    "with open(f'{SCRATCH_DIR}/utf_to_txt.json', 'r') as f:\n",
    "    utf_to_txt = json.load(f)"
   ]
  },
  {
   "cell_type": "code",
   "execution_count": null,
   "metadata": {},
   "outputs": [],
   "source": [
    "test_str = train_contents[:200]"
   ]
  },
  {
   "cell_type": "code",
   "execution_count": null,
   "metadata": {},
   "outputs": [],
   "source": [
    "test_str = open(f'{SCRATCH_DIR}/BWV-400-nomask-fermatas.utf', 'r').read()[:200]"
   ]
  },
  {
   "cell_type": "code",
   "execution_count": null,
   "metadata": {},
   "outputs": [],
   "source": [
    "token_str, score, stream = decode_token(test_str)"
   ]
  },
  {
   "cell_type": "code",
   "execution_count": null,
   "metadata": {},
   "outputs": [],
   "source": [
    "stream.elements[:10]"
   ]
  },
  {
   "cell_type": "markdown",
   "metadata": {},
   "source": [
    "### Evaluate stream"
   ]
  },
  {
   "cell_type": "code",
   "execution_count": 29,
   "metadata": {},
   "outputs": [
    {
     "data": {
      "image/png": "[encoded data removed]",
      "text/plain": [
       "<IPython.core.display.Image object>"
      ]
     },
     "metadata": {
      "image/png": {
       "height": 94,
       "width": 748
      }
     },
     "output_type": "display_data"
    }
   ],
   "source": [
    "stream.show()"
   ]
  },
  {
   "cell_type": "code",
   "execution_count": 30,
   "metadata": {},
   "outputs": [],
   "source": [
    "fp = stream.write('midi', fp=f'{OUT_DIR}/testout.midi')"
   ]
  },
  {
   "cell_type": "code",
   "execution_count": 31,
   "metadata": {},
   "outputs": [],
   "source": [
    "fp = stream.write('xml', fp=f'{OUT_DIR}/testout.xml')"
   ]
  },
  {
   "cell_type": "code",
   "execution_count": null,
   "metadata": {},
   "outputs": [],
   "source": [
    "from IPython.lib.display import FileLink\n",
    "FileLink('../data/bachbot/out/testout.midi')"
   ]
  }
 ],
 "metadata": {
  "kernelspec": {
   "display_name": "Python 3",
   "language": "python",
   "name": "python3"
  },
  "language_info": {
   "codemirror_mode": {
    "name": "ipython",
    "version": 3
   },
   "file_extension": ".py",
   "mimetype": "text/x-python",
   "name": "python",
   "nbconvert_exporter": "python",
   "pygments_lexer": "ipython3",
   "version": "3.6.4"
  }
 },
 "nbformat": 4,
 "nbformat_minor": 2
}
