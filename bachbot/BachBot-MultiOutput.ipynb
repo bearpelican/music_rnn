{
 "cells": [
  {
   "cell_type": "code",
   "execution_count": 1,
   "metadata": {},
   "outputs": [],
   "source": [
    "%reload_ext autoreload\n",
    "%autoreload 2\n",
    "%matplotlib inline"
   ]
  },
  {
   "cell_type": "code",
   "execution_count": 2,
   "metadata": {},
   "outputs": [],
   "source": [
    "import numpy as np\n",
    "import torch\n",
    "import torch.utils.data\n",
    "import torch.nn as nn\n",
    "import torch.nn.functional as F\n",
    "import torch.optim as optim\n",
    "from torch.autograd import Variable\n",
    "from torchvision import datasets, transforms\n",
    "from torchvision.utils import make_grid , save_image"
   ]
  },
  {
   "cell_type": "code",
   "execution_count": 3,
   "metadata": {},
   "outputs": [],
   "source": [
    "from constants import *"
   ]
  },
  {
   "cell_type": "code",
   "execution_count": 4,
   "metadata": {},
   "outputs": [],
   "source": [
    "import matplotlib.pyplot as plt"
   ]
  },
  {
   "cell_type": "markdown",
   "metadata": {},
   "source": [
    "### Old way of pulling out corpus"
   ]
  },
  {
   "cell_type": "code",
   "execution_count": 5,
   "metadata": {},
   "outputs": [],
   "source": [
    "with open(f'{CONCAT_DIR}/concat_corpus.utf') as f:\n",
    "    train_contents = f.read()"
   ]
  },
  {
   "cell_type": "code",
   "execution_count": 6,
   "metadata": {},
   "outputs": [
    {
     "data": {
      "text/plain": [
       "'їPÿ\\x07{\\x919\\x05)\\x1c'"
      ]
     },
     "execution_count": 6,
     "metadata": {},
     "output_type": "execute_result"
    }
   ],
   "source": [
    "train_contents[0:10]"
   ]
  },
  {
   "cell_type": "code",
   "execution_count": 7,
   "metadata": {},
   "outputs": [
    {
     "name": "stderr",
     "output_type": "stream",
     "text": [
      "/home/paperspace/anaconda3/envs/music/lib/python3.6/site-packages/h5py/__init__.py:36: FutureWarning: Conversion of the second argument of issubdtype from `float` to `np.floating` is deprecated. In future, it will be treated as `np.float64 == np.dtype(float).type`.\n",
      "  from ._conv import register_converters as _register_converters\n"
     ]
    }
   ],
   "source": [
    "import h5py    \n",
    "import numpy as np    \n",
    "import json\n",
    "concat_h5 = h5py.File(f'{CONCAT_DIR}/concat_corpus.h5','r+') \n",
    "\n",
    "concat_json = json.load(open(f'{CONCAT_DIR}/concat_corpus.json', 'rb'))"
   ]
  },
  {
   "cell_type": "code",
   "execution_count": 8,
   "metadata": {},
   "outputs": [],
   "source": [
    "t = concat_h5['train']"
   ]
  },
  {
   "cell_type": "code",
   "execution_count": 9,
   "metadata": {},
   "outputs": [
    {
     "data": {
      "text/plain": [
       "array([ 1,  2,  3,  4,  5,  6,  7,  8,  9, 10], dtype=uint8)"
      ]
     },
     "execution_count": 9,
     "metadata": {},
     "output_type": "execute_result"
    }
   ],
   "source": [
    "t[:10]"
   ]
  },
  {
   "cell_type": "markdown",
   "metadata": {},
   "source": [
    "### One hot encoding"
   ]
  },
  {
   "cell_type": "code",
   "execution_count": 10,
   "metadata": {},
   "outputs": [],
   "source": [
    "def one_hot(a,c): \n",
    "    return np.eye(c)[a]"
   ]
  },
  {
   "cell_type": "code",
   "execution_count": 11,
   "metadata": {},
   "outputs": [],
   "source": [
    "class MusicDataset(torch.utils.data.Dataset):\n",
    "    \"\"\"Face Landmarks dataset.\"\"\"\n",
    "\n",
    "    def __init__(self, h5_file, set_type, json_file, timesteps, root_dir):\n",
    "        self.concat_h5 = h5py.File(f'{root_dir}/{h5_file}','r+')\n",
    "        self.dataset = self.concat_h5[set_type]\n",
    "        self.concat_json = json.load(open(f'{root_dir}/{json_file}', 'rb'))\n",
    "        self.vocab_size = len(self.concat_json['idx_to_token'])+1\n",
    "        self.data_length = self.dataset.shape[0]\n",
    "        self.timesteps = timesteps\n",
    "\n",
    "    def __len__(self):\n",
    "#         print((self.data_length - self.timesteps)//10)\n",
    "#         return (self.data_length - self.timesteps)//10\n",
    "        return (self.data_length // self.timesteps)\n",
    "\n",
    "    def __getitem__(self, idx):\n",
    "#         print(np.arange(10)[0:8]) # example\n",
    "#         print(np.arange(10)[8])\n",
    "        # (AS) Should not have duplicate sequences. \n",
    "        # RBMs do not actually use target value, so no point in repeating next char\n",
    "#         x = self.dataset[idx:idx+timesteps]\n",
    "#         y = self.dataset[idx+timesteps]\n",
    "        \n",
    "        start = idx*self.timesteps\n",
    "        x = self.dataset[start:start+self.timesteps]\n",
    "        y = self.dataset[start+1:start+self.timesteps+1]\n",
    "#         x_hot = one_hot(x, self.vocab_size)\n",
    "        return x, y\n"
   ]
  },
  {
   "cell_type": "code",
   "execution_count": 12,
   "metadata": {},
   "outputs": [],
   "source": [
    "md = MusicDataset(h5_file='concat_corpus.h5', set_type='train', json_file='concat_corpus.json', timesteps=15, root_dir=CONCAT_DIR)"
   ]
  },
  {
   "cell_type": "code",
   "execution_count": 13,
   "metadata": {},
   "outputs": [],
   "source": [
    "batch_size = 64\n",
    "train_loader = torch.utils.data.DataLoader(md,\n",
    "    batch_size=batch_size)"
   ]
  },
  {
   "cell_type": "markdown",
   "metadata": {},
   "source": [
    "### Dataset sanity test"
   ]
  },
  {
   "cell_type": "code",
   "execution_count": 14,
   "metadata": {},
   "outputs": [],
   "source": [
    "train_iter = enumerate(train_loader)"
   ]
  },
  {
   "cell_type": "code",
   "execution_count": 15,
   "metadata": {},
   "outputs": [],
   "source": [
    "i, (x, y) = next(train_iter)\n",
    "i2, (x2, y2) = next(train_iter)"
   ]
  },
  {
   "cell_type": "code",
   "execution_count": 16,
   "metadata": {},
   "outputs": [
    {
     "data": {
      "text/plain": [
       "array([ 1,  2,  3,  4,  5,  6,  7,  8,  9, 10,  6,  6,  6, 11,  3, 12, 13,\n",
       "        6, 14,  8, 15, 16,  6, 14,  8,  4, 16,  6, 14,  8,  9, 16,  6,  2,\n",
       "       17, 18, 19,  6,  7, 20, 21, 22,  6, 23, 20, 21, 22,  6, 24, 20, 21,\n",
       "       22,  6, 25,  3, 26, 27,  6, 28,  8, 29, 30,  6, 23,  8, 29, 30,  6,\n",
       "       24,  8, 29, 30,  6,  2, 17, 18, 31,  6,  7, 20, 21, 32,  6,  7, 20,\n",
       "        4,  5,  6,  7, 20,  9, 10,  6, 23, 26, 12, 18,  6, 24, 29],\n",
       "      dtype=uint8)"
      ]
     },
     "execution_count": 16,
     "metadata": {},
     "output_type": "execute_result"
    }
   ],
   "source": [
    "md.dataset[:100]"
   ]
  },
  {
   "cell_type": "code",
   "execution_count": 17,
   "metadata": {},
   "outputs": [],
   "source": [
    "# a = np.argmax(x[11], axis=1)[:-1]\n",
    "# b = np.argmax(x[10], axis=1)[1:]\n",
    "# np.testing.assert_array_equal(a, b)"
   ]
  },
  {
   "cell_type": "code",
   "execution_count": 18,
   "metadata": {},
   "outputs": [],
   "source": [
    "# a = np.argmax(x2[0], axis=1)[:-1]\n",
    "# b = np.argmax(x[-1], axis=1)[1:]\n",
    "# np.testing.assert_array_equal(a, b)"
   ]
  },
  {
   "cell_type": "markdown",
   "metadata": {},
   "source": [
    "### Model"
   ]
  },
  {
   "cell_type": "code",
   "execution_count": 19,
   "metadata": {},
   "outputs": [],
   "source": [
    "def repackage_var(h):\n",
    "    \"\"\"Wraps h in new Variables, to detach them from their history.\"\"\"\n",
    "    return torch.autograd.Variable(h.data).cuda() if type(h) == torch.autograd.Variable else tuple(repackage_var(v) for v in h)"
   ]
  },
  {
   "cell_type": "code",
   "execution_count": 20,
   "metadata": {},
   "outputs": [],
   "source": [
    "class StatefulLSTM(torch.nn.Module):\n",
    "    def __init__(self, scale_size, n_hidden, n_factors, bs, nl):\n",
    "        super().__init__()\n",
    "        self.scale_size = scale_size\n",
    "        self.nl = nl\n",
    "        self.embedding = torch.nn.Embedding(scale_size, n_factors)\n",
    "        self.rnn1 = torch.nn.LSTM(n_factors, n_hidden, nl, dropout=0.5, batch_first=True)\n",
    "        self.l_out = torch.nn.Linear(n_hidden, scale_size)\n",
    "        self.n_hidden = n_hidden\n",
    "        self.h1 = self.init_hidden(bs)\n",
    "        \n",
    "    def forward(self, notes):\n",
    "        bs = notes.shape[0]\n",
    "        if self.h1[0].size(1) != bs: \n",
    "            print('batch size is not same size as original:', bs)\n",
    "            self.h1 = self.init_hidden(bs)\n",
    "        emb = self.embedding(notes)\n",
    "        outp1,h1 = self.rnn1(emb, self.h1)\n",
    "        self.h1 = repackage_var(h1)\n",
    "        return torch.nn.functional.log_softmax(self.l_out(outp1), dim=-1).view(-1, self.scale_size)\n",
    "#         return torch.nn.functional.log_softmax(self.l_out(outp[:, -1, :]), dim=-1)\n",
    "#         return torch.nn.functional.softmax(self.l_out(outp[:, -1, :]), dim=-1)\n",
    "    \n",
    "    def init_hidden(self, bs):\n",
    "        h1 = torch.autograd.Variable(torch.zeros(self.nl, bs, self.n_hidden))\n",
    "        h2 = torch.autograd.Variable(torch.zeros(self.nl, bs, self.n_hidden))\n",
    "        return (h1.cuda(), h2.cuda())\n",
    "#         if self._cuda():\n",
    "#             self.h = (h1.cuda(), h2.cuda())\n",
    "#         else:\n",
    "#             self.h = (h1, h2)\n",
    "            \n",
    "    def _cuda(self):\n",
    "        return next(self.parameters()).is_cuda"
   ]
  },
  {
   "cell_type": "markdown",
   "metadata": {},
   "source": [
    "### Training"
   ]
  },
  {
   "cell_type": "code",
   "execution_count": 21,
   "metadata": {},
   "outputs": [],
   "source": [
    "m = StatefulLSTM(md.vocab_size, n_hidden=256, n_factors=10, bs=batch_size, nl=2).cuda()"
   ]
  },
  {
   "cell_type": "code",
   "execution_count": 22,
   "metadata": {},
   "outputs": [],
   "source": [
    "train_op = torch.optim.Adam(m.parameters(), lr=1e-3)"
   ]
  },
  {
   "cell_type": "code",
   "execution_count": 23,
   "metadata": {},
   "outputs": [],
   "source": [
    "loss_fn = torch.nn.NLLLoss()"
   ]
  },
  {
   "cell_type": "code",
   "execution_count": 24,
   "metadata": {},
   "outputs": [
    {
     "name": "stdout",
     "output_type": "stream",
     "text": [
      "Iteration: 0 Loss: 4.692858695983887\n",
      "Iteration: 100 Loss: 3.434539318084717\n",
      "Iteration: 200 Loss: 3.0547311305999756\n",
      "batch size is not same size as original: 48\n",
      "Step: 0 Loss: 2.5917348861694336\n",
      "batch size is not same size as original: 64\n",
      "Iteration: 0 Loss: 2.7362313270568848\n",
      "Iteration: 100 Loss: 2.5495588779449463\n",
      "Iteration: 200 Loss: 2.4287779331207275\n",
      "batch size is not same size as original: 48\n",
      "Step: 1 Loss: 2.063305616378784\n",
      "batch size is not same size as original: 64\n",
      "Iteration: 0 Loss: 2.244978189468384\n",
      "Iteration: 100 Loss: 2.2104382514953613\n",
      "Iteration: 200 Loss: 2.0853536128997803\n",
      "batch size is not same size as original: 48\n",
      "Step: 2 Loss: 1.6841455698013306\n",
      "batch size is not same size as original: 64\n",
      "Iteration: 0 Loss: 1.86961030960083\n",
      "Iteration: 100 Loss: 1.9598323106765747\n",
      "Iteration: 200 Loss: 1.8731281757354736\n",
      "batch size is not same size as original: 48\n",
      "Step: 3 Loss: 1.4523240327835083\n",
      "batch size is not same size as original: 64\n",
      "Iteration: 0 Loss: 1.6086448431015015\n",
      "Iteration: 100 Loss: 1.783684253692627\n",
      "Iteration: 200 Loss: 1.7186832427978516\n",
      "batch size is not same size as original: 48\n",
      "Step: 4 Loss: 1.3257218599319458\n",
      "batch size is not same size as original: 64\n",
      "Iteration: 0 Loss: 1.4529964923858643\n",
      "Iteration: 100 Loss: 1.667608380317688\n",
      "Iteration: 200 Loss: 1.615624189376831\n",
      "batch size is not same size as original: 48\n",
      "Step: 5 Loss: 1.2129254341125488\n",
      "batch size is not same size as original: 64\n",
      "Iteration: 0 Loss: 1.3344744443893433\n",
      "Iteration: 100 Loss: 1.585140585899353\n",
      "Iteration: 200 Loss: 1.5078094005584717\n",
      "batch size is not same size as original: 48\n",
      "Step: 6 Loss: 1.1289236545562744\n",
      "batch size is not same size as original: 64\n",
      "Iteration: 0 Loss: 1.2610337734222412\n",
      "Iteration: 100 Loss: 1.510542631149292\n",
      "Iteration: 200 Loss: 1.443780541419983\n",
      "batch size is not same size as original: 48\n",
      "Step: 7 Loss: 1.101579189300537\n",
      "batch size is not same size as original: 64\n",
      "Iteration: 0 Loss: 1.2069400548934937\n",
      "Iteration: 100 Loss: 1.4548523426055908\n",
      "Iteration: 200 Loss: 1.4030712842941284\n",
      "batch size is not same size as original: 48\n",
      "Step: 8 Loss: 1.0393447875976562\n",
      "batch size is not same size as original: 64\n",
      "Iteration: 0 Loss: 1.149052381515503\n",
      "Iteration: 100 Loss: 1.4240671396255493\n",
      "Iteration: 200 Loss: 1.3137727975845337\n",
      "batch size is not same size as original: 48\n",
      "Step: 9 Loss: 1.0199172496795654\n",
      "batch size is not same size as original: 64\n",
      "Iteration: 0 Loss: 1.1049671173095703\n",
      "Iteration: 100 Loss: 1.382326364517212\n",
      "Iteration: 200 Loss: 1.3012983798980713\n",
      "batch size is not same size as original: 48\n",
      "Step: 10 Loss: 0.9768815040588379\n",
      "batch size is not same size as original: 64\n",
      "Iteration: 0 Loss: 1.0873076915740967\n",
      "Iteration: 100 Loss: 1.3575904369354248\n",
      "Iteration: 200 Loss: 1.290015459060669\n",
      "batch size is not same size as original: 48\n",
      "Step: 11 Loss: 0.9621903896331787\n",
      "batch size is not same size as original: 64\n",
      "Iteration: 0 Loss: 1.060924768447876\n",
      "Iteration: 100 Loss: 1.3290144205093384\n",
      "Iteration: 200 Loss: 1.2510432004928589\n",
      "batch size is not same size as original: 48\n",
      "Step: 12 Loss: 0.9482377767562866\n",
      "batch size is not same size as original: 64\n",
      "Iteration: 0 Loss: 1.0316015481948853\n",
      "Iteration: 100 Loss: 1.30399489402771\n",
      "Iteration: 200 Loss: 1.2333579063415527\n",
      "batch size is not same size as original: 48\n",
      "Step: 13 Loss: 0.9215149879455566\n",
      "batch size is not same size as original: 64\n",
      "Iteration: 0 Loss: 1.0076394081115723\n",
      "Iteration: 100 Loss: 1.2676135301589966\n",
      "Iteration: 200 Loss: 1.1921584606170654\n",
      "batch size is not same size as original: 48\n",
      "Step: 14 Loss: 0.938616156578064\n",
      "batch size is not same size as original: 64\n",
      "Iteration: 0 Loss: 0.994465172290802\n",
      "Iteration: 100 Loss: 1.2542978525161743\n",
      "Iteration: 200 Loss: 1.1685771942138672\n",
      "batch size is not same size as original: 48\n",
      "Step: 15 Loss: 0.8872371315956116\n",
      "batch size is not same size as original: 64\n",
      "Iteration: 0 Loss: 0.9823354482650757\n",
      "Iteration: 100 Loss: 1.2364972829818726\n",
      "Iteration: 200 Loss: 1.1707496643066406\n",
      "batch size is not same size as original: 48\n",
      "Step: 16 Loss: 0.847546398639679\n",
      "batch size is not same size as original: 64\n",
      "Iteration: 0 Loss: 0.9617549180984497\n",
      "Iteration: 100 Loss: 1.2176811695098877\n",
      "Iteration: 200 Loss: 1.1369385719299316\n",
      "batch size is not same size as original: 48\n",
      "Step: 17 Loss: 0.857265055179596\n",
      "batch size is not same size as original: 64\n",
      "Iteration: 0 Loss: 0.935332715511322\n",
      "Iteration: 100 Loss: 1.1995798349380493\n",
      "Iteration: 200 Loss: 1.115770697593689\n",
      "batch size is not same size as original: 48\n",
      "Step: 18 Loss: 0.8504969477653503\n",
      "batch size is not same size as original: 64\n",
      "Iteration: 0 Loss: 0.9120423793792725\n",
      "Iteration: 100 Loss: 1.1929758787155151\n",
      "Iteration: 200 Loss: 1.1283482313156128\n",
      "batch size is not same size as original: 48\n",
      "Step: 19 Loss: 0.8244203925132751\n"
     ]
    }
   ],
   "source": [
    "display_step = 100\n",
    "training_steps = 20\n",
    "for step in range(training_steps):\n",
    "# for step in tqdm(range(training_steps)):\n",
    "    for i, (data,target) in enumerate(train_loader):\n",
    "        data, target = torch.autograd.Variable(data.long().cuda()), torch.autograd.Variable(target.long().cuda())\n",
    "        m.zero_grad()\n",
    "        forward = m(data)\n",
    "        loss = loss_fn(forward, target.view(-1))\n",
    "        loss.backward()\n",
    "        train_op.step()\n",
    "        if (i % display_step == 0):\n",
    "            print(f'Iteration: {i} Loss: {loss.data[0]}')\n",
    "    print(f'Step: {step} Loss: {loss.data[0]}')"
   ]
  },
  {
   "cell_type": "markdown",
   "metadata": {},
   "source": [
    "### Saving model"
   ]
  },
  {
   "cell_type": "code",
   "execution_count": 80,
   "metadata": {},
   "outputs": [],
   "source": [
    "model_path = f'{OUT_DIR}/../models/bachbot_multioutput_rnn.h5'"
   ]
  },
  {
   "cell_type": "code",
   "execution_count": 81,
   "metadata": {},
   "outputs": [],
   "source": [
    "torch.save(m.state_dict(), model_path)"
   ]
  },
  {
   "cell_type": "code",
   "execution_count": null,
   "metadata": {},
   "outputs": [],
   "source": [
    "m.load_state_dict(torch.load(model_path))"
   ]
  },
  {
   "cell_type": "markdown",
   "metadata": {},
   "source": [
    "### Generate music"
   ]
  },
  {
   "cell_type": "markdown",
   "metadata": {},
   "source": [
    "Need to have unknown state 0?"
   ]
  },
  {
   "cell_type": "code",
   "execution_count": 64,
   "metadata": {},
   "outputs": [],
   "source": [
    "timesteps = md.timesteps"
   ]
  },
  {
   "cell_type": "code",
   "execution_count": null,
   "metadata": {},
   "outputs": [],
   "source": [
    "rand_"
   ]
  },
  {
   "cell_type": "code",
   "execution_count": 65,
   "metadata": {},
   "outputs": [],
   "source": [
    "gen_song = md.dataset[:timesteps]"
   ]
  },
  {
   "cell_type": "code",
   "execution_count": 66,
   "metadata": {},
   "outputs": [],
   "source": [
    "def generate_sequence(song, seq_length):\n",
    "    full_song = song.tolist()\n",
    "    # generate music!\n",
    "    m.init_hidden(batch_size)\n",
    "    for i in range(seq_length):\n",
    "        seed = np.array([full_song[-timesteps:]])\n",
    "        # Use our RNN for prediction using our seed! \n",
    "        seed_v = torch.autograd.Variable(torch.from_numpy(seed).long()).cuda()\n",
    "    #     seed_v = torch.autograd.Variable(torch.from_numpy(np.argmax(seed, axis=1)).long()).cuda() # for onehot\n",
    "        predict_probs = m(seed_v)\n",
    "\n",
    "#         percentage_prob = torch.exp(predict_probs)\n",
    "        # Define output vector for our generated song by sampling from our predicted probability distribution\n",
    "        \n",
    "    #     sampled_note = np.random.choice(range(md.vocab_size), p=percentage_prob[0]) # TODO\n",
    "#         sampled_note = np.argmax(percentage_prob)\n",
    "    #     print('Sampled_note:', sampled_note)\n",
    "        \n",
    "        # With multi output model, use only the last prediction. As it is predicting to n timesteps\n",
    "        v, idx = torch.max(torch.exp(predict_probs[-1]), 0)\n",
    "        full_song.append(idx.data[0])\n",
    "    return full_song\n",
    "    \n"
   ]
  },
  {
   "cell_type": "code",
   "execution_count": 67,
   "metadata": {},
   "outputs": [],
   "source": [
    "import decode"
   ]
  },
  {
   "cell_type": "code",
   "execution_count": 68,
   "metadata": {},
   "outputs": [],
   "source": [
    "def decode_output(output_idx):\n",
    "    idx2token = md.concat_json['idx_to_token']\n",
    "    token_list = list(map(lambda x: idx2token.get(str(x), ''), output_idx))\n",
    "    return decode_token(token_list)\n",
    "\n",
    "def decode_token(token_list):\n",
    "    if (token_list[0] != START_DELIM):\n",
    "        token_list.insert(0, START_DELIM)\n",
    "    token_str = ''.join(token_list)\n",
    "    with open(f'{SCRATCH_DIR}/utf_to_txt.json', 'r') as f:\n",
    "        utf_to_txt = json.load(f)\n",
    "    score, stream = decode.decode_string(utf_to_txt, token_str)\n",
    "    return token_str, score, stream\n",
    "\n",
    "# test = [idx2token[f'{x}'] for x in seq_arr]; test"
   ]
  },
  {
   "cell_type": "code",
   "execution_count": 69,
   "metadata": {},
   "outputs": [
    {
     "name": "stdout",
     "output_type": "stream",
     "text": [
      "batch size is not same size as original: 1\n"
     ]
    }
   ],
   "source": [
    "song_seed = md.dataset[:md.timesteps]\n",
    "generated_idxs = generate_sequence(song_seed, 500)"
   ]
  },
  {
   "cell_type": "code",
   "execution_count": 74,
   "metadata": {},
   "outputs": [],
   "source": [
    "token_str, score, stream = decode_output(song_seed)"
   ]
  },
  {
   "cell_type": "code",
   "execution_count": 75,
   "metadata": {},
   "outputs": [
    {
     "data": {
      "image/png": "[encoded data removed]",
      "text/plain": [
       "<IPython.core.display.Image object>"
      ]
     },
     "metadata": {
      "image/png": {
       "height": 68,
       "width": 230
      }
     },
     "output_type": "display_data"
    }
   ],
   "source": [
    "stream.show()"
   ]
  },
  {
   "cell_type": "code",
   "execution_count": 70,
   "metadata": {},
   "outputs": [
    {
     "name": "stderr",
     "output_type": "stream",
     "text": [
      "/home/paperspace/music_rnn/bachbot/decode.py:133: Music21DeprecationWarning: Note._setMidi was deprecated on May 2014 and will disappear at or after September 2017, v.5. use pitch.midi instead\n",
      "  note.midi = note_tuple[0]\n"
     ]
    }
   ],
   "source": [
    "token_str, score, stream = decode_output(generated_idxs)"
   ]
  },
  {
   "cell_type": "code",
   "execution_count": 71,
   "metadata": {},
   "outputs": [
    {
     "data": {
      "text/plain": [
       "'їPÿ\\x07{\\x919\\x05)\\x1c\\x91\\x91\\x91Ûÿ+è\\x91¤\\x05ÐÈ\\x91¤\\x05ÐÈ\\x91P\\x05\\x9eí\\x919\\x05ï\\x9a\\x919\\x05ïè\\x919\\x05ïÈ\\x91Pÿ\\x9eí\\x919\\x05ï\\x9a\\x919\\x05ï\\x9a\\x919\\x05ï\\x9a\\x919\\x05ï\\x9a\\x91Å\\x05îè\\x91F\\x05ÕÈ\\x91\\x91\\x91P,t~\\x919àæB\\x919àæB\\x919àæB\\x91ÅàæB\\x91þÿ{\\x91ç\\x05\\x1c\\x91ç,\\x1c\\x91çà\\x1c\\x91áî\\x1c\\x9d\\x91\\x17Õã}\\x91\\x17ÕH}\\x91\\x17Õã}\\x91\\x84þÒHí\\x91\\x84çêã\\x9a\\x91\\x84\\x91\\x84\\x91\\x84\\x91\\x84\\x91\\x84\\x91\\x84\\x91\\x84\\x91\\x84\\x91\\x84\\x91\\x84\\x91\\x84\\x91\\x84\\x91\\x84\\x91\\x84\\x91\\x84\\x91\\x84\\x91\\x84\\x91\\x84\\x91\\x84\\x91\\x84\\x91\\x84\\x91\\x84\\x91\\x84\\x91\\x84\\x91\\x84\\x91\\x84\\x91\\x84\\x91\\x84\\x91\\x84\\x91\\x84\\x91\\x84\\x91\\x84\\x91\\x84\\x91\\x84\\x91\\x84\\x91\\x84\\x91\\x84\\x91\\x84\\x91\\x84\\x91\\x84\\x91\\x84\\x91\\x84\\x91\\x84\\x91\\x84\\x91\\x84\\x91\\x84\\x91\\x84\\x91\\x84\\x91\\x84\\x91\\x84\\x91\\x84\\x91\\x84\\x91\\x84\\x91\\x84\\x91\\x84\\x91\\x84\\x91\\x84\\x91\\x84\\x91\\x84\\x91\\x84\\x91\\x84\\x91\\x84\\x91\\x84\\x91\\x84\\x91\\x84\\x91\\x84\\x91\\x84\\x91\\x84\\x91\\x84\\x91\\x84\\x91\\x84\\x91\\x84\\x91\\x84\\x91\\x84\\x91\\x84\\x91\\x84\\x91\\x84\\x91\\x84\\x91\\x84\\x91\\x84\\x91\\x84\\x91\\x84\\x91\\x84\\x91\\x84\\x91\\x84\\x91\\x84\\x91\\x84\\x91\\x84\\x91\\x84\\x91\\x84\\x91\\x84\\x91\\x84\\x91\\x84\\x91\\x84\\x91\\x84\\x91\\x84\\x91\\x84\\x91\\x84\\x91\\x84\\x91\\x84\\x91\\x84\\x91\\x84\\x91\\x84\\x91\\x84\\x91\\x84\\x91\\x84\\x91\\x84\\x91\\x84\\x91\\x84\\x91\\x84\\x91\\x84\\x91\\x84\\x91\\x84\\x91\\x84\\x91\\x84\\x91\\x84\\x91\\x84\\x91\\x84\\x91\\x84\\x91\\x84\\x91\\x84\\x91\\x84\\x91\\x84\\x91\\x84\\x91\\x84\\x91\\x84\\x91\\x84\\x91\\x84\\x91\\x84\\x91\\x84\\x91\\x84\\x91\\x84\\x91\\x84\\x91\\x84\\x91\\x84\\x91\\x84\\x91\\x84\\x91\\x84\\x91\\x84\\x91\\x84\\x91\\x84\\x91\\x84\\x91\\x84\\x91\\x84\\x91\\x84\\x91\\x84\\x91\\x84\\x91\\x84\\x91\\x84\\x91\\x84\\x91\\x84\\x91\\x84\\x91\\x84\\x91\\x84\\x91\\x84\\x91\\x84\\x91\\x84\\x91\\x84\\x91\\x84\\x91\\x84\\x91\\x84\\x91\\x84\\x91\\x84\\x91\\x84\\x91\\x84\\x91\\x84\\x91\\x84\\x91\\x84\\x91\\x84\\x91\\x84\\x91\\x84\\x91\\x84\\x91\\x84\\x91\\x84\\x91\\x84\\x91\\x84\\x91\\x84\\x91\\x84\\x91\\x84'"
      ]
     },
     "execution_count": 71,
     "metadata": {},
     "output_type": "execute_result"
    }
   ],
   "source": [
    "token_str"
   ]
  },
  {
   "cell_type": "code",
   "execution_count": 72,
   "metadata": {},
   "outputs": [
    {
     "data": {
      "text/plain": [
       "[(False, [(79, False), (72, False), (64, False), (60, False)]),\n",
       " (False, [(79, True), (72, True), (64, True), (60, True)]),\n",
       " (False, []),\n",
       " (False, []),\n",
       " (False, [(81, False), (72, False), (65, False), (53, False)]),\n",
       " (False, [(81, True), (72, True), (65, True), (53, True)]),\n",
       " (False, [(81, True), (72, True), (65, True), (53, True)]),\n",
       " (False, [(79, False), (72, True), (67, False), (52, False)]),\n",
       " (False, [(79, True), (72, True), (67, True), (52, True)]),\n",
       " (False, [(79, True), (72, True), (67, True), (53, False)]),\n",
       " (False, [(79, True), (72, True), (67, True), (53, True)]),\n",
       " (False, [(79, False), (72, False), (67, False), (52, False)]),\n",
       " (False, [(79, True), (72, True), (67, True), (52, True)]),\n",
       " (False, [(79, True), (72, True), (67, True), (52, True)]),\n",
       " (False, [(79, True), (72, True), (67, True), (52, True)]),\n",
       " (False, [(79, True), (72, True), (67, True), (52, True)]),\n",
       " (False, [(77, False), (72, True), (69, False), (53, False)]),\n",
       " (False, [(77, True), (72, True), (69, True), (53, True)]),\n",
       " (False, []),\n",
       " (False, []),\n",
       " (False, [(79, False), (71, False), (62, False), (55, False)]),\n",
       " (False, [(79, True), (71, True), (62, True), (55, True)]),\n",
       " (False, [(79, True), (71, True), (62, True), (55, True)]),\n",
       " (False, [(79, True), (71, True), (62, True), (55, True)]),\n",
       " (False, [(77, False), (71, True), (62, True), (55, True)]),\n",
       " (False, [(76, False), (72, False), (60, False)]),\n",
       " (False, [(76, True), (72, True), (60, True)]),\n",
       " (False, [(76, True), (71, False), (60, True)]),\n",
       " (False, [(76, True), (71, True), (60, True)]),\n",
       " (False, [(74, False), (69, False), (60, True), (54, False)]),\n",
       " (False, [(74, True), (69, True), (59, True), (54, True)]),\n",
       " (False, [(74, True), (69, True), (59, False), (54, True)]),\n",
       " (False, [(74, True), (69, True), (59, True), (54, True)]),\n",
       " (True, [(76, False), (68, False), (59, False), (52, False)]),\n",
       " (True, [(76, True), (68, True), (59, True), (52, True)]),\n",
       " (True, []),\n",
       " (True, []),\n",
       " (True, []),\n",
       " (True, []),\n",
       " (True, []),\n",
       " (True, []),\n",
       " (True, []),\n",
       " (True, []),\n",
       " (True, []),\n",
       " (True, []),\n",
       " (True, []),\n",
       " (True, []),\n",
       " (True, []),\n",
       " (True, []),\n",
       " (True, []),\n",
       " (True, []),\n",
       " (True, []),\n",
       " (True, []),\n",
       " (True, []),\n",
       " (True, []),\n",
       " (True, []),\n",
       " (True, []),\n",
       " (True, []),\n",
       " (True, []),\n",
       " (True, []),\n",
       " (True, []),\n",
       " (True, []),\n",
       " (True, []),\n",
       " (True, []),\n",
       " (True, []),\n",
       " (True, []),\n",
       " (True, []),\n",
       " (True, []),\n",
       " (True, []),\n",
       " (True, []),\n",
       " (True, []),\n",
       " (True, []),\n",
       " (True, []),\n",
       " (True, []),\n",
       " (True, []),\n",
       " (True, []),\n",
       " (True, []),\n",
       " (True, []),\n",
       " (True, []),\n",
       " (True, []),\n",
       " (True, []),\n",
       " (True, []),\n",
       " (True, []),\n",
       " (True, []),\n",
       " (True, []),\n",
       " (True, []),\n",
       " (True, []),\n",
       " (True, []),\n",
       " (True, []),\n",
       " (True, []),\n",
       " (True, []),\n",
       " (True, []),\n",
       " (True, []),\n",
       " (True, []),\n",
       " (True, []),\n",
       " (True, []),\n",
       " (True, []),\n",
       " (True, []),\n",
       " (True, []),\n",
       " (True, []),\n",
       " (True, []),\n",
       " (True, []),\n",
       " (True, []),\n",
       " (True, []),\n",
       " (True, []),\n",
       " (True, []),\n",
       " (True, []),\n",
       " (True, []),\n",
       " (True, []),\n",
       " (True, []),\n",
       " (True, []),\n",
       " (True, []),\n",
       " (True, []),\n",
       " (True, []),\n",
       " (True, []),\n",
       " (True, []),\n",
       " (True, []),\n",
       " (True, []),\n",
       " (True, []),\n",
       " (True, []),\n",
       " (True, []),\n",
       " (True, []),\n",
       " (True, []),\n",
       " (True, []),\n",
       " (True, []),\n",
       " (True, []),\n",
       " (True, []),\n",
       " (True, []),\n",
       " (True, []),\n",
       " (True, []),\n",
       " (True, []),\n",
       " (True, []),\n",
       " (True, []),\n",
       " (True, []),\n",
       " (True, []),\n",
       " (True, []),\n",
       " (True, []),\n",
       " (True, []),\n",
       " (True, []),\n",
       " (True, []),\n",
       " (True, []),\n",
       " (True, []),\n",
       " (True, []),\n",
       " (True, []),\n",
       " (True, []),\n",
       " (True, []),\n",
       " (True, []),\n",
       " (True, []),\n",
       " (True, []),\n",
       " (True, []),\n",
       " (True, []),\n",
       " (True, []),\n",
       " (True, []),\n",
       " (True, []),\n",
       " (True, []),\n",
       " (True, []),\n",
       " (True, []),\n",
       " (True, []),\n",
       " (True, []),\n",
       " (True, []),\n",
       " (True, []),\n",
       " (True, []),\n",
       " (True, []),\n",
       " (True, []),\n",
       " (True, []),\n",
       " (True, []),\n",
       " (True, []),\n",
       " (True, []),\n",
       " (True, []),\n",
       " (True, []),\n",
       " (True, []),\n",
       " (True, []),\n",
       " (True, []),\n",
       " (True, []),\n",
       " (True, []),\n",
       " (True, []),\n",
       " (True, []),\n",
       " (True, []),\n",
       " (True, []),\n",
       " (True, []),\n",
       " (True, []),\n",
       " (True, []),\n",
       " (True, []),\n",
       " (True, []),\n",
       " (True, []),\n",
       " (True, []),\n",
       " (True, []),\n",
       " (True, []),\n",
       " (True, []),\n",
       " (True, []),\n",
       " (True, []),\n",
       " (True, []),\n",
       " (True, []),\n",
       " (True, []),\n",
       " (True, []),\n",
       " (True, []),\n",
       " (True, []),\n",
       " (True, []),\n",
       " (True, []),\n",
       " (True, []),\n",
       " (True, []),\n",
       " (True, []),\n",
       " (True, []),\n",
       " (True, []),\n",
       " (True, []),\n",
       " (True, []),\n",
       " (True, []),\n",
       " (True, []),\n",
       " (True, []),\n",
       " (True, []),\n",
       " (True, []),\n",
       " (True, []),\n",
       " (True, [])]"
      ]
     },
     "execution_count": 72,
     "metadata": {},
     "output_type": "execute_result"
    }
   ],
   "source": [
    "score"
   ]
  },
  {
   "cell_type": "markdown",
   "metadata": {},
   "source": [
    "### For testing stuff"
   ]
  },
  {
   "cell_type": "code",
   "execution_count": null,
   "metadata": {},
   "outputs": [],
   "source": [
    "with open(f'{SCRATCH_DIR}/utf_to_txt.json', 'r') as f:\n",
    "    utf_to_txt = json.load(f)"
   ]
  },
  {
   "cell_type": "code",
   "execution_count": null,
   "metadata": {},
   "outputs": [],
   "source": [
    "test_str = train_contents[:200]"
   ]
  },
  {
   "cell_type": "code",
   "execution_count": null,
   "metadata": {},
   "outputs": [],
   "source": [
    "test_str = open(f'{SCRATCH_DIR}/BWV-400-nomask-fermatas.utf', 'r').read()[:200]"
   ]
  },
  {
   "cell_type": "code",
   "execution_count": null,
   "metadata": {},
   "outputs": [],
   "source": [
    "token_str, score, stream = decode_token(test_str)"
   ]
  },
  {
   "cell_type": "code",
   "execution_count": null,
   "metadata": {},
   "outputs": [],
   "source": [
    "stream.elements[:10]"
   ]
  },
  {
   "cell_type": "markdown",
   "metadata": {},
   "source": [
    "### Evaluate stream"
   ]
  },
  {
   "cell_type": "code",
   "execution_count": 73,
   "metadata": {},
   "outputs": [
    {
     "data": {
      "image/png": "[encoded data removed]",
      "text/plain": [
       "<IPython.core.display.Image object>"
      ]
     },
     "metadata": {
      "image/png": {
       "height": 590,
       "width": 753
      }
     },
     "output_type": "display_data"
    }
   ],
   "source": [
    "stream.show()"
   ]
  },
  {
   "cell_type": "code",
   "execution_count": null,
   "metadata": {},
   "outputs": [],
   "source": [
    "fp = stream.write('midi', fp=f'{OUT_DIR}/testout.midi')"
   ]
  },
  {
   "cell_type": "code",
   "execution_count": 90,
   "metadata": {},
   "outputs": [],
   "source": [
    "fp = stream.write('xml', fp=f'{OUT_DIR}/testout2.xml')"
   ]
  },
  {
   "cell_type": "code",
   "execution_count": 91,
   "metadata": {},
   "outputs": [
    {
     "data": {
      "text/html": [
       "<a href='../data/bachbot/out/testout2.xml' target='_blank'>../data/bachbot/out/testout2.xml</a><br>"
      ],
      "text/plain": [
       "/home/paperspace/music_rnn/data/bachbot/out/testout2.xml"
      ]
     },
     "execution_count": 91,
     "metadata": {},
     "output_type": "execute_result"
    }
   ],
   "source": [
    "from IPython.lib.display import FileLink\n",
    "FileLink('../data/bachbot/out/testout2.xml')"
   ]
  },
  {
   "cell_type": "code",
   "execution_count": null,
   "metadata": {},
   "outputs": [],
   "source": []
  }
 ],
 "metadata": {
  "kernelspec": {
   "display_name": "Python 3",
   "language": "python",
   "name": "python3"
  },
  "language_info": {
   "codemirror_mode": {
    "name": "ipython",
    "version": 3
   },
   "file_extension": ".py",
   "mimetype": "text/x-python",
   "name": "python",
   "nbconvert_exporter": "python",
   "pygments_lexer": "ipython3",
   "version": "3.6.4"
  }
 },
 "nbformat": 4,
 "nbformat_minor": 2
}
