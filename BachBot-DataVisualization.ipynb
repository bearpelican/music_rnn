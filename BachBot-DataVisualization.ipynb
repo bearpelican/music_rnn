{
 "cells": [
  {
   "cell_type": "code",
   "execution_count": 2,
   "metadata": {},
   "outputs": [],
   "source": [
    "%reload_ext autoreload\n",
    "%autoreload 2\n",
    "%matplotlib inline"
   ]
  },
  {
   "cell_type": "code",
   "execution_count": 7,
   "metadata": {},
   "outputs": [],
   "source": [
    "from music21 import *"
   ]
  },
  {
   "cell_type": "markdown",
   "metadata": {},
   "source": [
    "### Get Bach Chorales Catalog"
   ]
  },
  {
   "cell_type": "code",
   "execution_count": 7,
   "metadata": {},
   "outputs": [],
   "source": [
    "#Filter for every Bach chorale that is in 4/4:\n",
    "catalog = stream.Opus()\n",
    "for workName in corpus.getBachChorales():\n",
    "  work = converter.parse(workName)\n",
    "  firstTS = work.flat.getTimeSignatures()[0]\n",
    "  if firstTS.ratioString == '4/4':\n",
    "    catalog.append(work)"
   ]
  },
  {
   "cell_type": "markdown",
   "metadata": {},
   "source": [
    "### Get from file instead"
   ]
  },
  {
   "cell_type": "code",
   "execution_count": null,
   "metadata": {},
   "outputs": [],
   "source": [
    "catalog = converter.parse('~/Desktop/Score-name.xml')"
   ]
  },
  {
   "cell_type": "markdown",
   "metadata": {},
   "source": [
    "### Plot data"
   ]
  },
  {
   "cell_type": "code",
   "execution_count": 7,
   "metadata": {},
   "outputs": [],
   "source": [
    "#Count usages\n",
    "allbeats = list();\n",
    "for p in catalog.flat.notes:\n",
    "   for counter in range(len(p.pitches)):\n",
    "        allbeats.append(p.beat)"
   ]
  },
  {
   "cell_type": "code",
   "execution_count": 10,
   "metadata": {},
   "outputs": [
    {
     "data": {
      "image/png": "[encoded data removed]",
      "text/plain": [
       "<matplotlib.figure.Figure at 0x7ff3ec682320>"
      ]
     },
     "metadata": {},
     "output_type": "display_data"
    }
   ],
   "source": [
    "#Create the histogram\n",
    "import matplotlib.pyplot as plt\n",
    "import numpy as np\n",
    "plt.hist(allbeats, bins=32, range=(1,5))\n",
    "#plt.title(\"Metrical Position Usage\")\n",
    "plt.xlabel(\"Metrical Position ('crotchet', or '1/4 note')\", fontsize=20)\n",
    "plt.ylabel(\"Frequency of Usage\", fontsize=20)\n",
    "plt.xlim(1,5)\n",
    "plt.xticks(np.arange(1, 5, 1.0))\n",
    "plt.savefig('data/visual/Chorale position usage.png', facecolor='w', edgecolor='w', format='png')\n",
    "plt.show()"
   ]
  },
  {
   "cell_type": "markdown",
   "metadata": {},
   "source": [
    "### Plot histogram Pitch class"
   ]
  },
  {
   "cell_type": "code",
   "execution_count": null,
   "metadata": {},
   "outputs": [],
   "source": [
    "s = converter.parse('~/Desktop/1.xml')\n",
    "\n",
    "p = graph.PlotHistogramPitchClass(s)\n",
    "p.id\n",
    "'histogram-pitchClass'\n",
    "p.process()"
   ]
  },
  {
   "cell_type": "code",
   "execution_count": null,
   "metadata": {},
   "outputs": [],
   "source": []
  }
 ],
 "metadata": {
  "kernelspec": {
   "display_name": "Python 3",
   "language": "python",
   "name": "python3"
  },
  "language_info": {
   "codemirror_mode": {
    "name": "ipython",
    "version": 3
   },
   "file_extension": ".py",
   "mimetype": "text/x-python",
   "name": "python",
   "nbconvert_exporter": "python",
   "pygments_lexer": "ipython3",
   "version": "3.6.4"
  }
 },
 "nbformat": 4,
 "nbformat_minor": 2
}
