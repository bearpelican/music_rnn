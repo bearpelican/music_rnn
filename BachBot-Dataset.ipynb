{
 "cells": [
  {
   "cell_type": "code",
   "execution_count": 1,
   "metadata": {},
   "outputs": [],
   "source": [
    "%reload_ext autoreload\n",
    "%autoreload 2\n",
    "%matplotlib inline"
   ]
  },
  {
   "cell_type": "code",
   "execution_count": 110,
   "metadata": {},
   "outputs": [],
   "source": [
    "import datasets"
   ]
  },
  {
   "cell_type": "code",
   "execution_count": 19,
   "metadata": {},
   "outputs": [],
   "source": [
    "from constants import *"
   ]
  },
  {
   "cell_type": "markdown",
   "metadata": {},
   "source": [
    "### Prepare dataset"
   ]
  },
  {
   "cell_type": "code",
   "execution_count": 149,
   "metadata": {},
   "outputs": [
    {
     "ename": "JSONDecodeError",
     "evalue": "Expecting value: line 1 column 1 (char 0)",
     "output_type": "error",
     "traceback": [
      "\u001b[0;31m---------------------------------------------------------------------------\u001b[0m",
      "\u001b[0;31mJSONDecodeError\u001b[0m                           Traceback (most recent call last)",
      "\u001b[0;32m<ipython-input-149-2133f1276227>\u001b[0m in \u001b[0;36m<module>\u001b[0;34m()\u001b[0m\n\u001b[0;32m----> 1\u001b[0;31m \u001b[0mdatasets\u001b[0m\u001b[0;34m.\u001b[0m\u001b[0mprepare\u001b[0m\u001b[0;34m(\u001b[0m\u001b[0;32mTrue\u001b[0m\u001b[0;34m,\u001b[0m \u001b[0;32mFalse\u001b[0m\u001b[0;34m,\u001b[0m \u001b[0;32mFalse\u001b[0m\u001b[0;34m)\u001b[0m\u001b[0;34m\u001b[0m\u001b[0m\n\u001b[0m",
      "\u001b[0;32m~/music_rnn/datasets.py\u001b[0m in \u001b[0;36mprepare\u001b[0;34m(keep_fermatas, subset, mono, parts_to_mask)\u001b[0m\n\u001b[1;32m     41\u001b[0m         )]\n\u001b[1;32m     42\u001b[0m     \"\"\"\n\u001b[0;32m---> 43\u001b[0;31m     \u001b[0mtxt_to_utf\u001b[0m\u001b[0;34m,\u001b[0m \u001b[0mutf_to_txt\u001b[0m \u001b[0;34m=\u001b[0m \u001b[0mbuild_vocabulary\u001b[0m\u001b[0;34m(\u001b[0m\u001b[0;34m)\u001b[0m\u001b[0;34m\u001b[0m\u001b[0m\n\u001b[0m\u001b[1;32m     44\u001b[0m     \u001b[0mtxt_to_utf\u001b[0m\u001b[0;34m[\u001b[0m\u001b[0mBLANK_MASK_TXT\u001b[0m\u001b[0;34m]\u001b[0m \u001b[0;34m=\u001b[0m \u001b[0mBLANK_MASK_UTF\u001b[0m \u001b[0;31m# don't add to `utf_to_txt` because samples should never contain BLANK_MASK\u001b[0m\u001b[0;34m\u001b[0m\u001b[0m\n\u001b[1;32m     45\u001b[0m \u001b[0;34m\u001b[0m\u001b[0m\n",
      "\u001b[0;32m~/music_rnn/datasets.py\u001b[0m in \u001b[0;36mbuild_vocabulary\u001b[0;34m()\u001b[0m\n\u001b[1;32m    158\u001b[0m     \u001b[0;32mif\u001b[0m \u001b[0mos\u001b[0m\u001b[0;34m.\u001b[0m\u001b[0mpath\u001b[0m\u001b[0;34m.\u001b[0m\u001b[0mexists\u001b[0m\u001b[0;34m(\u001b[0m\u001b[0mSCRATCH_DIR\u001b[0m \u001b[0;34m+\u001b[0m \u001b[0;34m'/utf_to_txt.json'\u001b[0m\u001b[0;34m)\u001b[0m\u001b[0;34m:\u001b[0m\u001b[0;34m\u001b[0m\u001b[0m\n\u001b[1;32m    159\u001b[0m         \u001b[0;32mwith\u001b[0m \u001b[0mopen\u001b[0m\u001b[0;34m(\u001b[0m\u001b[0mSCRATCH_DIR\u001b[0m \u001b[0;34m+\u001b[0m \u001b[0;34m'/utf_to_txt.json'\u001b[0m\u001b[0;34m,\u001b[0m \u001b[0;34m'r'\u001b[0m\u001b[0;34m)\u001b[0m \u001b[0;32mas\u001b[0m \u001b[0mf\u001b[0m\u001b[0;34m:\u001b[0m\u001b[0;34m\u001b[0m\u001b[0m\n\u001b[0;32m--> 160\u001b[0;31m             \u001b[0mutf_to_txt\u001b[0m \u001b[0;34m=\u001b[0m \u001b[0mjson\u001b[0m\u001b[0;34m.\u001b[0m\u001b[0mload\u001b[0m\u001b[0;34m(\u001b[0m\u001b[0mf\u001b[0m\u001b[0;34m)\u001b[0m\u001b[0;34m\u001b[0m\u001b[0m\n\u001b[0m\u001b[1;32m    161\u001b[0m             \u001b[0mtxt_to_utf\u001b[0m \u001b[0;34m=\u001b[0m \u001b[0;34m{\u001b[0m\u001b[0mv\u001b[0m\u001b[0;34m:\u001b[0m\u001b[0mk\u001b[0m \u001b[0;32mfor\u001b[0m \u001b[0mk\u001b[0m\u001b[0;34m,\u001b[0m\u001b[0mv\u001b[0m \u001b[0;32min\u001b[0m \u001b[0mutf_to_txt\u001b[0m\u001b[0;34m.\u001b[0m\u001b[0mitems\u001b[0m\u001b[0;34m(\u001b[0m\u001b[0;34m)\u001b[0m\u001b[0;34m}\u001b[0m\u001b[0;34m\u001b[0m\u001b[0m\n\u001b[1;32m    162\u001b[0m     \u001b[0;32melse\u001b[0m\u001b[0;34m:\u001b[0m\u001b[0;34m\u001b[0m\u001b[0m\n",
      "\u001b[0;32m~/anaconda3/envs/music/lib/python3.6/json/__init__.py\u001b[0m in \u001b[0;36mload\u001b[0;34m(fp, cls, object_hook, parse_float, parse_int, parse_constant, object_pairs_hook, **kw)\u001b[0m\n\u001b[1;32m    297\u001b[0m         \u001b[0mcls\u001b[0m\u001b[0;34m=\u001b[0m\u001b[0mcls\u001b[0m\u001b[0;34m,\u001b[0m \u001b[0mobject_hook\u001b[0m\u001b[0;34m=\u001b[0m\u001b[0mobject_hook\u001b[0m\u001b[0;34m,\u001b[0m\u001b[0;34m\u001b[0m\u001b[0m\n\u001b[1;32m    298\u001b[0m         \u001b[0mparse_float\u001b[0m\u001b[0;34m=\u001b[0m\u001b[0mparse_float\u001b[0m\u001b[0;34m,\u001b[0m \u001b[0mparse_int\u001b[0m\u001b[0;34m=\u001b[0m\u001b[0mparse_int\u001b[0m\u001b[0;34m,\u001b[0m\u001b[0;34m\u001b[0m\u001b[0m\n\u001b[0;32m--> 299\u001b[0;31m         parse_constant=parse_constant, object_pairs_hook=object_pairs_hook, **kw)\n\u001b[0m\u001b[1;32m    300\u001b[0m \u001b[0;34m\u001b[0m\u001b[0m\n\u001b[1;32m    301\u001b[0m \u001b[0;34m\u001b[0m\u001b[0m\n",
      "\u001b[0;32m~/anaconda3/envs/music/lib/python3.6/json/__init__.py\u001b[0m in \u001b[0;36mloads\u001b[0;34m(s, encoding, cls, object_hook, parse_float, parse_int, parse_constant, object_pairs_hook, **kw)\u001b[0m\n\u001b[1;32m    352\u001b[0m             \u001b[0mparse_int\u001b[0m \u001b[0;32mis\u001b[0m \u001b[0;32mNone\u001b[0m \u001b[0;32mand\u001b[0m \u001b[0mparse_float\u001b[0m \u001b[0;32mis\u001b[0m \u001b[0;32mNone\u001b[0m \u001b[0;32mand\u001b[0m\u001b[0;34m\u001b[0m\u001b[0m\n\u001b[1;32m    353\u001b[0m             parse_constant is None and object_pairs_hook is None and not kw):\n\u001b[0;32m--> 354\u001b[0;31m         \u001b[0;32mreturn\u001b[0m \u001b[0m_default_decoder\u001b[0m\u001b[0;34m.\u001b[0m\u001b[0mdecode\u001b[0m\u001b[0;34m(\u001b[0m\u001b[0ms\u001b[0m\u001b[0;34m)\u001b[0m\u001b[0;34m\u001b[0m\u001b[0m\n\u001b[0m\u001b[1;32m    355\u001b[0m     \u001b[0;32mif\u001b[0m \u001b[0mcls\u001b[0m \u001b[0;32mis\u001b[0m \u001b[0;32mNone\u001b[0m\u001b[0;34m:\u001b[0m\u001b[0;34m\u001b[0m\u001b[0m\n\u001b[1;32m    356\u001b[0m         \u001b[0mcls\u001b[0m \u001b[0;34m=\u001b[0m \u001b[0mJSONDecoder\u001b[0m\u001b[0;34m\u001b[0m\u001b[0m\n",
      "\u001b[0;32m~/anaconda3/envs/music/lib/python3.6/json/decoder.py\u001b[0m in \u001b[0;36mdecode\u001b[0;34m(self, s, _w)\u001b[0m\n\u001b[1;32m    337\u001b[0m \u001b[0;34m\u001b[0m\u001b[0m\n\u001b[1;32m    338\u001b[0m         \"\"\"\n\u001b[0;32m--> 339\u001b[0;31m         \u001b[0mobj\u001b[0m\u001b[0;34m,\u001b[0m \u001b[0mend\u001b[0m \u001b[0;34m=\u001b[0m \u001b[0mself\u001b[0m\u001b[0;34m.\u001b[0m\u001b[0mraw_decode\u001b[0m\u001b[0;34m(\u001b[0m\u001b[0ms\u001b[0m\u001b[0;34m,\u001b[0m \u001b[0midx\u001b[0m\u001b[0;34m=\u001b[0m\u001b[0m_w\u001b[0m\u001b[0;34m(\u001b[0m\u001b[0ms\u001b[0m\u001b[0;34m,\u001b[0m \u001b[0;36m0\u001b[0m\u001b[0;34m)\u001b[0m\u001b[0;34m.\u001b[0m\u001b[0mend\u001b[0m\u001b[0;34m(\u001b[0m\u001b[0;34m)\u001b[0m\u001b[0;34m)\u001b[0m\u001b[0;34m\u001b[0m\u001b[0m\n\u001b[0m\u001b[1;32m    340\u001b[0m         \u001b[0mend\u001b[0m \u001b[0;34m=\u001b[0m \u001b[0m_w\u001b[0m\u001b[0;34m(\u001b[0m\u001b[0ms\u001b[0m\u001b[0;34m,\u001b[0m \u001b[0mend\u001b[0m\u001b[0;34m)\u001b[0m\u001b[0;34m.\u001b[0m\u001b[0mend\u001b[0m\u001b[0;34m(\u001b[0m\u001b[0;34m)\u001b[0m\u001b[0;34m\u001b[0m\u001b[0m\n\u001b[1;32m    341\u001b[0m         \u001b[0;32mif\u001b[0m \u001b[0mend\u001b[0m \u001b[0;34m!=\u001b[0m \u001b[0mlen\u001b[0m\u001b[0;34m(\u001b[0m\u001b[0ms\u001b[0m\u001b[0;34m)\u001b[0m\u001b[0;34m:\u001b[0m\u001b[0;34m\u001b[0m\u001b[0m\n",
      "\u001b[0;32m~/anaconda3/envs/music/lib/python3.6/json/decoder.py\u001b[0m in \u001b[0;36mraw_decode\u001b[0;34m(self, s, idx)\u001b[0m\n\u001b[1;32m    355\u001b[0m             \u001b[0mobj\u001b[0m\u001b[0;34m,\u001b[0m \u001b[0mend\u001b[0m \u001b[0;34m=\u001b[0m \u001b[0mself\u001b[0m\u001b[0;34m.\u001b[0m\u001b[0mscan_once\u001b[0m\u001b[0;34m(\u001b[0m\u001b[0ms\u001b[0m\u001b[0;34m,\u001b[0m \u001b[0midx\u001b[0m\u001b[0;34m)\u001b[0m\u001b[0;34m\u001b[0m\u001b[0m\n\u001b[1;32m    356\u001b[0m         \u001b[0;32mexcept\u001b[0m \u001b[0mStopIteration\u001b[0m \u001b[0;32mas\u001b[0m \u001b[0merr\u001b[0m\u001b[0;34m:\u001b[0m\u001b[0;34m\u001b[0m\u001b[0m\n\u001b[0;32m--> 357\u001b[0;31m             \u001b[0;32mraise\u001b[0m \u001b[0mJSONDecodeError\u001b[0m\u001b[0;34m(\u001b[0m\u001b[0;34m\"Expecting value\"\u001b[0m\u001b[0;34m,\u001b[0m \u001b[0ms\u001b[0m\u001b[0;34m,\u001b[0m \u001b[0merr\u001b[0m\u001b[0;34m.\u001b[0m\u001b[0mvalue\u001b[0m\u001b[0;34m)\u001b[0m \u001b[0;32mfrom\u001b[0m \u001b[0;32mNone\u001b[0m\u001b[0;34m\u001b[0m\u001b[0m\n\u001b[0m\u001b[1;32m    358\u001b[0m         \u001b[0;32mreturn\u001b[0m \u001b[0mobj\u001b[0m\u001b[0;34m,\u001b[0m \u001b[0mend\u001b[0m\u001b[0;34m\u001b[0m\u001b[0m\n",
      "\u001b[0;31mJSONDecodeError\u001b[0m: Expecting value: line 1 column 1 (char 0)"
     ]
    }
   ],
   "source": [
    "datasets.prepare(True, False, False)"
   ]
  },
  {
   "cell_type": "code",
   "execution_count": 30,
   "metadata": {},
   "outputs": [],
   "source": [
    "import glob\n",
    "files = glob.glob(f'{SCRATCH_DIR}/*.utf')"
   ]
  },
  {
   "cell_type": "code",
   "execution_count": 132,
   "metadata": {},
   "outputs": [
    {
     "name": "stdout",
     "output_type": "stream",
     "text": [
      "Writing concatenated corpus to /home/paperspace/music_rnn/data/out/concat_corpus.utf\n"
     ]
    }
   ],
   "source": [
    "files = glob.glob(f'{SCRATCH_DIR}/BWV-*nomask*fermatas.utf')\n",
    "datasets.concatenate_corpus(files, open(f'{OUT_DIR}/concat_corpus.utf', 'w'))"
   ]
  },
  {
   "cell_type": "code",
   "execution_count": 112,
   "metadata": {},
   "outputs": [],
   "source": [
    "fb = open(files[0], 'rb').read()"
   ]
  },
  {
   "cell_type": "code",
   "execution_count": null,
   "metadata": {},
   "outputs": [],
   "source": [
    "open(f'{OUT_DIR}/concat_corpus.utf', 'r').read()"
   ]
  },
  {
   "cell_type": "code",
   "execution_count": 150,
   "metadata": {},
   "outputs": [
    {
     "name": "stdout",
     "output_type": "stream",
     "text": [
      "Writing vocabulary to /home/paperspace/music_rnn/data/scratch/utf_to_txt.json\n"
     ]
    }
   ],
   "source": [
    "txt_to_utf, utf_to_txt = datasets.build_vocabulary()"
   ]
  },
  {
   "cell_type": "code",
   "execution_count": 134,
   "metadata": {},
   "outputs": [
    {
     "data": {
      "text/plain": [
       "['START',\n",
       " '(79, False)',\n",
       " '(72, False)',\n",
       " '(64, False)',\n",
       " '(60, False)',\n",
       " '|||',\n",
       " '(79, True)',\n",
       " '(72, True)',\n",
       " '(64, True)',\n",
       " '(60, True)']"
      ]
     },
     "execution_count": 134,
     "metadata": {},
     "output_type": "execute_result"
    }
   ],
   "source": [
    "# datasets.to_text_from_utf(utf_to_txt, files[0])\n",
    "datasets.to_text_from_utf(utf_to_txt, f'{OUT_DIR}/concat_corpus.utf')[:10]"
   ]
  },
  {
   "cell_type": "markdown",
   "metadata": {},
   "source": [
    "### Create h5 model?"
   ]
  },
  {
   "cell_type": "code",
   "execution_count": 66,
   "metadata": {},
   "outputs": [],
   "source": [
    "import torch_rnn"
   ]
  },
  {
   "cell_type": "code",
   "execution_count": 68,
   "metadata": {},
   "outputs": [
    {
     "name": "stdout",
     "output_type": "stream",
     "text": [
      "Processing corpus at: /home/paperspace/music_rnn/data/out/concat_corpus.txt\n",
      "Outputting to: /home/paperspace/music_rnn/data/out/concat_corpus{h5,json}\n"
     ]
    }
   ],
   "source": [
    "torch_rnn.make_h5(open(f'{OUT_DIR}/concat_corpus.txt', 'rb'), f'{OUT_DIR}')"
   ]
  },
  {
   "cell_type": "markdown",
   "metadata": {},
   "source": [
    "### Decode"
   ]
  },
  {
   "cell_type": "code",
   "execution_count": 135,
   "metadata": {},
   "outputs": [],
   "source": [
    "import decode"
   ]
  },
  {
   "cell_type": "code",
   "execution_count": 154,
   "metadata": {},
   "outputs": [
    {
     "ename": "AttributeError",
     "evalue": "'filter' object has no attribute 'split'",
     "output_type": "error",
     "traceback": [
      "\u001b[0;31m---------------------------------------------------------------------------\u001b[0m",
      "\u001b[0;31mAttributeError\u001b[0m                            Traceback (most recent call last)",
      "\u001b[0;32m<ipython-input-154-a39b70d3a236>\u001b[0m in \u001b[0;36m<module>\u001b[0;34m()\u001b[0m\n\u001b[1;32m      1\u001b[0m \u001b[0;32mwith\u001b[0m \u001b[0mopen\u001b[0m\u001b[0;34m(\u001b[0m\u001b[0;34mf'{SCRATCH_DIR}/utf_to_txt.json'\u001b[0m\u001b[0;34m,\u001b[0m \u001b[0;34m'r'\u001b[0m\u001b[0;34m)\u001b[0m \u001b[0;32mas\u001b[0m \u001b[0mf\u001b[0m\u001b[0;34m:\u001b[0m\u001b[0;34m\u001b[0m\u001b[0m\n\u001b[0;32m----> 2\u001b[0;31m     \u001b[0mdecode\u001b[0m\u001b[0;34m.\u001b[0m\u001b[0msampled_stream\u001b[0m\u001b[0;34m(\u001b[0m\u001b[0mf\u001b[0m\u001b[0;34m,\u001b[0m \u001b[0;34mf'{OUT_DIR}/concat_corpus.utf'\u001b[0m\u001b[0;34m,\u001b[0m \u001b[0;34mf'{OUT_DIR}/'\u001b[0m\u001b[0;34m,\u001b[0m \u001b[0;36m100\u001b[0m\u001b[0;34m,\u001b[0m \u001b[0;36m400\u001b[0m\u001b[0;34m)\u001b[0m\u001b[0;34m\u001b[0m\u001b[0m\n\u001b[0m",
      "\u001b[0;32m~/music_rnn/decode.py\u001b[0m in \u001b[0;36msampled_stream\u001b[0;34m(utf_to_txt_json, utf8_file, out_dir, min_length, max_length)\u001b[0m\n\u001b[1;32m     36\u001b[0m     \u001b[0mutf_to_txt\u001b[0m \u001b[0;34m=\u001b[0m \u001b[0mjson\u001b[0m\u001b[0;34m.\u001b[0m\u001b[0mload\u001b[0m\u001b[0;34m(\u001b[0m\u001b[0mutf_to_txt_json\u001b[0m\u001b[0;34m)\u001b[0m\u001b[0;34m\u001b[0m\u001b[0m\n\u001b[1;32m     37\u001b[0m     \u001b[0mutf_data\u001b[0m \u001b[0;34m=\u001b[0m \u001b[0mfilter\u001b[0m\u001b[0;34m(\u001b[0m\u001b[0;32mlambda\u001b[0m \u001b[0mx\u001b[0m\u001b[0;34m:\u001b[0m \u001b[0mx\u001b[0m \u001b[0;34m!=\u001b[0m \u001b[0;34mu'\\n'\u001b[0m\u001b[0;34m,\u001b[0m \u001b[0mcodecs\u001b[0m\u001b[0;34m.\u001b[0m\u001b[0mopen\u001b[0m\u001b[0;34m(\u001b[0m\u001b[0mutf8_file\u001b[0m\u001b[0;34m,\u001b[0m \u001b[0;34m\"r\"\u001b[0m\u001b[0;34m,\u001b[0m \u001b[0;34m\"utf-8\"\u001b[0m\u001b[0;34m)\u001b[0m\u001b[0;34m.\u001b[0m\u001b[0mread\u001b[0m\u001b[0;34m(\u001b[0m\u001b[0;34m)\u001b[0m\u001b[0;34m)\u001b[0m\u001b[0;34m\u001b[0m\u001b[0m\n\u001b[0;32m---> 38\u001b[0;31m     \u001b[0mutf_scores\u001b[0m \u001b[0;34m=\u001b[0m \u001b[0mutf_data\u001b[0m\u001b[0;34m.\u001b[0m\u001b[0msplit\u001b[0m\u001b[0;34m(\u001b[0m\u001b[0mSTART_DELIM\u001b[0m\u001b[0;34m)\u001b[0m\u001b[0;34m[\u001b[0m\u001b[0;36m1\u001b[0m\u001b[0;34m:\u001b[0m\u001b[0;34m]\u001b[0m \u001b[0;31m# [1:] ignores first START_DELIM\u001b[0m\u001b[0;34m\u001b[0m\u001b[0m\n\u001b[0m\u001b[1;32m     39\u001b[0m \u001b[0;34m\u001b[0m\u001b[0m\n\u001b[1;32m     40\u001b[0m     \u001b[0mi\u001b[0m \u001b[0;34m=\u001b[0m \u001b[0;36m0\u001b[0m\u001b[0;34m\u001b[0m\u001b[0m\n",
      "\u001b[0;31mAttributeError\u001b[0m: 'filter' object has no attribute 'split'"
     ]
    }
   ],
   "source": [
    "with open(f'{SCRATCH_DIR}/utf_to_txt.json', 'r') as f:\n",
    "    decode.sampled_stream(f, f'{OUT_DIR}/concat_corpus.utf', f'{OUT_DIR}/', 100, 400)"
   ]
  },
  {
   "cell_type": "code",
   "execution_count": 139,
   "metadata": {},
   "outputs": [],
   "source": [
    "import json"
   ]
  },
  {
   "cell_type": "code",
   "execution_count": 153,
   "metadata": {},
   "outputs": [
    {
     "name": "stdout",
     "output_type": "stream",
     "text": [
      "{\"\\u0000\": \"(124, True)\", \"\\u0001\": \"(41, False)\", \"\\u0002\": \"(95, True)\", \"\\u0003\": \"(59, False)\", \"\\u0004\": \"(110, False)\", \"\\u0005\": \"(47, False)\", \"\\u0006\": \"(116, True)\", \"\\u0007\": \"(99, False)\", \"\\b\": \"(33, True)\", \"\\t\": \"(97, True)\", \"\\n\": \"(2, True)\", \"\\u000b\": \"(58, True)\", \"\\f\": \"(48, False)\", \"\\r\": \"(103, True)\", \"\\u000e\": \"(85, True)\", \"\\u000f\": \"(57, False)\", \"\\u0010\": \"(101, True)\", \"\\u0011\": \"(72, False)\", \"\\u0012\": \"(28, False)\", \"\\u0013\": \"(120, True)\", \"\\u0014\": \"(23, False)\", \"\\u0015\": \"(43, True)\", \"\\u0016\": \"(35, False)\", \"\\u0017\": \"(92, True)\", \"\\u0018\": \"(118, True)\", \"\\u0019\": \"(69, False)\", \"\\u001a\": \"(50, True)\", \"\\u001b\": \"(13, True)\", \"\\u001c\": \"(127, True)\", \"\\u001d\": \"(43, False)\", \"\\u001e\": \"(55, False)\", \"\\u001f\": \"(57, True)\", \" \": \"(111, True)\", \"!\": \"(60, False)\", \"\\\"\": \"(.)\", \"#\": \"(115, False)\", \"$\": \"(102, False)\", \"%\": \"(14, True)\", \"&\": \"(108, True)\", \"'\": \"(85, False)\", \"(\": \"(89, False)\", \")\": \"(24, False)\", \"*\": \"(52, False)\", \"+\": \"(75, True)\", \",\": \"(86, True)\", \"-\": \"(2, False)\", \".\": \"(20, True)\", \"/\": \"(109, True)\", \"0\": \"(8, False)\", \"1\": \"(94, False)\", \"2\": \"(44, False)\", \"3\": \"(122, True)\", \"4\": \"(18, False)\", \"5\": \"(67, True)\", \"6\": \"(20, False)\", \"7\": \"(29, False)\", \"8\": \"(67, False)\", \"9\": \"(16, False)\", \":\": \"(91, False)\", \";\": \"(17, True)\", \"<\": \"(111, False)\", \"=\": \"(87, False)\", \">\": \"(27, True)\", \"?\": \"(62, False)\", \"@\": \"(23, True)\", \"A\": \"(87, True)\", \"B\": \"(59, True)\", \"C\": \"(19, True)\", \"D\": \"(49, True)\", \"E\": \"(19, False)\", \"F\": \"(32, True)\", \"G\": \"(46, False)\", \"H\": \"(90, False)\", \"I\": \"(108, False)\", \"J\": \"(66, False)\", \"K\": \"(81, True)\", \"L\": \"(33, False)\", \"M\": \"(104, False)\", \"N\": \"(102, True)\", \"O\": \"(110, True)\", \"P\": \"(63, True)\", \"Q\": \"(79, False)\", \"R\": \"(68, True)\", \"S\": \"(96, False)\", \"T\": \"(90, True)\", \"U\": \"(109, False)\", \"V\": \"(11, False)\", \"W\": \"(112, False)\", \"X\": \"(123, False)\", \"Y\": \"(39, False)\", \"Z\": \"(50, False)\", \"[\": \"(119, False)\", \"\\\\\": \"(49, False)\", \"]\": \"(124, False)\", \"^\": \"(121, False)\", \"_\": \"(16, True)\", \"`\": \"(25, True)\", \"a\": \"(61, True)\", \"b\": \"(54, True)\", \"c\": \"(77, True)\", \"d\": \"(98, False)\", \"e\": \"(74, False)\", \"f\": \"(95, False)\", \"g\": \"(53, False)\", \"h\": \"(4, False)\", \"i\": \"(126, True)\", \"j\": \"(68, False)\", \"k\": \"(75, False)\", \"l\": \"(60, True)\", \"m\": \"(101, False)\", \"n\": \"(61, False)\", \"o\": \"(120, False)\", \"p\": \"(6, True)\", \"q\": \"(36, False)\", \"r\": \"(12, False)\", \"s\": \"(127, False)\", \"t\": \"(42, False)\", \"u\": \"(104, True)\", \"v\": \"(64, False)\", \"w\": \"(41, True)\", \"x\": \"(25, False)\", \"y\": \"(71, False)\", \"z\": \"(81, False)\", \"{\": \"(44, True)\", \"|\": \"(112, True)\", \"}\": \"(22, False)\", \"~\": \"(38, False)\", \"\\u007f\": \"(73, False)\", \"\\u0080\": \"(64, True)\", \"\\u0081\": \"(30, True)\", \"\\u0082\": \"(125, True)\", \"\\u0083\": \"(107, True)\", \"\\u0084\": \"(65, True)\", \"\\u0085\": \"(5, False)\", \"\\u0086\": \"(10, False)\", \"\\u0087\": \"(31, False)\", \"\\u0088\": \"(34, False)\", \"\\u0089\": \"(121, True)\", \"\\u008a\": \"(78, False)\", \"\\u008b\": \"(88, True)\", \"\\u008c\": \"(70, False)\", \"\\u008d\": \"(52, True)\", \"\\u008e\": \"(47, True)\", \"\\u008f\": \"(92, False)\", \"\\u0090\": \"(26, False)\", \"\\u0091\": \"(53, True)\", \"\\u0092\": \"(97, False)\", \"\\u0093\": \"(76, True)\", \"\\u0094\": \"(73, True)\", \"\\u0095\": \"(83, True)\", \"\\u0096\": \"(126, False)\", \"\\u0097\": \"(118, False)\", \"\\u0098\": \"(35, True)\", \"\\u0099\": \"(15, True)\", \"\\u009a\": \"(115, True)\", \"\\u009b\": \"(84, False)\", \"\\u009c\": \"(56, True)\", \"\\u009d\": \"(40, False)\", \"\\u009e\": \"(24, True)\", \"\\u009f\": \"(12, True)\", \"\\u00a0\": \"(88, False)\", \"\\u00a1\": \"(116, False)\", \"\\u00a2\": \"(96, True)\", \"\\u00a3\": \"(58, False)\", \"\\u00a4\": \"(18, True)\", \"\\u00a5\": \"(99, True)\", \"\\u00a6\": \"(0, False)\", \"\\u00a7\": \"(21, True)\", \"\\u00a8\": \"(17, False)\", \"\\u00a9\": \"(10, True)\", \"\\u00aa\": \"(114, True)\", \"\\u00ab\": \"(113, False)\", \"\\u00ac\": \"(117, True)\", \"\\u00ad\": \"(84, True)\", \"\\u00ae\": \"(62, True)\", \"\\u00af\": \"(21, False)\", \"\\u00b0\": \"(29, True)\", \"\\u00b1\": \"(113, True)\", \"\\u00b2\": \"(70, True)\", \"\\u00b3\": \"(7, False)\", \"\\u00b4\": \"(30, False)\", \"\\u00b5\": \"(36, True)\", \"\\u00b6\": \"(4, True)\", \"\\u00b7\": \"(8, True)\", \"\\u00b8\": \"(34, True)\", \"\\u00b9\": \"(71, True)\", \"\\u00ba\": \"(69, True)\", \"\\u00bb\": \"(13, False)\", \"\\u00bc\": \"(55, True)\", \"\\u00bd\": \"(46, True)\", \"\\u00be\": \"(65, False)\", \"\\u00bf\": \"(83, False)\", \"\\u00c0\": \"(103, False)\", \"\\u00c1\": \"(119, True)\", \"\\u00c2\": \"(54, False)\", \"\\u00c3\": \"(7, True)\", \"\\u00c4\": \"(9, False)\", \"\\u00c5\": \"(15, False)\", \"\\u00c6\": \"|||\", \"\\u00c7\": \"(56, False)\", \"\\u00c8\": \"(79, True)\", \"\\u00c9\": \"(51, False)\", \"\\u00ca\": \"(5, True)\", \"\\u00cb\": \"(11, True)\", \"\\u00cc\": \"(40, True)\", \"\\u00cd\": \"(0, True)\", \"\\u00ce\": \"(91, True)\", \"\\u00cf\": \"(122, False)\", \"\\u00d0\": \"(38, True)\", \"\\u00d1\": \"(80, True)\", \"\\u00d2\": \"(98, True)\", \"\\u00d3\": \"(6, False)\", \"\\u00d4\": \"(22, True)\", \"\\u00d5\": \"(123, True)\", \"\\u00d6\": \"(9, True)\", \"\\u00d7\": \"(1, False)\", \"\\u00d8\": \"(48, True)\", \"\\u00d9\": \"(114, False)\", \"\\u00da\": \"(74, True)\", \"\\u00db\": \"(31, True)\", \"\\u00dc\": \"(26, True)\", \"\\u00dd\": \"(105, True)\", \"\\u00de\": \"(39, True)\", \"\\u00df\": \"(66, True)\", \"\\u00e0\": \"(28, True)\", \"\\u00e1\": \"(100, True)\", \"\\u00e2\": \"(51, True)\", \"\\u00e3\": \"(89, True)\", \"\\u00e4\": \"(106, False)\", \"\\u00e5\": \"(37, False)\", \"\\u00e6\": \"(72, True)\", \"\\u00e7\": \"(3, False)\", \"\\u00e8\": \"(86, False)\", \"\\u00e9\": \"(3, True)\", \"\\u00ea\": \"(106, True)\", \"\\u00eb\": \"(37, True)\", \"\\u00ec\": \"(76, False)\", \"\\u00ed\": \"(93, False)\", \"\\u00ee\": \"(105, False)\", \"\\u00ef\": \"(78, True)\", \"\\u00f0\": \"(93, True)\", \"\\u00f1\": \"(42, True)\", \"\\u00f2\": \"(100, False)\", \"\\u00f3\": \"(45, False)\", \"\\u00f4\": \"(32, False)\", \"\\u00f5\": \"(107, False)\", \"\\u00f6\": \"(14, False)\", \"\\u00f7\": \"(82, False)\", \"\\u00f8\": \"(27, False)\", \"\\u00f9\": \"(45, True)\", \"\\u00fa\": \"(77, False)\", \"\\u00fb\": \"(80, False)\", \"\\u00fc\": \"(1, True)\", \"\\u00fd\": \"(63, False)\", \"\\u00fe\": \"(117, False)\", \"\\u00ff\": \"(125, False)\", \"\\u0100\": \"(94, True)\", \"\\u0101\": \"(82, True)\", \"\\u0457\": \"START\", \"\\u045b\": \"END\"}\n"
     ]
    },
    {
     "ename": "JSONDecodeError",
     "evalue": "Expecting value: line 1 column 1 (char 0)",
     "output_type": "error",
     "traceback": [
      "\u001b[0;31m---------------------------------------------------------------------------\u001b[0m",
      "\u001b[0;31mJSONDecodeError\u001b[0m                           Traceback (most recent call last)",
      "\u001b[0;32m<ipython-input-153-7320c8c50c8f>\u001b[0m in \u001b[0;36m<module>\u001b[0;34m()\u001b[0m\n\u001b[1;32m      1\u001b[0m \u001b[0;32mwith\u001b[0m \u001b[0mopen\u001b[0m\u001b[0;34m(\u001b[0m\u001b[0;34mf'{SCRATCH_DIR}/utf_to_txt.json'\u001b[0m\u001b[0;34m,\u001b[0m \u001b[0;34m'r'\u001b[0m\u001b[0;34m)\u001b[0m \u001b[0;32mas\u001b[0m \u001b[0mf\u001b[0m\u001b[0;34m:\u001b[0m\u001b[0;34m\u001b[0m\u001b[0m\n\u001b[1;32m      2\u001b[0m     \u001b[0mprint\u001b[0m\u001b[0;34m(\u001b[0m\u001b[0mf\u001b[0m\u001b[0;34m.\u001b[0m\u001b[0mread\u001b[0m\u001b[0;34m(\u001b[0m\u001b[0;34m)\u001b[0m\u001b[0;34m)\u001b[0m\u001b[0;34m\u001b[0m\u001b[0m\n\u001b[0;32m----> 3\u001b[0;31m     \u001b[0mjson\u001b[0m\u001b[0;34m.\u001b[0m\u001b[0mload\u001b[0m\u001b[0;34m(\u001b[0m\u001b[0mf\u001b[0m\u001b[0;34m)\u001b[0m\u001b[0;34m\u001b[0m\u001b[0m\n\u001b[0m\u001b[1;32m      4\u001b[0m \u001b[0;31m#     json.loads(f.read())\u001b[0m\u001b[0;34m\u001b[0m\u001b[0;34m\u001b[0m\u001b[0m\n",
      "\u001b[0;32m~/anaconda3/envs/music/lib/python3.6/json/__init__.py\u001b[0m in \u001b[0;36mload\u001b[0;34m(fp, cls, object_hook, parse_float, parse_int, parse_constant, object_pairs_hook, **kw)\u001b[0m\n\u001b[1;32m    297\u001b[0m         \u001b[0mcls\u001b[0m\u001b[0;34m=\u001b[0m\u001b[0mcls\u001b[0m\u001b[0;34m,\u001b[0m \u001b[0mobject_hook\u001b[0m\u001b[0;34m=\u001b[0m\u001b[0mobject_hook\u001b[0m\u001b[0;34m,\u001b[0m\u001b[0;34m\u001b[0m\u001b[0m\n\u001b[1;32m    298\u001b[0m         \u001b[0mparse_float\u001b[0m\u001b[0;34m=\u001b[0m\u001b[0mparse_float\u001b[0m\u001b[0;34m,\u001b[0m \u001b[0mparse_int\u001b[0m\u001b[0;34m=\u001b[0m\u001b[0mparse_int\u001b[0m\u001b[0;34m,\u001b[0m\u001b[0;34m\u001b[0m\u001b[0m\n\u001b[0;32m--> 299\u001b[0;31m         parse_constant=parse_constant, object_pairs_hook=object_pairs_hook, **kw)\n\u001b[0m\u001b[1;32m    300\u001b[0m \u001b[0;34m\u001b[0m\u001b[0m\n\u001b[1;32m    301\u001b[0m \u001b[0;34m\u001b[0m\u001b[0m\n",
      "\u001b[0;32m~/anaconda3/envs/music/lib/python3.6/json/__init__.py\u001b[0m in \u001b[0;36mloads\u001b[0;34m(s, encoding, cls, object_hook, parse_float, parse_int, parse_constant, object_pairs_hook, **kw)\u001b[0m\n\u001b[1;32m    352\u001b[0m             \u001b[0mparse_int\u001b[0m \u001b[0;32mis\u001b[0m \u001b[0;32mNone\u001b[0m \u001b[0;32mand\u001b[0m \u001b[0mparse_float\u001b[0m \u001b[0;32mis\u001b[0m \u001b[0;32mNone\u001b[0m \u001b[0;32mand\u001b[0m\u001b[0;34m\u001b[0m\u001b[0m\n\u001b[1;32m    353\u001b[0m             parse_constant is None and object_pairs_hook is None and not kw):\n\u001b[0;32m--> 354\u001b[0;31m         \u001b[0;32mreturn\u001b[0m \u001b[0m_default_decoder\u001b[0m\u001b[0;34m.\u001b[0m\u001b[0mdecode\u001b[0m\u001b[0;34m(\u001b[0m\u001b[0ms\u001b[0m\u001b[0;34m)\u001b[0m\u001b[0;34m\u001b[0m\u001b[0m\n\u001b[0m\u001b[1;32m    355\u001b[0m     \u001b[0;32mif\u001b[0m \u001b[0mcls\u001b[0m \u001b[0;32mis\u001b[0m \u001b[0;32mNone\u001b[0m\u001b[0;34m:\u001b[0m\u001b[0;34m\u001b[0m\u001b[0m\n\u001b[1;32m    356\u001b[0m         \u001b[0mcls\u001b[0m \u001b[0;34m=\u001b[0m \u001b[0mJSONDecoder\u001b[0m\u001b[0;34m\u001b[0m\u001b[0m\n",
      "\u001b[0;32m~/anaconda3/envs/music/lib/python3.6/json/decoder.py\u001b[0m in \u001b[0;36mdecode\u001b[0;34m(self, s, _w)\u001b[0m\n\u001b[1;32m    337\u001b[0m \u001b[0;34m\u001b[0m\u001b[0m\n\u001b[1;32m    338\u001b[0m         \"\"\"\n\u001b[0;32m--> 339\u001b[0;31m         \u001b[0mobj\u001b[0m\u001b[0;34m,\u001b[0m \u001b[0mend\u001b[0m \u001b[0;34m=\u001b[0m \u001b[0mself\u001b[0m\u001b[0;34m.\u001b[0m\u001b[0mraw_decode\u001b[0m\u001b[0;34m(\u001b[0m\u001b[0ms\u001b[0m\u001b[0;34m,\u001b[0m \u001b[0midx\u001b[0m\u001b[0;34m=\u001b[0m\u001b[0m_w\u001b[0m\u001b[0;34m(\u001b[0m\u001b[0ms\u001b[0m\u001b[0;34m,\u001b[0m \u001b[0;36m0\u001b[0m\u001b[0;34m)\u001b[0m\u001b[0;34m.\u001b[0m\u001b[0mend\u001b[0m\u001b[0;34m(\u001b[0m\u001b[0;34m)\u001b[0m\u001b[0;34m)\u001b[0m\u001b[0;34m\u001b[0m\u001b[0m\n\u001b[0m\u001b[1;32m    340\u001b[0m         \u001b[0mend\u001b[0m \u001b[0;34m=\u001b[0m \u001b[0m_w\u001b[0m\u001b[0;34m(\u001b[0m\u001b[0ms\u001b[0m\u001b[0;34m,\u001b[0m \u001b[0mend\u001b[0m\u001b[0;34m)\u001b[0m\u001b[0;34m.\u001b[0m\u001b[0mend\u001b[0m\u001b[0;34m(\u001b[0m\u001b[0;34m)\u001b[0m\u001b[0;34m\u001b[0m\u001b[0m\n\u001b[1;32m    341\u001b[0m         \u001b[0;32mif\u001b[0m \u001b[0mend\u001b[0m \u001b[0;34m!=\u001b[0m \u001b[0mlen\u001b[0m\u001b[0;34m(\u001b[0m\u001b[0ms\u001b[0m\u001b[0;34m)\u001b[0m\u001b[0;34m:\u001b[0m\u001b[0;34m\u001b[0m\u001b[0m\n",
      "\u001b[0;32m~/anaconda3/envs/music/lib/python3.6/json/decoder.py\u001b[0m in \u001b[0;36mraw_decode\u001b[0;34m(self, s, idx)\u001b[0m\n\u001b[1;32m    355\u001b[0m             \u001b[0mobj\u001b[0m\u001b[0;34m,\u001b[0m \u001b[0mend\u001b[0m \u001b[0;34m=\u001b[0m \u001b[0mself\u001b[0m\u001b[0;34m.\u001b[0m\u001b[0mscan_once\u001b[0m\u001b[0;34m(\u001b[0m\u001b[0ms\u001b[0m\u001b[0;34m,\u001b[0m \u001b[0midx\u001b[0m\u001b[0;34m)\u001b[0m\u001b[0;34m\u001b[0m\u001b[0m\n\u001b[1;32m    356\u001b[0m         \u001b[0;32mexcept\u001b[0m \u001b[0mStopIteration\u001b[0m \u001b[0;32mas\u001b[0m \u001b[0merr\u001b[0m\u001b[0;34m:\u001b[0m\u001b[0;34m\u001b[0m\u001b[0m\n\u001b[0;32m--> 357\u001b[0;31m             \u001b[0;32mraise\u001b[0m \u001b[0mJSONDecodeError\u001b[0m\u001b[0;34m(\u001b[0m\u001b[0;34m\"Expecting value\"\u001b[0m\u001b[0;34m,\u001b[0m \u001b[0ms\u001b[0m\u001b[0;34m,\u001b[0m \u001b[0merr\u001b[0m\u001b[0;34m.\u001b[0m\u001b[0mvalue\u001b[0m\u001b[0;34m)\u001b[0m \u001b[0;32mfrom\u001b[0m \u001b[0;32mNone\u001b[0m\u001b[0;34m\u001b[0m\u001b[0m\n\u001b[0m\u001b[1;32m    358\u001b[0m         \u001b[0;32mreturn\u001b[0m \u001b[0mobj\u001b[0m\u001b[0;34m,\u001b[0m \u001b[0mend\u001b[0m\u001b[0;34m\u001b[0m\u001b[0m\n",
      "\u001b[0;31mJSONDecodeError\u001b[0m: Expecting value: line 1 column 1 (char 0)"
     ]
    }
   ],
   "source": [
    "with open(f'{SCRATCH_DIR}/utf_to_txt.json', 'r') as f:\n",
    "    print(f.read())\n",
    "    json.load(f)\n",
    "#     json.loads(f.read())"
   ]
  },
  {
   "cell_type": "code",
   "execution_count": null,
   "metadata": {},
   "outputs": [],
   "source": []
  }
 ],
 "metadata": {
  "kernelspec": {
   "display_name": "Python 3",
   "language": "python",
   "name": "python3"
  },
  "language_info": {
   "codemirror_mode": {
    "name": "ipython",
    "version": 3
   },
   "file_extension": ".py",
   "mimetype": "text/x-python",
   "name": "python",
   "nbconvert_exporter": "python",
   "pygments_lexer": "ipython3",
   "version": "3.6.4"
  }
 },
 "nbformat": 4,
 "nbformat_minor": 2
}
