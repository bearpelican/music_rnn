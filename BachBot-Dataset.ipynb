{
 "cells": [
  {
   "cell_type": "code",
   "execution_count": 1,
   "metadata": {},
   "outputs": [],
   "source": [
    "%reload_ext autoreload\n",
    "%autoreload 2\n",
    "%matplotlib inline"
   ]
  },
  {
   "cell_type": "code",
   "execution_count": 2,
   "metadata": {},
   "outputs": [],
   "source": [
    "import datasets"
   ]
  },
  {
   "cell_type": "code",
   "execution_count": 3,
   "metadata": {},
   "outputs": [],
   "source": [
    "from constants import *"
   ]
  },
  {
   "cell_type": "markdown",
   "metadata": {},
   "source": [
    "### Prepare dataset"
   ]
  },
  {
   "cell_type": "code",
   "execution_count": 149,
   "metadata": {},
   "outputs": [
    {
     "ename": "JSONDecodeError",
     "evalue": "Expecting value: line 1 column 1 (char 0)",
     "output_type": "error",
     "traceback": [
      "\u001b[0;31m---------------------------------------------------------------------------\u001b[0m",
      "\u001b[0;31mJSONDecodeError\u001b[0m                           Traceback (most recent call last)",
      "\u001b[0;32m<ipython-input-149-2133f1276227>\u001b[0m in \u001b[0;36m<module>\u001b[0;34m()\u001b[0m\n\u001b[0;32m----> 1\u001b[0;31m \u001b[0mdatasets\u001b[0m\u001b[0;34m.\u001b[0m\u001b[0mprepare\u001b[0m\u001b[0;34m(\u001b[0m\u001b[0;32mTrue\u001b[0m\u001b[0;34m,\u001b[0m \u001b[0;32mFalse\u001b[0m\u001b[0;34m,\u001b[0m \u001b[0;32mFalse\u001b[0m\u001b[0;34m)\u001b[0m\u001b[0;34m\u001b[0m\u001b[0m\n\u001b[0m",
      "\u001b[0;32m~/music_rnn/datasets.py\u001b[0m in \u001b[0;36mprepare\u001b[0;34m(keep_fermatas, subset, mono, parts_to_mask)\u001b[0m\n\u001b[1;32m     41\u001b[0m         )]\n\u001b[1;32m     42\u001b[0m     \"\"\"\n\u001b[0;32m---> 43\u001b[0;31m     \u001b[0mtxt_to_utf\u001b[0m\u001b[0;34m,\u001b[0m \u001b[0mutf_to_txt\u001b[0m \u001b[0;34m=\u001b[0m \u001b[0mbuild_vocabulary\u001b[0m\u001b[0;34m(\u001b[0m\u001b[0;34m)\u001b[0m\u001b[0;34m\u001b[0m\u001b[0m\n\u001b[0m\u001b[1;32m     44\u001b[0m     \u001b[0mtxt_to_utf\u001b[0m\u001b[0;34m[\u001b[0m\u001b[0mBLANK_MASK_TXT\u001b[0m\u001b[0;34m]\u001b[0m \u001b[0;34m=\u001b[0m \u001b[0mBLANK_MASK_UTF\u001b[0m \u001b[0;31m# don't add to `utf_to_txt` because samples should never contain BLANK_MASK\u001b[0m\u001b[0;34m\u001b[0m\u001b[0m\n\u001b[1;32m     45\u001b[0m \u001b[0;34m\u001b[0m\u001b[0m\n",
      "\u001b[0;32m~/music_rnn/datasets.py\u001b[0m in \u001b[0;36mbuild_vocabulary\u001b[0;34m()\u001b[0m\n\u001b[1;32m    158\u001b[0m     \u001b[0;32mif\u001b[0m \u001b[0mos\u001b[0m\u001b[0;34m.\u001b[0m\u001b[0mpath\u001b[0m\u001b[0;34m.\u001b[0m\u001b[0mexists\u001b[0m\u001b[0;34m(\u001b[0m\u001b[0mSCRATCH_DIR\u001b[0m \u001b[0;34m+\u001b[0m \u001b[0;34m'/utf_to_txt.json'\u001b[0m\u001b[0;34m)\u001b[0m\u001b[0;34m:\u001b[0m\u001b[0;34m\u001b[0m\u001b[0m\n\u001b[1;32m    159\u001b[0m         \u001b[0;32mwith\u001b[0m \u001b[0mopen\u001b[0m\u001b[0;34m(\u001b[0m\u001b[0mSCRATCH_DIR\u001b[0m \u001b[0;34m+\u001b[0m \u001b[0;34m'/utf_to_txt.json'\u001b[0m\u001b[0;34m,\u001b[0m \u001b[0;34m'r'\u001b[0m\u001b[0;34m)\u001b[0m \u001b[0;32mas\u001b[0m \u001b[0mf\u001b[0m\u001b[0;34m:\u001b[0m\u001b[0;34m\u001b[0m\u001b[0m\n\u001b[0;32m--> 160\u001b[0;31m             \u001b[0mutf_to_txt\u001b[0m \u001b[0;34m=\u001b[0m \u001b[0mjson\u001b[0m\u001b[0;34m.\u001b[0m\u001b[0mload\u001b[0m\u001b[0;34m(\u001b[0m\u001b[0mf\u001b[0m\u001b[0;34m)\u001b[0m\u001b[0;34m\u001b[0m\u001b[0m\n\u001b[0m\u001b[1;32m    161\u001b[0m             \u001b[0mtxt_to_utf\u001b[0m \u001b[0;34m=\u001b[0m \u001b[0;34m{\u001b[0m\u001b[0mv\u001b[0m\u001b[0;34m:\u001b[0m\u001b[0mk\u001b[0m \u001b[0;32mfor\u001b[0m \u001b[0mk\u001b[0m\u001b[0;34m,\u001b[0m\u001b[0mv\u001b[0m \u001b[0;32min\u001b[0m \u001b[0mutf_to_txt\u001b[0m\u001b[0;34m.\u001b[0m\u001b[0mitems\u001b[0m\u001b[0;34m(\u001b[0m\u001b[0;34m)\u001b[0m\u001b[0;34m}\u001b[0m\u001b[0;34m\u001b[0m\u001b[0m\n\u001b[1;32m    162\u001b[0m     \u001b[0;32melse\u001b[0m\u001b[0;34m:\u001b[0m\u001b[0;34m\u001b[0m\u001b[0m\n",
      "\u001b[0;32m~/anaconda3/envs/music/lib/python3.6/json/__init__.py\u001b[0m in \u001b[0;36mload\u001b[0;34m(fp, cls, object_hook, parse_float, parse_int, parse_constant, object_pairs_hook, **kw)\u001b[0m\n\u001b[1;32m    297\u001b[0m         \u001b[0mcls\u001b[0m\u001b[0;34m=\u001b[0m\u001b[0mcls\u001b[0m\u001b[0;34m,\u001b[0m \u001b[0mobject_hook\u001b[0m\u001b[0;34m=\u001b[0m\u001b[0mobject_hook\u001b[0m\u001b[0;34m,\u001b[0m\u001b[0;34m\u001b[0m\u001b[0m\n\u001b[1;32m    298\u001b[0m         \u001b[0mparse_float\u001b[0m\u001b[0;34m=\u001b[0m\u001b[0mparse_float\u001b[0m\u001b[0;34m,\u001b[0m \u001b[0mparse_int\u001b[0m\u001b[0;34m=\u001b[0m\u001b[0mparse_int\u001b[0m\u001b[0;34m,\u001b[0m\u001b[0;34m\u001b[0m\u001b[0m\n\u001b[0;32m--> 299\u001b[0;31m         parse_constant=parse_constant, object_pairs_hook=object_pairs_hook, **kw)\n\u001b[0m\u001b[1;32m    300\u001b[0m \u001b[0;34m\u001b[0m\u001b[0m\n\u001b[1;32m    301\u001b[0m \u001b[0;34m\u001b[0m\u001b[0m\n",
      "\u001b[0;32m~/anaconda3/envs/music/lib/python3.6/json/__init__.py\u001b[0m in \u001b[0;36mloads\u001b[0;34m(s, encoding, cls, object_hook, parse_float, parse_int, parse_constant, object_pairs_hook, **kw)\u001b[0m\n\u001b[1;32m    352\u001b[0m             \u001b[0mparse_int\u001b[0m \u001b[0;32mis\u001b[0m \u001b[0;32mNone\u001b[0m \u001b[0;32mand\u001b[0m \u001b[0mparse_float\u001b[0m \u001b[0;32mis\u001b[0m \u001b[0;32mNone\u001b[0m \u001b[0;32mand\u001b[0m\u001b[0;34m\u001b[0m\u001b[0m\n\u001b[1;32m    353\u001b[0m             parse_constant is None and object_pairs_hook is None and not kw):\n\u001b[0;32m--> 354\u001b[0;31m         \u001b[0;32mreturn\u001b[0m \u001b[0m_default_decoder\u001b[0m\u001b[0;34m.\u001b[0m\u001b[0mdecode\u001b[0m\u001b[0;34m(\u001b[0m\u001b[0ms\u001b[0m\u001b[0;34m)\u001b[0m\u001b[0;34m\u001b[0m\u001b[0m\n\u001b[0m\u001b[1;32m    355\u001b[0m     \u001b[0;32mif\u001b[0m \u001b[0mcls\u001b[0m \u001b[0;32mis\u001b[0m \u001b[0;32mNone\u001b[0m\u001b[0;34m:\u001b[0m\u001b[0;34m\u001b[0m\u001b[0m\n\u001b[1;32m    356\u001b[0m         \u001b[0mcls\u001b[0m \u001b[0;34m=\u001b[0m \u001b[0mJSONDecoder\u001b[0m\u001b[0;34m\u001b[0m\u001b[0m\n",
      "\u001b[0;32m~/anaconda3/envs/music/lib/python3.6/json/decoder.py\u001b[0m in \u001b[0;36mdecode\u001b[0;34m(self, s, _w)\u001b[0m\n\u001b[1;32m    337\u001b[0m \u001b[0;34m\u001b[0m\u001b[0m\n\u001b[1;32m    338\u001b[0m         \"\"\"\n\u001b[0;32m--> 339\u001b[0;31m         \u001b[0mobj\u001b[0m\u001b[0;34m,\u001b[0m \u001b[0mend\u001b[0m \u001b[0;34m=\u001b[0m \u001b[0mself\u001b[0m\u001b[0;34m.\u001b[0m\u001b[0mraw_decode\u001b[0m\u001b[0;34m(\u001b[0m\u001b[0ms\u001b[0m\u001b[0;34m,\u001b[0m \u001b[0midx\u001b[0m\u001b[0;34m=\u001b[0m\u001b[0m_w\u001b[0m\u001b[0;34m(\u001b[0m\u001b[0ms\u001b[0m\u001b[0;34m,\u001b[0m \u001b[0;36m0\u001b[0m\u001b[0;34m)\u001b[0m\u001b[0;34m.\u001b[0m\u001b[0mend\u001b[0m\u001b[0;34m(\u001b[0m\u001b[0;34m)\u001b[0m\u001b[0;34m)\u001b[0m\u001b[0;34m\u001b[0m\u001b[0m\n\u001b[0m\u001b[1;32m    340\u001b[0m         \u001b[0mend\u001b[0m \u001b[0;34m=\u001b[0m \u001b[0m_w\u001b[0m\u001b[0;34m(\u001b[0m\u001b[0ms\u001b[0m\u001b[0;34m,\u001b[0m \u001b[0mend\u001b[0m\u001b[0;34m)\u001b[0m\u001b[0;34m.\u001b[0m\u001b[0mend\u001b[0m\u001b[0;34m(\u001b[0m\u001b[0;34m)\u001b[0m\u001b[0;34m\u001b[0m\u001b[0m\n\u001b[1;32m    341\u001b[0m         \u001b[0;32mif\u001b[0m \u001b[0mend\u001b[0m \u001b[0;34m!=\u001b[0m \u001b[0mlen\u001b[0m\u001b[0;34m(\u001b[0m\u001b[0ms\u001b[0m\u001b[0;34m)\u001b[0m\u001b[0;34m:\u001b[0m\u001b[0;34m\u001b[0m\u001b[0m\n",
      "\u001b[0;32m~/anaconda3/envs/music/lib/python3.6/json/decoder.py\u001b[0m in \u001b[0;36mraw_decode\u001b[0;34m(self, s, idx)\u001b[0m\n\u001b[1;32m    355\u001b[0m             \u001b[0mobj\u001b[0m\u001b[0;34m,\u001b[0m \u001b[0mend\u001b[0m \u001b[0;34m=\u001b[0m \u001b[0mself\u001b[0m\u001b[0;34m.\u001b[0m\u001b[0mscan_once\u001b[0m\u001b[0;34m(\u001b[0m\u001b[0ms\u001b[0m\u001b[0;34m,\u001b[0m \u001b[0midx\u001b[0m\u001b[0;34m)\u001b[0m\u001b[0;34m\u001b[0m\u001b[0m\n\u001b[1;32m    356\u001b[0m         \u001b[0;32mexcept\u001b[0m \u001b[0mStopIteration\u001b[0m \u001b[0;32mas\u001b[0m \u001b[0merr\u001b[0m\u001b[0;34m:\u001b[0m\u001b[0;34m\u001b[0m\u001b[0m\n\u001b[0;32m--> 357\u001b[0;31m             \u001b[0;32mraise\u001b[0m \u001b[0mJSONDecodeError\u001b[0m\u001b[0;34m(\u001b[0m\u001b[0;34m\"Expecting value\"\u001b[0m\u001b[0;34m,\u001b[0m \u001b[0ms\u001b[0m\u001b[0;34m,\u001b[0m \u001b[0merr\u001b[0m\u001b[0;34m.\u001b[0m\u001b[0mvalue\u001b[0m\u001b[0;34m)\u001b[0m \u001b[0;32mfrom\u001b[0m \u001b[0;32mNone\u001b[0m\u001b[0;34m\u001b[0m\u001b[0m\n\u001b[0m\u001b[1;32m    358\u001b[0m         \u001b[0;32mreturn\u001b[0m \u001b[0mobj\u001b[0m\u001b[0;34m,\u001b[0m \u001b[0mend\u001b[0m\u001b[0;34m\u001b[0m\u001b[0m\n",
      "\u001b[0;31mJSONDecodeError\u001b[0m: Expecting value: line 1 column 1 (char 0)"
     ]
    }
   ],
   "source": [
    "datasets.prepare(True, False, False)"
   ]
  },
  {
   "cell_type": "code",
   "execution_count": 5,
   "metadata": {},
   "outputs": [],
   "source": [
    "import glob\n",
    "files = glob.glob(f'{SCRATCH_DIR}/*.utf')"
   ]
  },
  {
   "cell_type": "code",
   "execution_count": 132,
   "metadata": {},
   "outputs": [
    {
     "name": "stdout",
     "output_type": "stream",
     "text": [
      "Writing concatenated corpus to /home/paperspace/music_rnn/data/out/concat_corpus.utf\n"
     ]
    }
   ],
   "source": [
    "files = glob.glob(f'{SCRATCH_DIR}/BWV-*nomask*fermatas.utf')\n",
    "datasets.concatenate_corpus(files, open(f'{OUT_DIR}/concat_corpus.utf', 'w'))"
   ]
  },
  {
   "cell_type": "code",
   "execution_count": 167,
   "metadata": {},
   "outputs": [
    {
     "name": "stdout",
     "output_type": "stream",
     "text": [
      "Writing concatenated corpus to /home/paperspace/music_rnn/data/out/concat_corpus.txt\n"
     ]
    }
   ],
   "source": [
    "files = glob.glob(f'{SCRATCH_DIR}/BWV-*nomask*fermatas.txt')\n",
    "datasets.concatenate_corpus(files, open(f'{OUT_DIR}/concat_corpus.txt', 'w'))"
   ]
  },
  {
   "cell_type": "code",
   "execution_count": 112,
   "metadata": {},
   "outputs": [],
   "source": [
    "fb = open(files[0], 'rb').read()"
   ]
  },
  {
   "cell_type": "code",
   "execution_count": null,
   "metadata": {},
   "outputs": [],
   "source": [
    "open(f'{OUT_DIR}/concat_corpus.utf', 'r').read()"
   ]
  },
  {
   "cell_type": "code",
   "execution_count": 150,
   "metadata": {},
   "outputs": [
    {
     "name": "stdout",
     "output_type": "stream",
     "text": [
      "Writing vocabulary to /home/paperspace/music_rnn/data/scratch/utf_to_txt.json\n"
     ]
    }
   ],
   "source": [
    "txt_to_utf, utf_to_txt = datasets.build_vocabulary()"
   ]
  },
  {
   "cell_type": "code",
   "execution_count": 134,
   "metadata": {},
   "outputs": [
    {
     "data": {
      "text/plain": [
       "['START',\n",
       " '(79, False)',\n",
       " '(72, False)',\n",
       " '(64, False)',\n",
       " '(60, False)',\n",
       " '|||',\n",
       " '(79, True)',\n",
       " '(72, True)',\n",
       " '(64, True)',\n",
       " '(60, True)']"
      ]
     },
     "execution_count": 134,
     "metadata": {},
     "output_type": "execute_result"
    }
   ],
   "source": [
    "# datasets.to_text_from_utf(utf_to_txt, files[0])\n",
    "datasets.to_text_from_utf(utf_to_txt, f'{OUT_DIR}/concat_corpus.utf')[:10]"
   ]
  },
  {
   "cell_type": "markdown",
   "metadata": {},
   "source": [
    "### Create h5 model?"
   ]
  },
  {
   "cell_type": "code",
   "execution_count": 66,
   "metadata": {},
   "outputs": [],
   "source": [
    "import torch_rnn"
   ]
  },
  {
   "cell_type": "code",
   "execution_count": 68,
   "metadata": {},
   "outputs": [
    {
     "name": "stdout",
     "output_type": "stream",
     "text": [
      "Processing corpus at: /home/paperspace/music_rnn/data/out/concat_corpus.txt\n",
      "Outputting to: /home/paperspace/music_rnn/data/out/concat_corpus{h5,json}\n"
     ]
    }
   ],
   "source": [
    "torch_rnn.make_h5(open(f'{OUT_DIR}/concat_corpus.txt', 'rb'), f'{OUT_DIR}')"
   ]
  },
  {
   "cell_type": "markdown",
   "metadata": {},
   "source": [
    "### Decode"
   ]
  },
  {
   "cell_type": "code",
   "execution_count": 6,
   "metadata": {},
   "outputs": [],
   "source": [
    "import decode"
   ]
  },
  {
   "cell_type": "code",
   "execution_count": 181,
   "metadata": {},
   "outputs": [
    {
     "name": "stdout",
     "output_type": "stream",
     "text": [
      "Writing /home/paperspace/music_rnn/data/out/out-0\n",
      "Writing /home/paperspace/music_rnn/data/out/out-1\n",
      "Writing /home/paperspace/music_rnn/data/out/out-2\n",
      "Writing /home/paperspace/music_rnn/data/out/out-3\n",
      "Writing /home/paperspace/music_rnn/data/out/out-4\n",
      "Writing /home/paperspace/music_rnn/data/out/out-5\n",
      "Writing /home/paperspace/music_rnn/data/out/out-6\n",
      "Writing /home/paperspace/music_rnn/data/out/out-7\n",
      "Writing /home/paperspace/music_rnn/data/out/out-8\n",
      "Writing /home/paperspace/music_rnn/data/out/out-9\n",
      "Writing /home/paperspace/music_rnn/data/out/out-10\n",
      "Writing /home/paperspace/music_rnn/data/out/out-11\n",
      "Writing /home/paperspace/music_rnn/data/out/out-12\n",
      "Writing /home/paperspace/music_rnn/data/out/out-13\n",
      "Writing /home/paperspace/music_rnn/data/out/out-14\n",
      "Writing /home/paperspace/music_rnn/data/out/out-15\n",
      "Writing /home/paperspace/music_rnn/data/out/out-16\n",
      "Writing /home/paperspace/music_rnn/data/out/out-17\n",
      "Writing /home/paperspace/music_rnn/data/out/out-18\n",
      "Writing /home/paperspace/music_rnn/data/out/out-19\n",
      "Writing /home/paperspace/music_rnn/data/out/out-20\n",
      "Writing /home/paperspace/music_rnn/data/out/out-21\n"
     ]
    },
    {
     "ename": "KeyboardInterrupt",
     "evalue": "",
     "output_type": "error",
     "traceback": [
      "\u001b[0;31m---------------------------------------------------------------------------\u001b[0m",
      "\u001b[0;31mKeyboardInterrupt\u001b[0m                         Traceback (most recent call last)",
      "\u001b[0;32m<ipython-input-181-4c4bf63afe05>\u001b[0m in \u001b[0;36m<module>\u001b[0;34m()\u001b[0m\n\u001b[1;32m      1\u001b[0m \u001b[0;32mwith\u001b[0m \u001b[0mopen\u001b[0m\u001b[0;34m(\u001b[0m\u001b[0;34mf'{SCRATCH_DIR}/utf_to_txt.json'\u001b[0m\u001b[0;34m,\u001b[0m \u001b[0;34m'r'\u001b[0m\u001b[0;34m)\u001b[0m \u001b[0;32mas\u001b[0m \u001b[0mf\u001b[0m\u001b[0;34m:\u001b[0m\u001b[0;34m\u001b[0m\u001b[0m\n\u001b[0;32m----> 2\u001b[0;31m     \u001b[0mdecode\u001b[0m\u001b[0;34m.\u001b[0m\u001b[0msampled_stream\u001b[0m\u001b[0;34m(\u001b[0m\u001b[0mf\u001b[0m\u001b[0;34m,\u001b[0m \u001b[0;34mf'{OUT_DIR}/concat_corpus.utf'\u001b[0m\u001b[0;34m,\u001b[0m \u001b[0;34mf'{OUT_DIR}'\u001b[0m\u001b[0;34m,\u001b[0m \u001b[0;36m100\u001b[0m\u001b[0;34m,\u001b[0m \u001b[0;36m400\u001b[0m\u001b[0;34m)\u001b[0m\u001b[0;34m\u001b[0m\u001b[0m\n\u001b[0m",
      "\u001b[0;32m~/music_rnn/decode.py\u001b[0m in \u001b[0;36msampled_stream\u001b[0;34m(utf_to_txt_json, utf8_file, out_dir, min_length, max_length)\u001b[0m\n\u001b[1;32m     44\u001b[0m             \u001b[0;32mwith\u001b[0m \u001b[0mopen\u001b[0m\u001b[0;34m(\u001b[0m\u001b[0mout_dir\u001b[0m \u001b[0;34m+\u001b[0m \u001b[0;34m'/out-{0}.txt'\u001b[0m\u001b[0;34m.\u001b[0m\u001b[0mformat\u001b[0m\u001b[0;34m(\u001b[0m\u001b[0mi\u001b[0m\u001b[0;34m)\u001b[0m\u001b[0;34m,\u001b[0m \u001b[0;34m'w'\u001b[0m\u001b[0;34m)\u001b[0m \u001b[0;32mas\u001b[0m \u001b[0mfd\u001b[0m\u001b[0;34m:\u001b[0m\u001b[0;34m\u001b[0m\u001b[0m\n\u001b[1;32m     45\u001b[0m                 \u001b[0mfd\u001b[0m\u001b[0;34m.\u001b[0m\u001b[0mwrite\u001b[0m\u001b[0;34m(\u001b[0m\u001b[0;34m'\\n'\u001b[0m\u001b[0;34m.\u001b[0m\u001b[0mjoin\u001b[0m\u001b[0;34m(\u001b[0m\u001b[0mto_text\u001b[0m\u001b[0;34m(\u001b[0m\u001b[0mscore\u001b[0m\u001b[0;34m)\u001b[0m\u001b[0;34m)\u001b[0m\u001b[0;34m)\u001b[0m\u001b[0;34m\u001b[0m\u001b[0m\n\u001b[0;32m---> 46\u001b[0;31m             \u001b[0mto_musicxml\u001b[0m\u001b[0;34m(\u001b[0m\u001b[0mscore\u001b[0m\u001b[0;34m)\u001b[0m\u001b[0;34m.\u001b[0m\u001b[0mwrite\u001b[0m\u001b[0;34m(\u001b[0m\u001b[0;34m'musicxml'\u001b[0m\u001b[0;34m,\u001b[0m \u001b[0mout_dir\u001b[0m \u001b[0;34m+\u001b[0m \u001b[0;34m'/out-{0}.xml'\u001b[0m\u001b[0;34m.\u001b[0m\u001b[0mformat\u001b[0m\u001b[0;34m(\u001b[0m\u001b[0mi\u001b[0m\u001b[0;34m)\u001b[0m\u001b[0;34m)\u001b[0m\u001b[0;34m\u001b[0m\u001b[0m\n\u001b[0m\u001b[1;32m     47\u001b[0m             \u001b[0mi\u001b[0m \u001b[0;34m+=\u001b[0m \u001b[0;36m1\u001b[0m\u001b[0;34m\u001b[0m\u001b[0m\n\u001b[1;32m     48\u001b[0m \u001b[0;34m\u001b[0m\u001b[0m\n",
      "\u001b[0;32m~/anaconda3/envs/music/lib/python3.6/site-packages/music21/stream/__init__.py\u001b[0m in \u001b[0;36mwrite\u001b[0;34m(self, *args, **kwargs)\u001b[0m\n\u001b[1;32m    248\u001b[0m         \u001b[0;32mif\u001b[0m \u001b[0mself\u001b[0m\u001b[0;34m.\u001b[0m\u001b[0misSorted\u001b[0m \u001b[0;32mis\u001b[0m \u001b[0;32mFalse\u001b[0m \u001b[0;32mand\u001b[0m \u001b[0mself\u001b[0m\u001b[0;34m.\u001b[0m\u001b[0mautoSort\u001b[0m\u001b[0;34m:\u001b[0m\u001b[0;34m\u001b[0m\u001b[0m\n\u001b[1;32m    249\u001b[0m             \u001b[0mself\u001b[0m\u001b[0;34m.\u001b[0m\u001b[0msort\u001b[0m\u001b[0;34m(\u001b[0m\u001b[0;34m)\u001b[0m\u001b[0;34m\u001b[0m\u001b[0m\n\u001b[0;32m--> 250\u001b[0;31m         \u001b[0;32mreturn\u001b[0m \u001b[0msuper\u001b[0m\u001b[0;34m(\u001b[0m\u001b[0mStream\u001b[0m\u001b[0;34m,\u001b[0m \u001b[0mself\u001b[0m\u001b[0;34m)\u001b[0m\u001b[0;34m.\u001b[0m\u001b[0mwrite\u001b[0m\u001b[0;34m(\u001b[0m\u001b[0;34m*\u001b[0m\u001b[0margs\u001b[0m\u001b[0;34m,\u001b[0m \u001b[0;34m**\u001b[0m\u001b[0mkwargs\u001b[0m\u001b[0;34m)\u001b[0m\u001b[0;34m\u001b[0m\u001b[0m\n\u001b[0m\u001b[1;32m    251\u001b[0m \u001b[0;34m\u001b[0m\u001b[0m\n\u001b[1;32m    252\u001b[0m \u001b[0;34m\u001b[0m\u001b[0m\n",
      "\u001b[0;32m~/anaconda3/envs/music/lib/python3.6/site-packages/music21/base.py\u001b[0m in \u001b[0;36mwrite\u001b[0;34m(self, fmt, fp, **keywords)\u001b[0m\n\u001b[1;32m   2553\u001b[0m         \u001b[0mscClass\u001b[0m \u001b[0;34m=\u001b[0m \u001b[0mcommon\u001b[0m\u001b[0;34m.\u001b[0m\u001b[0mfindSubConverterForFormat\u001b[0m\u001b[0;34m(\u001b[0m\u001b[0mregularizedConverterFormat\u001b[0m\u001b[0;34m)\u001b[0m\u001b[0;34m\u001b[0m\u001b[0m\n\u001b[1;32m   2554\u001b[0m         \u001b[0mformatWriter\u001b[0m \u001b[0;34m=\u001b[0m \u001b[0mscClass\u001b[0m\u001b[0;34m(\u001b[0m\u001b[0;34m)\u001b[0m\u001b[0;34m\u001b[0m\u001b[0m\n\u001b[0;32m-> 2555\u001b[0;31m         \u001b[0;32mreturn\u001b[0m \u001b[0mformatWriter\u001b[0m\u001b[0;34m.\u001b[0m\u001b[0mwrite\u001b[0m\u001b[0;34m(\u001b[0m\u001b[0mself\u001b[0m\u001b[0;34m,\u001b[0m \u001b[0mregularizedConverterFormat\u001b[0m\u001b[0;34m,\u001b[0m \u001b[0mfp\u001b[0m\u001b[0;34m,\u001b[0m \u001b[0msubformats\u001b[0m\u001b[0;34m,\u001b[0m \u001b[0;34m**\u001b[0m\u001b[0mkeywords\u001b[0m\u001b[0;34m)\u001b[0m\u001b[0;34m\u001b[0m\u001b[0m\n\u001b[0m\u001b[1;32m   2556\u001b[0m \u001b[0;34m\u001b[0m\u001b[0m\n\u001b[1;32m   2557\u001b[0m \u001b[0;34m\u001b[0m\u001b[0m\n",
      "\u001b[0;32m~/anaconda3/envs/music/lib/python3.6/site-packages/music21/converter/subConverters.py\u001b[0m in \u001b[0;36mwrite\u001b[0;34m(self, obj, fmt, fp, subformats, **keywords)\u001b[0m\n\u001b[1;32m    862\u001b[0m \u001b[0;34m\u001b[0m\u001b[0m\n\u001b[1;32m    863\u001b[0m         \u001b[0mgeneralExporter\u001b[0m \u001b[0;34m=\u001b[0m \u001b[0mm21ToXml\u001b[0m\u001b[0;34m.\u001b[0m\u001b[0mGeneralObjectExporter\u001b[0m\u001b[0;34m(\u001b[0m\u001b[0mobj\u001b[0m\u001b[0;34m)\u001b[0m\u001b[0;34m\u001b[0m\u001b[0m\n\u001b[0;32m--> 864\u001b[0;31m         \u001b[0mdataBytes\u001b[0m \u001b[0;34m=\u001b[0m \u001b[0mgeneralExporter\u001b[0m\u001b[0;34m.\u001b[0m\u001b[0mparse\u001b[0m\u001b[0;34m(\u001b[0m\u001b[0;34m)\u001b[0m\u001b[0;34m\u001b[0m\u001b[0m\n\u001b[0m\u001b[1;32m    865\u001b[0m         \u001b[0mfp\u001b[0m \u001b[0;34m=\u001b[0m \u001b[0mself\u001b[0m\u001b[0;34m.\u001b[0m\u001b[0mwriteDataStream\u001b[0m\u001b[0;34m(\u001b[0m\u001b[0mfp\u001b[0m\u001b[0;34m,\u001b[0m \u001b[0mdataBytes\u001b[0m\u001b[0;34m)\u001b[0m\u001b[0;34m\u001b[0m\u001b[0m\n\u001b[1;32m    866\u001b[0m \u001b[0;34m\u001b[0m\u001b[0m\n",
      "\u001b[0;32m~/anaconda3/envs/music/lib/python3.6/site-packages/music21/musicxml/m21ToXml.py\u001b[0m in \u001b[0;36mparse\u001b[0;34m(self, obj)\u001b[0m\n\u001b[1;32m    330\u001b[0m             \u001b[0mobj\u001b[0m \u001b[0;34m=\u001b[0m \u001b[0mself\u001b[0m\u001b[0;34m.\u001b[0m\u001b[0mgeneralObj\u001b[0m\u001b[0;34m\u001b[0m\u001b[0m\n\u001b[1;32m    331\u001b[0m         \u001b[0moutObj\u001b[0m \u001b[0;34m=\u001b[0m \u001b[0mself\u001b[0m\u001b[0;34m.\u001b[0m\u001b[0mfromGeneralObject\u001b[0m\u001b[0;34m(\u001b[0m\u001b[0mobj\u001b[0m\u001b[0;34m)\u001b[0m\u001b[0;34m\u001b[0m\u001b[0m\n\u001b[0;32m--> 332\u001b[0;31m         \u001b[0;32mreturn\u001b[0m \u001b[0mself\u001b[0m\u001b[0;34m.\u001b[0m\u001b[0mparseWellformedObject\u001b[0m\u001b[0;34m(\u001b[0m\u001b[0moutObj\u001b[0m\u001b[0;34m)\u001b[0m\u001b[0;34m\u001b[0m\u001b[0m\n\u001b[0m\u001b[1;32m    333\u001b[0m \u001b[0;34m\u001b[0m\u001b[0m\n\u001b[1;32m    334\u001b[0m     \u001b[0;32mdef\u001b[0m \u001b[0mparseWellformedObject\u001b[0m\u001b[0;34m(\u001b[0m\u001b[0mself\u001b[0m\u001b[0;34m,\u001b[0m \u001b[0msc\u001b[0m\u001b[0;34m)\u001b[0m\u001b[0;34m:\u001b[0m\u001b[0;34m\u001b[0m\u001b[0m\n",
      "\u001b[0;32m~/anaconda3/envs/music/lib/python3.6/site-packages/music21/musicxml/m21ToXml.py\u001b[0m in \u001b[0;36mparseWellformedObject\u001b[0;34m(self, sc)\u001b[0m\n\u001b[1;32m    338\u001b[0m         '''\n\u001b[1;32m    339\u001b[0m         \u001b[0mscoreExporter\u001b[0m \u001b[0;34m=\u001b[0m \u001b[0mScoreExporter\u001b[0m\u001b[0;34m(\u001b[0m\u001b[0msc\u001b[0m\u001b[0;34m)\u001b[0m\u001b[0;34m\u001b[0m\u001b[0m\n\u001b[0;32m--> 340\u001b[0;31m         \u001b[0mscoreExporter\u001b[0m\u001b[0;34m.\u001b[0m\u001b[0mparse\u001b[0m\u001b[0;34m(\u001b[0m\u001b[0;34m)\u001b[0m\u001b[0;34m\u001b[0m\u001b[0m\n\u001b[0m\u001b[1;32m    341\u001b[0m         \u001b[0;32mreturn\u001b[0m \u001b[0mscoreExporter\u001b[0m\u001b[0;34m.\u001b[0m\u001b[0masBytes\u001b[0m\u001b[0;34m(\u001b[0m\u001b[0;34m)\u001b[0m\u001b[0;34m\u001b[0m\u001b[0m\n\u001b[1;32m    342\u001b[0m \u001b[0;34m\u001b[0m\u001b[0m\n",
      "\u001b[0;32m~/anaconda3/envs/music/lib/python3.6/site-packages/music21/musicxml/m21ToXml.py\u001b[0m in \u001b[0;36mparse\u001b[0;34m(self)\u001b[0m\n\u001b[1;32m   1217\u001b[0m             \u001b[0;32mreturn\u001b[0m \u001b[0mself\u001b[0m\u001b[0;34m.\u001b[0m\u001b[0memptyObject\u001b[0m\u001b[0;34m(\u001b[0m\u001b[0;34m)\u001b[0m\u001b[0;34m\u001b[0m\u001b[0m\n\u001b[1;32m   1218\u001b[0m \u001b[0;34m\u001b[0m\u001b[0m\n\u001b[0;32m-> 1219\u001b[0;31m         \u001b[0mself\u001b[0m\u001b[0;34m.\u001b[0m\u001b[0mscorePreliminaries\u001b[0m\u001b[0;34m(\u001b[0m\u001b[0;34m)\u001b[0m\u001b[0;34m\u001b[0m\u001b[0m\n\u001b[0m\u001b[1;32m   1220\u001b[0m \u001b[0;34m\u001b[0m\u001b[0m\n\u001b[1;32m   1221\u001b[0m         \u001b[0;32mif\u001b[0m \u001b[0ms\u001b[0m\u001b[0;34m.\u001b[0m\u001b[0mhasPartLikeStreams\u001b[0m\u001b[0;34m(\u001b[0m\u001b[0;34m)\u001b[0m\u001b[0;34m:\u001b[0m\u001b[0;34m\u001b[0m\u001b[0m\n",
      "\u001b[0;32m~/anaconda3/envs/music/lib/python3.6/site-packages/music21/musicxml/m21ToXml.py\u001b[0m in \u001b[0;36mscorePreliminaries\u001b[0;34m(self)\u001b[0m\n\u001b[1;32m   1286\u001b[0m         \u001b[0mself\u001b[0m\u001b[0;34m.\u001b[0m\u001b[0msetPartsAndRefStream\u001b[0m\u001b[0;34m(\u001b[0m\u001b[0;34m)\u001b[0m\u001b[0;34m\u001b[0m\u001b[0m\n\u001b[1;32m   1287\u001b[0m         \u001b[0;31m# get all text boxes\u001b[0m\u001b[0;34m\u001b[0m\u001b[0;34m\u001b[0m\u001b[0m\n\u001b[0;32m-> 1288\u001b[0;31m         \u001b[0mself\u001b[0m\u001b[0;34m.\u001b[0m\u001b[0mtextBoxes\u001b[0m \u001b[0;34m=\u001b[0m \u001b[0mself\u001b[0m\u001b[0;34m.\u001b[0m\u001b[0mstream\u001b[0m\u001b[0;34m.\u001b[0m\u001b[0mflat\u001b[0m\u001b[0;34m.\u001b[0m\u001b[0mgetElementsByClass\u001b[0m\u001b[0;34m(\u001b[0m\u001b[0;34m'TextBox'\u001b[0m\u001b[0;34m)\u001b[0m\u001b[0;34m\u001b[0m\u001b[0m\n\u001b[0m\u001b[1;32m   1289\u001b[0m \u001b[0;34m\u001b[0m\u001b[0m\n\u001b[1;32m   1290\u001b[0m         \u001b[0;31m# we need independent sub-stream elements to shift in presentation\u001b[0m\u001b[0;34m\u001b[0m\u001b[0;34m\u001b[0m\u001b[0m\n",
      "\u001b[0;32m~/anaconda3/envs/music/lib/python3.6/site-packages/music21/stream/__init__.py\u001b[0m in \u001b[0;36mflat\u001b[0;34m(self)\u001b[0m\n\u001b[1;32m   6791\u001b[0m         \u001b[0;32mif\u001b[0m \u001b[0;34m'flat'\u001b[0m \u001b[0;32mnot\u001b[0m \u001b[0;32min\u001b[0m \u001b[0mself\u001b[0m\u001b[0;34m.\u001b[0m\u001b[0m_cache\u001b[0m \u001b[0;32mor\u001b[0m \u001b[0mself\u001b[0m\u001b[0;34m.\u001b[0m\u001b[0m_cache\u001b[0m\u001b[0;34m[\u001b[0m\u001b[0;34m'flat'\u001b[0m\u001b[0;34m]\u001b[0m \u001b[0;32mis\u001b[0m \u001b[0;32mNone\u001b[0m\u001b[0;34m:\u001b[0m\u001b[0;34m\u001b[0m\u001b[0m\n\u001b[1;32m   6792\u001b[0m             self._cache['flat'] = self._getFlatOrSemiFlat(\n\u001b[0;32m-> 6793\u001b[0;31m                                   retainContainers=False)\n\u001b[0m\u001b[1;32m   6794\u001b[0m         \u001b[0;32mreturn\u001b[0m \u001b[0mself\u001b[0m\u001b[0;34m.\u001b[0m\u001b[0m_cache\u001b[0m\u001b[0;34m[\u001b[0m\u001b[0;34m'flat'\u001b[0m\u001b[0;34m]\u001b[0m\u001b[0;34m\u001b[0m\u001b[0m\n\u001b[1;32m   6795\u001b[0m \u001b[0;34m\u001b[0m\u001b[0m\n",
      "\u001b[0;32m~/anaconda3/envs/music/lib/python3.6/site-packages/music21/stream/__init__.py\u001b[0m in \u001b[0;36m_getFlatOrSemiFlat\u001b[0;34m(self, retainContainers)\u001b[0m\n\u001b[1;32m   6632\u001b[0m                                         \u001b[0mignoreSorting\u001b[0m\u001b[0;34m=\u001b[0m\u001b[0;32mTrue\u001b[0m\u001b[0;34m,\u001b[0m\u001b[0;34m\u001b[0m\u001b[0m\n\u001b[1;32m   6633\u001b[0m                                         )\n\u001b[0;32m-> 6634\u001b[0;31m         \u001b[0;32mfor\u001b[0m \u001b[0me\u001b[0m \u001b[0;32min\u001b[0m \u001b[0mri\u001b[0m\u001b[0;34m:\u001b[0m\u001b[0;34m\u001b[0m\u001b[0m\n\u001b[0m\u001b[1;32m   6635\u001b[0m             \u001b[0;32mif\u001b[0m \u001b[0me\u001b[0m\u001b[0;34m.\u001b[0m\u001b[0misStream\u001b[0m \u001b[0;32mand\u001b[0m \u001b[0;32mnot\u001b[0m \u001b[0mretainContainers\u001b[0m\u001b[0;34m:\u001b[0m\u001b[0;34m\u001b[0m\u001b[0m\n\u001b[1;32m   6636\u001b[0m                 \u001b[0;32mcontinue\u001b[0m\u001b[0;34m\u001b[0m\u001b[0m\n",
      "\u001b[0;32m~/anaconda3/envs/music/lib/python3.6/site-packages/music21/stream/iterator.py\u001b[0m in \u001b[0;36m__next__\u001b[0;34m(self)\u001b[0m\n\u001b[1;32m   1415\u001b[0m         \u001b[0;32mif\u001b[0m \u001b[0mself\u001b[0m\u001b[0;34m.\u001b[0m\u001b[0mchildRecursiveIterator\u001b[0m \u001b[0;32mis\u001b[0m \u001b[0;32mnot\u001b[0m \u001b[0;32mNone\u001b[0m\u001b[0;34m:\u001b[0m\u001b[0;34m\u001b[0m\u001b[0m\n\u001b[1;32m   1416\u001b[0m             \u001b[0;32mtry\u001b[0m\u001b[0;34m:\u001b[0m\u001b[0;34m\u001b[0m\u001b[0m\n\u001b[0;32m-> 1417\u001b[0;31m                 \u001b[0;32mreturn\u001b[0m \u001b[0mself\u001b[0m\u001b[0;34m.\u001b[0m\u001b[0mchildRecursiveIterator\u001b[0m\u001b[0;34m.\u001b[0m\u001b[0mnext\u001b[0m\u001b[0;34m(\u001b[0m\u001b[0;34m)\u001b[0m\u001b[0;34m\u001b[0m\u001b[0m\n\u001b[0m\u001b[1;32m   1418\u001b[0m             \u001b[0;32mexcept\u001b[0m \u001b[0mStopIteration\u001b[0m\u001b[0;34m:\u001b[0m\u001b[0;34m\u001b[0m\u001b[0m\n\u001b[1;32m   1419\u001b[0m                 \u001b[0;31m#self.childRecursiveIterator.parentIterator = None\u001b[0m\u001b[0;34m\u001b[0m\u001b[0;34m\u001b[0m\u001b[0m\n",
      "\u001b[0;32m~/anaconda3/envs/music/lib/python3.6/site-packages/music21/stream/iterator.py\u001b[0m in \u001b[0;36m__next__\u001b[0;34m(self)\u001b[0m\n\u001b[1;32m   1357\u001b[0m             \u001b[0;32mif\u001b[0m \u001b[0mself\u001b[0m\u001b[0;34m.\u001b[0m\u001b[0mchildRecursiveIterator\u001b[0m \u001b[0;32mis\u001b[0m \u001b[0;32mnot\u001b[0m \u001b[0;32mNone\u001b[0m\u001b[0;34m:\u001b[0m\u001b[0;34m\u001b[0m\u001b[0m\n\u001b[1;32m   1358\u001b[0m                 \u001b[0;32mtry\u001b[0m\u001b[0;34m:\u001b[0m\u001b[0;34m\u001b[0m\u001b[0m\n\u001b[0;32m-> 1359\u001b[0;31m                     \u001b[0;32mreturn\u001b[0m \u001b[0mself\u001b[0m\u001b[0;34m.\u001b[0m\u001b[0mchildRecursiveIterator\u001b[0m\u001b[0;34m.\u001b[0m\u001b[0mnext\u001b[0m\u001b[0;34m(\u001b[0m\u001b[0;34m)\u001b[0m\u001b[0;34m\u001b[0m\u001b[0m\n\u001b[0m\u001b[1;32m   1360\u001b[0m                 \u001b[0;32mexcept\u001b[0m \u001b[0mStopIteration\u001b[0m\u001b[0;34m:\u001b[0m\u001b[0;34m\u001b[0m\u001b[0m\n\u001b[1;32m   1361\u001b[0m                     \u001b[0;31m#self.childRecursiveIterator.parentIterator = None\u001b[0m\u001b[0;34m\u001b[0m\u001b[0;34m\u001b[0m\u001b[0m\n",
      "\u001b[0;32m~/anaconda3/envs/music/lib/python3.6/site-packages/music21/stream/iterator.py\u001b[0m in \u001b[0;36m__next__\u001b[0;34m(self)\u001b[0m\n\u001b[1;32m   1381\u001b[0m \u001b[0;34m\u001b[0m\u001b[0m\n\u001b[1;32m   1382\u001b[0m             \u001b[0;32mtry\u001b[0m\u001b[0;34m:\u001b[0m\u001b[0;34m\u001b[0m\u001b[0m\n\u001b[0;32m-> 1383\u001b[0;31m                 \u001b[0me\u001b[0m \u001b[0;34m=\u001b[0m \u001b[0mself\u001b[0m\u001b[0;34m.\u001b[0m\u001b[0msrcStreamElements\u001b[0m\u001b[0;34m[\u001b[0m\u001b[0mself\u001b[0m\u001b[0;34m.\u001b[0m\u001b[0mindex\u001b[0m \u001b[0;34m-\u001b[0m \u001b[0;36m1\u001b[0m\u001b[0;34m]\u001b[0m\u001b[0;34m\u001b[0m\u001b[0m\n\u001b[0m\u001b[1;32m   1384\u001b[0m             \u001b[0;32mexcept\u001b[0m \u001b[0mIndexError\u001b[0m\u001b[0;34m:\u001b[0m\u001b[0;34m\u001b[0m\u001b[0m\n\u001b[1;32m   1385\u001b[0m                 \u001b[0;31m# this may happen in the number of elements has changed\u001b[0m\u001b[0;34m\u001b[0m\u001b[0;34m\u001b[0m\u001b[0m\n",
      "\u001b[0;31mKeyboardInterrupt\u001b[0m: "
     ]
    }
   ],
   "source": [
    "with open(f'{SCRATCH_DIR}/utf_to_txt.json', 'r') as f:\n",
    "    decode.sampled_stream(f, f'{OUT_DIR}/concat_corpus.utf', f'{OUT_DIR}', 100, 400)"
   ]
  },
  {
   "cell_type": "code",
   "execution_count": 7,
   "metadata": {},
   "outputs": [],
   "source": [
    "import json\n",
    "import codecs"
   ]
  },
  {
   "cell_type": "code",
   "execution_count": 174,
   "metadata": {},
   "outputs": [
    {
     "name": "stdout",
     "output_type": "stream",
     "text": [
      "334\n"
     ]
    }
   ],
   "source": [
    "with open(f'{SCRATCH_DIR}/utf_to_txt.json', 'r') as f:\n",
    "    utf_to_txt = json.load(f)\n",
    "#    utf_data = filter(lambda x: x != u'\\n', codecs.open(utf8_file, \"r\", \"utf-8\").read())\n",
    "    utf8_file = f'{OUT_DIR}/concat_corpus.utf'\n",
    "    utf_data = filter(lambda x: x != u'\\n', codecs.open(utf8_file, \"r\", \"utf-8\").read())\n",
    "    utf_string = ''.join(list(utf_data))\n",
    "    utf_scores = utf_string.split(START_DELIM)[1:] # [1:] ignores first START_DELIM\n",
    "    print(len(utf_scores))\n",
    "#     json.loads(f.read())"
   ]
  },
  {
   "cell_type": "code",
   "execution_count": 171,
   "metadata": {},
   "outputs": [
    {
     "data": {
      "text/plain": [
       "'ї'"
      ]
     },
     "execution_count": 171,
     "metadata": {},
     "output_type": "execute_result"
    }
   ],
   "source": [
    "START_DELIM"
   ]
  },
  {
   "cell_type": "markdown",
   "metadata": {},
   "source": [
    "### Playing files"
   ]
  },
  {
   "cell_type": "code",
   "execution_count": 54,
   "metadata": {},
   "outputs": [],
   "source": [
    "\n",
    "from music21 import *\n",
    "\n",
    "# import random\n",
    "# keyDetune = []\n",
    "# for i in range(0, 127):\n",
    "#     keyDetune.append(random.randint(-30, 30))\n",
    "    \n",
    "# b = corpus.parse('bwv66.6')\n",
    "# for n in b.flat.notes:\n",
    "#    n.pitch.microtone = keyDetune[n.pitch.midi]\n",
    "# sp = midi.realtime.StreamPlayer(b)\n",
    "# sp.play()"
   ]
  },
  {
   "cell_type": "code",
   "execution_count": 9,
   "metadata": {},
   "outputs": [],
   "source": [
    "out_files = glob.glob(f'{OUT_DIR}/*')"
   ]
  },
  {
   "cell_type": "code",
   "execution_count": 10,
   "metadata": {},
   "outputs": [
    {
     "data": {
      "text/plain": [
       "['/home/paperspace/music_rnn/data/out/out-18.xml',\n",
       " '/home/paperspace/music_rnn/data/out/out-20.txt',\n",
       " '/home/paperspace/music_rnn/data/out/out-9.txt',\n",
       " '/home/paperspace/music_rnn/data/out/out-14.txt',\n",
       " '/home/paperspace/music_rnn/data/out/out-15.xml',\n",
       " '/home/paperspace/music_rnn/data/out/out-7.xml',\n",
       " '/home/paperspace/music_rnn/data/out/out-14.xml',\n",
       " '/home/paperspace/music_rnn/data/out/out-19.xml',\n",
       " '/home/paperspace/music_rnn/data/out/out-4.txt',\n",
       " '/home/paperspace/music_rnn/data/out/out-1.xml',\n",
       " '/home/paperspace/music_rnn/data/out/out-18.midi',\n",
       " '/home/paperspace/music_rnn/data/out/out-9.xml',\n",
       " '/home/paperspace/music_rnn/data/out/out-0.xml',\n",
       " '/home/paperspace/music_rnn/data/out/out-6.xml',\n",
       " '/home/paperspace/music_rnn/data/out/concat_corpus.utf',\n",
       " '/home/paperspace/music_rnn/data/out/out-12.xml',\n",
       " '/home/paperspace/music_rnn/data/out/out-2.xml',\n",
       " '/home/paperspace/music_rnn/data/out/out-21.txt',\n",
       " '/home/paperspace/music_rnn/data/out/concat_corpus.txt',\n",
       " '/home/paperspace/music_rnn/data/out/out-16.txt',\n",
       " '/home/paperspace/music_rnn/data/out/out-13.txt',\n",
       " '/home/paperspace/music_rnn/data/out/out-19.txt',\n",
       " '/home/paperspace/music_rnn/data/out/out-3.xml',\n",
       " '/home/paperspace/music_rnn/data/out/out-17.xml',\n",
       " '/home/paperspace/music_rnn/data/out/out-5.txt',\n",
       " '/home/paperspace/music_rnn/data/out/out-16.xml',\n",
       " '/home/paperspace/music_rnn/data/out/out-0.txt',\n",
       " '/home/paperspace/music_rnn/data/out/out-8.xml',\n",
       " '/home/paperspace/music_rnn/data/out/out-11.xml',\n",
       " '/home/paperspace/music_rnn/data/out/out-18.txt',\n",
       " '/home/paperspace/music_rnn/data/out/out-7.txt',\n",
       " '/home/paperspace/music_rnn/data/out/out-1.txt',\n",
       " '/home/paperspace/music_rnn/data/out/out-11.txt',\n",
       " '/home/paperspace/music_rnn/data/out/out-12.txt',\n",
       " '/home/paperspace/music_rnn/data/out/out-17.txt',\n",
       " '/home/paperspace/music_rnn/data/out/out-10.xml',\n",
       " '/home/paperspace/music_rnn/data/out/out-8.txt',\n",
       " '/home/paperspace/music_rnn/data/out/out-4.xml',\n",
       " '/home/paperspace/music_rnn/data/out/out-15.txt',\n",
       " '/home/paperspace/music_rnn/data/out/out-13.midi',\n",
       " '/home/paperspace/music_rnn/data/out/out-5.xml',\n",
       " '/home/paperspace/music_rnn/data/out/out-13.xml',\n",
       " '/home/paperspace/music_rnn/data/out/out-2.txt',\n",
       " '/home/paperspace/music_rnn/data/out/out-20.xml',\n",
       " '/home/paperspace/music_rnn/data/out/out-3.txt',\n",
       " '/home/paperspace/music_rnn/data/out/out-10.txt',\n",
       " '/home/paperspace/music_rnn/data/out/out-6.txt']"
      ]
     },
     "execution_count": 10,
     "metadata": {},
     "output_type": "execute_result"
    }
   ],
   "source": [
    "out_files"
   ]
  },
  {
   "cell_type": "code",
   "execution_count": 190,
   "metadata": {},
   "outputs": [],
   "source": [
    "s = converter.parse(out_files[0])"
   ]
  },
  {
   "cell_type": "code",
   "execution_count": null,
   "metadata": {},
   "outputs": [],
   "source": [
    "with open('/home/paperspace/music_rnn/data/out/out-13.xml', 'r') as f:\n",
    "    print(f.read())"
   ]
  },
  {
   "cell_type": "code",
   "execution_count": 66,
   "metadata": {},
   "outputs": [],
   "source": [
    "s = converter.parse('/home/paperspace/music_rnn/data/out/out-13.xml')"
   ]
  },
  {
   "cell_type": "code",
   "execution_count": 51,
   "metadata": {},
   "outputs": [
    {
     "data": {
      "text/plain": [
       "'Music21 Fragment'"
      ]
     },
     "execution_count": 51,
     "metadata": {},
     "output_type": "execute_result"
    }
   ],
   "source": [
    "s.metadata.title"
   ]
  },
  {
   "cell_type": "code",
   "execution_count": 69,
   "metadata": {},
   "outputs": [
    {
     "ename": "SubConverterFileIOException",
     "evalue": "png file of xml not found. Is your file >999 pages?",
     "output_type": "error",
     "traceback": [
      "\u001b[0;31m---------------------------------------------------------------------------\u001b[0m",
      "\u001b[0;31mSubConverterFileIOException\u001b[0m               Traceback (most recent call last)",
      "\u001b[0;32m<ipython-input-69-daffe8404596>\u001b[0m in \u001b[0;36m<module>\u001b[0;34m()\u001b[0m\n\u001b[0;32m----> 1\u001b[0;31m \u001b[0ms\u001b[0m\u001b[0;34m.\u001b[0m\u001b[0mshow\u001b[0m\u001b[0;34m(\u001b[0m\u001b[0;34m)\u001b[0m\u001b[0;34m\u001b[0m\u001b[0m\n\u001b[0m",
      "\u001b[0;32m~/anaconda3/envs/music/lib/python3.6/site-packages/music21/stream/__init__.py\u001b[0m in \u001b[0;36mshow\u001b[0;34m(self, *args, **kwargs)\u001b[0m\n\u001b[1;32m    255\u001b[0m         \u001b[0;32mif\u001b[0m \u001b[0mself\u001b[0m\u001b[0;34m.\u001b[0m\u001b[0misSorted\u001b[0m \u001b[0;32mis\u001b[0m \u001b[0;32mFalse\u001b[0m \u001b[0;32mand\u001b[0m \u001b[0mself\u001b[0m\u001b[0;34m.\u001b[0m\u001b[0mautoSort\u001b[0m\u001b[0;34m:\u001b[0m\u001b[0;34m\u001b[0m\u001b[0m\n\u001b[1;32m    256\u001b[0m             \u001b[0mself\u001b[0m\u001b[0;34m.\u001b[0m\u001b[0msort\u001b[0m\u001b[0;34m(\u001b[0m\u001b[0;34m)\u001b[0m\u001b[0;34m\u001b[0m\u001b[0m\n\u001b[0;32m--> 257\u001b[0;31m         \u001b[0;32mreturn\u001b[0m \u001b[0msuper\u001b[0m\u001b[0;34m(\u001b[0m\u001b[0mStream\u001b[0m\u001b[0;34m,\u001b[0m \u001b[0mself\u001b[0m\u001b[0;34m)\u001b[0m\u001b[0;34m.\u001b[0m\u001b[0mshow\u001b[0m\u001b[0;34m(\u001b[0m\u001b[0;34m*\u001b[0m\u001b[0margs\u001b[0m\u001b[0;34m,\u001b[0m \u001b[0;34m**\u001b[0m\u001b[0mkwargs\u001b[0m\u001b[0;34m)\u001b[0m\u001b[0;34m\u001b[0m\u001b[0m\n\u001b[0m\u001b[1;32m    258\u001b[0m \u001b[0;34m\u001b[0m\u001b[0m\n\u001b[1;32m    259\u001b[0m     \u001b[0;31m#---------------------------------------------------------------------------\u001b[0m\u001b[0;34m\u001b[0m\u001b[0;34m\u001b[0m\u001b[0m\n",
      "\u001b[0;32m~/anaconda3/envs/music/lib/python3.6/site-packages/music21/base.py\u001b[0m in \u001b[0;36mshow\u001b[0;34m(self, fmt, app, **keywords)\u001b[0m\n\u001b[1;32m   2627\u001b[0m                                  \u001b[0mapp\u001b[0m\u001b[0;34m=\u001b[0m\u001b[0mapp\u001b[0m\u001b[0;34m,\u001b[0m\u001b[0;34m\u001b[0m\u001b[0m\n\u001b[1;32m   2628\u001b[0m                                  \u001b[0msubformats\u001b[0m\u001b[0;34m=\u001b[0m\u001b[0msubformats\u001b[0m\u001b[0;34m,\u001b[0m\u001b[0;34m\u001b[0m\u001b[0m\n\u001b[0;32m-> 2629\u001b[0;31m                                  **keywords)\n\u001b[0m\u001b[1;32m   2630\u001b[0m \u001b[0;34m\u001b[0m\u001b[0m\n\u001b[1;32m   2631\u001b[0m     \u001b[0;31m#--------------------------------------------------------------------------\u001b[0m\u001b[0;34m\u001b[0m\u001b[0;34m\u001b[0m\u001b[0m\n",
      "\u001b[0;32m~/anaconda3/envs/music/lib/python3.6/site-packages/music21/converter/subConverters.py\u001b[0m in \u001b[0;36mshow\u001b[0;34m(self, obj, fmt, app, subformats, **keywords)\u001b[0m\n\u001b[1;32m    351\u001b[0m             \u001b[0;32mfor\u001b[0m \u001b[0ms\u001b[0m \u001b[0;32min\u001b[0m \u001b[0mscores\u001b[0m\u001b[0;34m:\u001b[0m\u001b[0;34m\u001b[0m\u001b[0m\n\u001b[1;32m    352\u001b[0m                 fp = helperSubConverter.write(s, helperFormat,\n\u001b[0;32m--> 353\u001b[0;31m                                               subformats=helperSubformats, **keywords)\n\u001b[0m\u001b[1;32m    354\u001b[0m \u001b[0;34m\u001b[0m\u001b[0m\n\u001b[1;32m    355\u001b[0m                 \u001b[0;32mif\u001b[0m \u001b[0mhelperSubformats\u001b[0m\u001b[0;34m[\u001b[0m\u001b[0;36m0\u001b[0m\u001b[0;34m]\u001b[0m \u001b[0;34m==\u001b[0m \u001b[0;34m'png'\u001b[0m\u001b[0;34m:\u001b[0m\u001b[0;34m\u001b[0m\u001b[0m\n",
      "\u001b[0;32m~/anaconda3/envs/music/lib/python3.6/site-packages/music21/converter/subConverters.py\u001b[0m in \u001b[0;36mwrite\u001b[0;34m(self, obj, fmt, fp, subformats, **keywords)\u001b[0m\n\u001b[1;32m    873\u001b[0m                 \u001b[0;32mand\u001b[0m \u001b[0;34m(\u001b[0m\u001b[0;34m'png'\u001b[0m \u001b[0;32min\u001b[0m \u001b[0msubformats\u001b[0m \u001b[0;32mor\u001b[0m \u001b[0;34m'pdf'\u001b[0m \u001b[0;32min\u001b[0m \u001b[0msubformats\u001b[0m\u001b[0;34m)\u001b[0m\u001b[0;34m\u001b[0m\u001b[0m\n\u001b[1;32m    874\u001b[0m                 and environLocal['musescoreDirectPNGPath'] != '/skip'):\n\u001b[0;32m--> 875\u001b[0;31m             \u001b[0mfp\u001b[0m \u001b[0;34m=\u001b[0m \u001b[0mself\u001b[0m\u001b[0;34m.\u001b[0m\u001b[0mrunThroughMusescore\u001b[0m\u001b[0;34m(\u001b[0m\u001b[0mfp\u001b[0m\u001b[0;34m,\u001b[0m \u001b[0msubformats\u001b[0m\u001b[0;34m,\u001b[0m \u001b[0;34m**\u001b[0m\u001b[0mkeywords\u001b[0m\u001b[0;34m)\u001b[0m\u001b[0;34m\u001b[0m\u001b[0m\n\u001b[0m\u001b[1;32m    876\u001b[0m \u001b[0;34m\u001b[0m\u001b[0m\n\u001b[1;32m    877\u001b[0m         \u001b[0;32mreturn\u001b[0m \u001b[0mfp\u001b[0m\u001b[0;34m\u001b[0m\u001b[0m\n",
      "\u001b[0;32m~/anaconda3/envs/music/lib/python3.6/site-packages/music21/converter/subConverters.py\u001b[0m in \u001b[0;36mrunThroughMusescore\u001b[0;34m(self, fp, subformats, **keywords)\u001b[0m\n\u001b[1;32m    830\u001b[0m \u001b[0;34m\u001b[0m\u001b[0m\n\u001b[1;32m    831\u001b[0m         \u001b[0;32mif\u001b[0m \u001b[0msubformatExtension\u001b[0m \u001b[0;34m==\u001b[0m \u001b[0;34m'png'\u001b[0m\u001b[0;34m:\u001b[0m\u001b[0;34m\u001b[0m\u001b[0m\n\u001b[0;32m--> 832\u001b[0;31m             \u001b[0;32mreturn\u001b[0m \u001b[0mself\u001b[0m\u001b[0;34m.\u001b[0m\u001b[0mfindPNGfpFromXMLfp\u001b[0m\u001b[0;34m(\u001b[0m\u001b[0mfpOut\u001b[0m\u001b[0;34m)\u001b[0m\u001b[0;34m\u001b[0m\u001b[0m\n\u001b[0m\u001b[1;32m    833\u001b[0m         \u001b[0;32melse\u001b[0m\u001b[0;34m:\u001b[0m\u001b[0;34m\u001b[0m\u001b[0m\n\u001b[1;32m    834\u001b[0m             \u001b[0;32mreturn\u001b[0m \u001b[0mfpOut\u001b[0m\u001b[0;34m\u001b[0m\u001b[0m\n",
      "\u001b[0;32m~/anaconda3/envs/music/lib/python3.6/site-packages/music21/converter/subConverters.py\u001b[0m in \u001b[0;36mfindPNGfpFromXMLfp\u001b[0;34m(self, xmlFilePath)\u001b[0m\n\u001b[1;32m    748\u001b[0m             \u001b[0mpngfp\u001b[0m \u001b[0;34m=\u001b[0m \u001b[0mxmlFilePath\u001b[0m\u001b[0;34m[\u001b[0m\u001b[0;36m0\u001b[0m\u001b[0;34m:\u001b[0m\u001b[0mlen\u001b[0m\u001b[0;34m(\u001b[0m\u001b[0mxmlFilePath\u001b[0m\u001b[0;34m)\u001b[0m \u001b[0;34m-\u001b[0m \u001b[0;36m4\u001b[0m\u001b[0;34m]\u001b[0m \u001b[0;34m+\u001b[0m \u001b[0;34m\"-001.png\"\u001b[0m\u001b[0;34m\u001b[0m\u001b[0m\n\u001b[1;32m    749\u001b[0m         \u001b[0;32melse\u001b[0m\u001b[0;34m:\u001b[0m\u001b[0;34m\u001b[0m\u001b[0m\n\u001b[0;32m--> 750\u001b[0;31m             \u001b[0;32mraise\u001b[0m \u001b[0mSubConverterFileIOException\u001b[0m\u001b[0;34m(\u001b[0m\u001b[0;34m\"png file of xml not found. Is your file >999 pages?\"\u001b[0m\u001b[0;34m)\u001b[0m\u001b[0;34m\u001b[0m\u001b[0m\n\u001b[0m\u001b[1;32m    751\u001b[0m         \u001b[0;32mreturn\u001b[0m \u001b[0mpngfp\u001b[0m\u001b[0;34m\u001b[0m\u001b[0m\n\u001b[1;32m    752\u001b[0m \u001b[0;34m\u001b[0m\u001b[0m\n",
      "\u001b[0;31mSubConverterFileIOException\u001b[0m: png file of xml not found. Is your file >999 pages?"
     ]
    }
   ],
   "source": [
    "s.show()"
   ]
  },
  {
   "cell_type": "code",
   "execution_count": 45,
   "metadata": {},
   "outputs": [
    {
     "name": "stderr",
     "output_type": "stream",
     "text": [
      "midi.base.py: WARNING: Conversion error for <MidiEvent PROGRAM_CHANGE, t=0, track=1, channel=1>: Got incorrect data for <MidiEvent PROGRAM_CHANGE, t=0, track=1, channel=1> in .data: None,cannot parse Program Change; ignored.\n"
     ]
    }
   ],
   "source": [
    "fp = s.write('midi', fp='/home/paperspace/music_rnn/data/out/out-13.midi')"
   ]
  },
  {
   "cell_type": "code",
   "execution_count": 15,
   "metadata": {},
   "outputs": [
    {
     "name": "stderr",
     "output_type": "stream",
     "text": [
      "midi.base.py: WARNING: Conversion error for <MidiEvent PROGRAM_CHANGE, t=0, track=1, channel=1>: Got incorrect data for <MidiEvent PROGRAM_CHANGE, t=0, track=1, channel=1> in .data: None,cannot parse Program Change; ignored.\n"
     ]
    },
    {
     "data": {
      "text/html": [
       "\n",
       "                <div id='midiPlayerDiv5618'></div>\n",
       "                <link rel=\"stylesheet\" href=\"http://artusi.xyz/music21j/css/m21.css\"\n",
       "                    type=\"text/css\" />\n",
       "                <script>\n",
       "                require.config({\n",
       "                    paths: {'music21': 'http://artusi.xyz/music21j/src/music21'}\n",
       "                });\n",
       "                require(['music21'], function() {\n",
       "                               mp = new music21.miditools.MidiPlayer();\n",
       "                               mp.addPlayer('#midiPlayerDiv5618');\n",
       "                               mp.base64Load('data:audio/midi;base64,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');\n",
       "                        });\n",
       "                </script>"
      ],
      "text/plain": [
       "<IPython.core.display.HTML object>"
      ]
     },
     "metadata": {},
     "output_type": "display_data"
    }
   ],
   "source": [
    "s.show('midi')"
   ]
  },
  {
   "cell_type": "code",
   "execution_count": 70,
   "metadata": {},
   "outputs": [
    {
     "data": {
      "text/plain": [
       "'/usr/bin/musescore-xvfb'"
      ]
     },
     "execution_count": 70,
     "metadata": {},
     "output_type": "execute_result"
    }
   ],
   "source": [
    "environment.get('musescoreDirectPNGPath')"
   ]
  },
  {
   "cell_type": "code",
   "execution_count": 71,
   "metadata": {},
   "outputs": [],
   "source": [
    "# https://groups.google.com/forum/#!topic/music21list/BC6DsaUQlTQ\n",
    "path = '/home/paperspace/music_rnn/musescore-xvfb'\n",
    "# path = '/usr/bin/musescore-xvfb'\n",
    "environment.set('musescoreDirectPNGPath', path)\n",
    "environment.set('musicxmlPath', path)"
   ]
  },
  {
   "cell_type": "code",
   "execution_count": 46,
   "metadata": {},
   "outputs": [
    {
     "data": {
      "text/html": [
       "<a href='data/out/out-13.midi' target='_blank'>data/out/out-13.midi</a><br>"
      ],
      "text/plain": [
       "/home/paperspace/music_rnn/data/out/out-13.midi"
      ]
     },
     "execution_count": 46,
     "metadata": {},
     "output_type": "execute_result"
    }
   ],
   "source": [
    "from IPython.lib.display import FileLink\n",
    "\n",
    "FileLink('data/out/out-13.midi')"
   ]
  },
  {
   "cell_type": "code",
   "execution_count": null,
   "metadata": {},
   "outputs": [],
   "source": []
  },
  {
   "cell_type": "code",
   "execution_count": 32,
   "metadata": {},
   "outputs": [],
   "source": [
    "t = \"Sach' Gott heimgestellt\"\n",
    "a = next(corpus.chorales.Iterator())"
   ]
  },
  {
   "cell_type": "code",
   "execution_count": 38,
   "metadata": {},
   "outputs": [
    {
     "data": {
      "text/html": [
       "\n",
       "                <div id='midiPlayerDiv17559'></div>\n",
       "                <link rel=\"stylesheet\" href=\"http://artusi.xyz/music21j/css/m21.css\"\n",
       "                    type=\"text/css\" />\n",
       "                <script>\n",
       "                require.config({\n",
       "                    paths: {'music21': 'http://artusi.xyz/music21j/src/music21'}\n",
       "                });\n",
       "                require(['music21'], function() {\n",
       "                               mp = new music21.miditools.MidiPlayer();\n",
       "                               mp.addPlayer('#midiPlayerDiv17559');\n",
       "                               mp.base64Load('data:audio/midi;base64,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');\n",
       "                        });\n",
       "                </script>"
      ],
      "text/plain": [
       "<IPython.core.display.HTML object>"
      ]
     },
     "metadata": {},
     "output_type": "display_data"
    }
   ],
   "source": [
    "a.show('midi')"
   ]
  },
  {
   "cell_type": "code",
   "execution_count": 39,
   "metadata": {},
   "outputs": [],
   "source": [
    "fp = a.write('midi', fp='/home/paperspace/music_rnn/data/out/testout.midi')"
   ]
  },
  {
   "cell_type": "code",
   "execution_count": 41,
   "metadata": {},
   "outputs": [
    {
     "data": {
      "text/html": [
       "<a href='data/out/testout.midi' target='_blank'>data/out/testout.midi</a><br>"
      ],
      "text/plain": [
       "/home/paperspace/music_rnn/data/out/testout.midi"
      ]
     },
     "execution_count": 41,
     "metadata": {},
     "output_type": "execute_result"
    }
   ],
   "source": [
    "FileLink('data/out/testout.midi')"
   ]
  },
  {
   "cell_type": "code",
   "execution_count": 61,
   "metadata": {},
   "outputs": [],
   "source": [
    "import matplotlib.pyplot as plt"
   ]
  },
  {
   "cell_type": "code",
   "execution_count": 64,
   "metadata": {},
   "outputs": [
    {
     "data": {
      "text/plain": [
       "<matplotlib.image.AxesImage at 0x7efc21aeb748>"
      ]
     },
     "execution_count": 64,
     "metadata": {},
     "output_type": "execute_result"
    },
    {
     "data": {
      "image/png": "[encoded data removed]",
      "text/plain": [
       "<matplotlib.figure.Figure at 0x7efc21aa5828>"
      ]
     },
     "metadata": {
      "image/png": {
       "height": 252,
       "width": 202
      }
     },
     "output_type": "display_data"
    }
   ],
   "source": [
    "plt.imshow(plt.imread('asdf-2.png'))"
   ]
  },
  {
   "cell_type": "code",
   "execution_count": null,
   "metadata": {},
   "outputs": [],
   "source": []
  }
 ],
 "metadata": {
  "kernelspec": {
   "display_name": "Python 3",
   "language": "python",
   "name": "python3"
  },
  "language_info": {
   "codemirror_mode": {
    "name": "ipython",
    "version": 3
   },
   "file_extension": ".py",
   "mimetype": "text/x-python",
   "name": "python",
   "nbconvert_exporter": "python",
   "pygments_lexer": "ipython3",
   "version": "3.6.4"
  }
 },
 "nbformat": 4,
 "nbformat_minor": 2
}
