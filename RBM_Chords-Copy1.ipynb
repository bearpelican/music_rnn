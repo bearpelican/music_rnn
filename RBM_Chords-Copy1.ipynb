{
 "cells": [
  {
   "cell_type": "code",
   "execution_count": 2,
   "metadata": {},
   "outputs": [],
   "source": [
    "#This file is heavily based on Daniel Johnson's midi manipulation code in https://github.com/hexahedria/biaxial-rnn-music-composition\n",
    "\n",
    "import numpy as np\n",
    "import pandas as pd\n",
    "import msgpack\n",
    "import glob\n",
    "import tensorflow as tf\n",
    "from tensorflow.python.ops import control_flow_ops\n",
    "from tqdm import tqdm"
   ]
  },
  {
   "cell_type": "code",
   "execution_count": 3,
   "metadata": {},
   "outputs": [],
   "source": [
    "###################################################\n",
    "# In order for this code to work, you need to place this file in the same \n",
    "# directory as the midi_manipulation.py file and the Pop_Music_Midi directory\n",
    "\n",
    "import midi_manipulation"
   ]
  },
  {
   "cell_type": "code",
   "execution_count": 4,
   "metadata": {},
   "outputs": [
    {
     "name": "stderr",
     "output_type": "stream",
     "text": [
      "100%|██████████| 126/126 [00:03<00:00, 37.60it/s]"
     ]
    },
    {
     "name": "stdout",
     "output_type": "stream",
     "text": [
      "122 songs processed\n"
     ]
    },
    {
     "name": "stderr",
     "output_type": "stream",
     "text": [
      "\n"
     ]
    }
   ],
   "source": [
    "def get_songs(path):\n",
    "    files = glob.glob('{}/*.mid*'.format(path))\n",
    "    songs = []\n",
    "    for f in tqdm(files):\n",
    "        try:\n",
    "            song = np.array(midi_manipulation.midiToNoteStateMatrix(f))\n",
    "            if np.array(song).shape[0] > 50:\n",
    "                songs.append(song)\n",
    "        except Exception as e:\n",
    "            raise e           \n",
    "    return songs\n",
    "\n",
    "songs = get_songs('Pop_Music_Midi') #These songs have already been converted from midi to msgpack\n",
    "print \"{} songs processed\".format(len(songs))\n",
    "###################################################"
   ]
  },
  {
   "cell_type": "code",
   "execution_count": 7,
   "metadata": {},
   "outputs": [
    {
     "data": {
      "text/plain": [
       "(257, 156)"
      ]
     },
     "execution_count": 7,
     "metadata": {},
     "output_type": "execute_result"
    }
   ],
   "source": [
    "songs[0].shape"
   ]
  },
  {
   "cell_type": "code",
   "execution_count": 8,
   "metadata": {},
   "outputs": [
    {
     "data": {
      "text/plain": [
       "(145, 156)"
      ]
     },
     "execution_count": 8,
     "metadata": {},
     "output_type": "execute_result"
    }
   ],
   "source": [
    "songs[1].shape"
   ]
  },
  {
   "cell_type": "code",
   "execution_count": 9,
   "metadata": {},
   "outputs": [],
   "source": [
    "### HyperParameters\n",
    "# First, let's take a look at the hyperparameters of our model:\n",
    "\n",
    "lowest_note = midi_manipulation.lowerBound #the index of the lowest note on the piano roll\n",
    "highest_note = midi_manipulation.upperBound #the index of the highest note on the piano roll\n",
    "note_range = highest_note-lowest_note #the note range\n",
    "\n",
    "num_timesteps  = 15 #This is the number of timesteps that we will create at a time\n",
    "n_visible      = 2*note_range*num_timesteps #This is the size of the visible layer. \n",
    "n_hidden       = 50 #This is the size of the hidden layer\n",
    "\n",
    "num_epochs = 200 #The number of training epochs that we are going to run. For each epoch we go through the entire data set.\n",
    "batch_size = 100 #The number of training examples that we are going to send through the RBM at a time. \n",
    "lr         = tf.constant(0.005, tf.float32) #The learning rate of our model"
   ]
  },
  {
   "cell_type": "code",
   "execution_count": 10,
   "metadata": {},
   "outputs": [],
   "source": [
    "### Variables:\n",
    "# Next, let's look at the variables we're going to use:\n",
    "\n",
    "x  = tf.placeholder(tf.float32, [None, n_visible], name=\"x\") #The placeholder variable that holds our data\n",
    "W  = tf.Variable(tf.random_normal([n_visible, n_hidden], 0.01), name=\"W\") #The weight matrix that stores the edge weights\n",
    "bh = tf.Variable(tf.zeros([1, n_hidden],  tf.float32, name=\"bh\")) #The bias vector for the hidden layer\n",
    "bv = tf.Variable(tf.zeros([1, n_visible],  tf.float32, name=\"bv\")) #The bias vector for the visible layer"
   ]
  },
  {
   "cell_type": "code",
   "execution_count": 19,
   "metadata": {},
   "outputs": [],
   "source": [
    "#### Helper functions. \n",
    "\n",
    "#This function lets us easily sample from a vector of probabilities\n",
    "def sample(probs):\n",
    "    #Takes in a vector of probabilities, and returns a random vector of 0s and 1s sampled from the input vector\n",
    "    return tf.floor(probs + tf.random_uniform(tf.shape(probs), 0, 1))\n",
    "\n",
    "#This function runs the gibbs chain. We will call this function in two places:\n",
    "#    - When we define the training update step\n",
    "#    - When we sample our music segments from the trained RBM\n",
    "def gibbs_sample(k):\n",
    "    #Runs a k-step gibbs chain to sample from the probability distribution of the RBM defined by W, bh, bv\n",
    "    def gibbs_step(count, k, xk):\n",
    "        #Runs a single gibbs step. The visible values are initialized to xk\n",
    "        hk = sample(tf.sigmoid(tf.matmul(xk, W) + bh)) #Propagate the visible values to sample the hidden values\n",
    "        xk = sample(tf.sigmoid(tf.matmul(hk, tf.transpose(W)) + bv)) #Propagate the hidden values to sample the visible values\n",
    "        return count+1, k, xk\n",
    "\n",
    "    #Run gibbs steps for k iterations\n",
    "    ct = tf.constant(0) #counter\n",
    "    [_, _, x_sample] = tf.while_loop(lambda count, num_iter, *args: count < num_iter,\n",
    "                                         gibbs_step, [ct, tf.constant(k), x], parallel_iterations=1, back_prop=False)\n",
    "#                                          gibbs_step, [ct, tf.constant(k), x], 1, False)\n",
    "    #This is not strictly necessary in this implementation, but if you want to adapt this code to use one of TensorFlow's\n",
    "    #optimizers, you need this in order to stop tensorflow from propagating gradients back through the gibbs step\n",
    "    x_sample = tf.stop_gradient(x_sample) \n",
    "    return x_sample"
   ]
  },
  {
   "cell_type": "code",
   "execution_count": 25,
   "metadata": {},
   "outputs": [],
   "source": [
    "### Training Update Code\n",
    "# Now we implement the contrastive divergence algorithm. First, we get the samples of x and h from the probability distribution\n",
    "#The sample of x\n",
    "x_sample = gibbs_sample(1) \n",
    "#The sample of the hidden nodes, starting from the visible state of x\n",
    "h = sample(tf.sigmoid(tf.matmul(x, W) + bh)) \n",
    "#The sample of the hidden nodes, starting from the visible state of x_sample\n",
    "h_sample = sample(tf.sigmoid(tf.matmul(x_sample, W) + bh)) \n",
    "\n",
    "#Next, we update the values of W, bh, and bv, based on the difference between the samples that we drew and the original values\n",
    "size_bt = tf.cast(tf.shape(x)[0], tf.float32)\n",
    "W_adder  = tf.multiply(lr/size_bt, tf.subtract(tf.matmul(tf.transpose(x), h), tf.matmul(tf.transpose(x_sample), h_sample)))\n",
    "bv_adder = tf.multiply(lr/size_bt, tf.reduce_sum(tf.subtract(x, x_sample), 0, True))\n",
    "bh_adder = tf.multiply(lr/size_bt, tf.reduce_sum(tf.subtract(h, h_sample), 0, True))\n",
    "#When we do sess.run(updt), TensorFlow will run all 3 update steps\n",
    "updt = [W.assign_add(W_adder), bv.assign_add(bv_adder), bh.assign_add(bh_adder)]"
   ]
  },
  {
   "cell_type": "code",
   "execution_count": 32,
   "metadata": {},
   "outputs": [
    {
     "name": "stderr",
     "output_type": "stream",
     "text": [
      " 27%|██▋       | 54/200 [00:00<00:00, 539.66it/s]"
     ]
    },
    {
     "name": "stdout",
     "output_type": "stream",
     "text": [
      "('song', (17, 2340))\n",
      "('tr_x', (16, 2340))\n",
      "('song', (17, 2340))\n",
      "('tr_x', (16, 2340))\n",
      "('song', (17, 2340))\n",
      "('tr_x', (16, 2340))\n",
      "('song', (17, 2340))\n",
      "('tr_x', (16, 2340))\n",
      "('song', (17, 2340))\n",
      "('tr_x', (16, 2340))\n",
      "('song', (17, 2340))\n",
      "('tr_x', (16, 2340))\n",
      "('song', (17, 2340))\n",
      "('tr_x', (16, 2340))\n",
      "('song', (17, 2340))\n",
      "('tr_x', (16, 2340))\n",
      "('song', (17, 2340))\n",
      "('tr_x', (16, 2340))\n",
      "('song', (17, 2340))\n",
      "('tr_x', (16, 2340))\n",
      "('song', (17, 2340))\n",
      "('tr_x', (16, 2340))\n",
      "('song', (17, 2340))\n",
      "('tr_x', (16, 2340))\n",
      "('song', (17, 2340))\n",
      "('tr_x', (16, 2340))\n",
      "('song', (17, 2340))\n",
      "('tr_x', (16, 2340))\n",
      "('song', (17, 2340))\n",
      "('tr_x', (16, 2340))\n",
      "('song', (17, 2340))\n",
      "('tr_x', (16, 2340))\n",
      "('song', (17, 2340))\n",
      "('tr_x', (16, 2340))\n",
      "('song', (17, 2340))\n",
      "('tr_x', (16, 2340))\n",
      "('song', (17, 2340))\n",
      "('tr_x', (16, 2340))\n",
      "('song', (17, 2340))\n",
      "('tr_x', (16, 2340))\n",
      "('song', (17, 2340))\n",
      "('tr_x', (16, 2340))\n",
      "('song', (17, 2340))\n",
      "('tr_x', (16, 2340))\n",
      "('song', (17, 2340))\n",
      "('tr_x', (16, 2340))\n",
      "('song', (17, 2340))\n",
      "('tr_x', (16, 2340))\n",
      "('song', (17, 2340))\n",
      "('tr_x', (16, 2340))\n",
      "('song', (17, 2340))\n",
      "('tr_x', (16, 2340))\n",
      "('song', (17, 2340))\n",
      "('tr_x', (16, 2340))\n",
      "('song', (17, 2340))\n",
      "('tr_x', (16, 2340))\n",
      "('song', (17, 2340))\n",
      "('tr_x', (16, 2340))\n",
      "('song', (17, 2340))\n",
      "('tr_x', (16, 2340))\n",
      "('song', (17, 2340))\n",
      "('tr_x', (16, 2340))\n",
      "('song', (17, 2340))\n",
      "('tr_x', (16, 2340))\n",
      "('song', (17, 2340))\n",
      "('tr_x', (16, 2340))\n",
      "('song', (17, 2340))\n",
      "('tr_x', (16, 2340))\n",
      "('song', (17, 2340))\n",
      "('tr_x', (16, 2340))\n",
      "('song', (17, 2340))\n",
      "('tr_x', (16, 2340))\n",
      "('song', (17, 2340))\n",
      "('tr_x', (16, 2340))\n",
      "('song', (17, 2340))\n",
      "('tr_x', (16, 2340))\n",
      "('song', (17, 2340))\n",
      "('tr_x', (16, 2340))\n",
      "('song', (17, 2340))\n",
      "('tr_x', (16, 2340))\n",
      "('song', (17, 2340))\n",
      "('tr_x', (16, 2340))\n",
      "('song', (17, 2340))\n",
      "('tr_x', (16, 2340))\n",
      "('song', (17, 2340))\n",
      "('tr_x', (16, 2340))\n",
      "('song', (17, 2340))\n",
      "('tr_x', (16, 2340))\n",
      "('song', (17, 2340))\n",
      "('tr_x', (16, 2340))\n",
      "('song', (17, 2340))\n",
      "('tr_x', (16, 2340))\n",
      "('song', (17, 2340))\n",
      "('tr_x', (16, 2340))\n",
      "('song', (17, 2340))\n",
      "('tr_x', (16, 2340))\n",
      "('song', (17, 2340))\n",
      "('tr_x', (16, 2340))\n",
      "('song', (17, 2340))\n",
      "('tr_x', (16, 2340))\n",
      "('song', (17, 2340))\n",
      "('tr_x', (16, 2340))\n",
      "('song', (17, 2340))\n",
      "('tr_x', (16, 2340))\n",
      "('song', (17, 2340))\n",
      "('tr_x', (16, 2340))\n",
      "('song', (17, 2340))\n",
      "('tr_x', (16, 2340))\n",
      "('song', (17, 2340))\n",
      "('tr_x', (16, 2340))\n",
      "('song', (17, 2340))\n",
      "('tr_x', (16, 2340))\n",
      "('song', (17, 2340))\n",
      "('tr_x', (16, 2340))\n",
      "('song', (17, 2340))\n",
      "('tr_x', (16, 2340))\n",
      "('song', (17, 2340))\n",
      "('tr_x', (16, 2340))\n",
      "('song', (17, 2340))\n",
      "('tr_x', (16, 2340))\n",
      "('song', (17, 2340))\n",
      "('tr_x', (16, 2340))\n",
      "('song', (17, 2340))\n",
      "('tr_x', (16, 2340))\n",
      "('song', (17, 2340))\n",
      "('tr_x', (16, 2340))\n",
      "('song', (17, 2340))\n",
      "('tr_x', (16, 2340))\n",
      "('song', (17, 2340))\n",
      "('tr_x', (16, 2340))\n",
      "('song', (17, 2340))\n",
      "('tr_x', (16, 2340))\n",
      "('song', (17, 2340))\n",
      "('tr_x', (16, 2340))\n",
      "('song', (17, 2340))\n",
      "('tr_x', (16, 2340))\n",
      "('song', (17, 2340))\n",
      "('tr_x', (16, 2340))\n",
      "('song', (17, 2340))\n",
      "('tr_x', (16, 2340))\n",
      "('song', (17, 2340))\n",
      "('tr_x', (16, 2340))\n",
      "('song', (17, 2340))\n",
      "('tr_x', (16, 2340))\n",
      "('song', (17, 2340))\n",
      "('tr_x', (16, 2340))\n",
      "('song', (17, 2340))\n",
      "('tr_x', (16, 2340))\n",
      "('song', (17, 2340))\n",
      "('tr_x', (16, 2340))\n",
      "('song', (17, 2340))\n",
      "('tr_x', (16, 2340))\n",
      "('song', (17, 2340))\n",
      "('tr_x', (16, 2340))\n",
      "('song', (17, 2340))\n",
      "('tr_x', (16, 2340))\n",
      "('song', (17, 2340))\n",
      "('tr_x', (16, 2340))\n",
      "('song', (17, 2340))\n",
      "('tr_x', (16, 2340))\n",
      "('song', (17, 2340))\n",
      "('tr_x', (16, 2340))\n",
      "('song', (17, 2340))\n",
      "('tr_x', (16, 2340))\n",
      "('song', (17, 2340))\n",
      "('tr_x', (16, 2340))\n",
      "('song', (17, 2340))\n",
      "('tr_x', (16, 2340))\n",
      "('song', (17, 2340))\n",
      "('tr_x', (16, 2340))\n",
      "('song', (17, 2340))\n",
      "('tr_x', (16, 2340))\n",
      "('song', (17, 2340))\n",
      "('tr_x', (16, 2340))\n",
      "('song', (17, 2340))\n",
      "('tr_x', (16, 2340))\n",
      "('song', (17, 2340))\n",
      "('tr_x', (16, 2340))\n",
      "('song', (17, 2340))\n",
      "('tr_x', (16, 2340))\n",
      "('song', (17, 2340))\n",
      "('tr_x', (16, 2340))\n",
      "('song', (17, 2340))\n",
      "('tr_x', (16, 2340))\n",
      "('song', (17, 2340))\n",
      "('tr_x', (16, 2340))\n",
      "('song', (17, 2340))\n",
      "('tr_x', (16, 2340))\n",
      "('song', (17, 2340))\n",
      "('tr_x', (16, 2340))\n",
      "('song', (17, 2340))\n",
      "('tr_x', (16, 2340))\n",
      "('song', (17, 2340))\n",
      "('tr_x', (16, 2340))\n",
      "('song', (17, 2340))\n",
      "('tr_x', (16, 2340))\n",
      "('song', (17, 2340))\n",
      "('tr_x', (16, 2340))\n",
      "('song', (17, 2340))\n",
      "('tr_x', (16, 2340))\n",
      "('song', (17, 2340))\n",
      "('tr_x', (16, 2340))\n",
      "('song', (17, 2340))\n",
      "('tr_x', (16, 2340))\n",
      "('song', (17, 2340))\n",
      "('tr_x', (16, 2340))\n",
      "('song', (17, 2340))\n",
      "('tr_x', (16, 2340))\n",
      "('song', (17, 2340))\n",
      "('tr_x', (16, 2340))\n",
      "('song', (17, 2340))\n",
      "('tr_x', (16, 2340))\n",
      "('song', (17, 2340))\n",
      "('tr_x', (16, 2340))\n",
      "('song', (17, 2340))\n",
      "('tr_x', (16, 2340))\n",
      "('song', (17, 2340))\n",
      "('tr_x', (16, 2340))\n",
      "('song', (17, 2340))\n",
      "('tr_x', (16, 2340))\n",
      "('song', (17, 2340))\n",
      "('tr_x', (16, 2340))\n",
      "('song', (17, 2340))\n",
      "('tr_x', (16, 2340))\n",
      "('song', (17, 2340))\n",
      "('tr_x', (16, 2340))\n",
      "('song', (17, 2340))\n",
      "('tr_x', (16, 2340))\n",
      "('song', (17, 2340))\n",
      "('tr_x', (16, 2340))\n",
      "('song', (17, 2340))\n",
      "('tr_x', (16, 2340))\n",
      "('song', (17, 2340))\n",
      "('tr_x', (16, 2340))\n",
      "('song', (17, 2340))\n",
      "('tr_x', (16, 2340))\n",
      "('song', (17, 2340))\n",
      "('tr_x', (16, 2340))\n"
     ]
    },
    {
     "name": "stderr",
     "output_type": "stream",
     "text": [
      "100%|██████████| 200/200 [00:00<00:00, 586.39it/s]"
     ]
    },
    {
     "name": "stdout",
     "output_type": "stream",
     "text": [
      "('song', (17, 2340))\n",
      "('tr_x', (16, 2340))\n",
      "('song', (17, 2340))\n",
      "('tr_x', (16, 2340))\n",
      "('song', (17, 2340))\n",
      "('tr_x', (16, 2340))\n",
      "('song', (17, 2340))\n",
      "('tr_x', (16, 2340))\n",
      "('song', (17, 2340))\n",
      "('tr_x', (16, 2340))\n",
      "('song', (17, 2340))\n",
      "('tr_x', (16, 2340))\n",
      "('song', (17, 2340))\n",
      "('tr_x', (16, 2340))\n",
      "('song', (17, 2340))\n",
      "('tr_x', (16, 2340))\n",
      "('song', (17, 2340))\n",
      "('tr_x', (16, 2340))\n",
      "('song', (17, 2340))\n",
      "('tr_x', (16, 2340))\n",
      "('song', (17, 2340))\n",
      "('tr_x', (16, 2340))\n",
      "('song', (17, 2340))\n",
      "('tr_x', (16, 2340))\n",
      "('song', (17, 2340))\n",
      "('tr_x', (16, 2340))\n",
      "('song', (17, 2340))\n",
      "('tr_x', (16, 2340))\n",
      "('song', (17, 2340))\n",
      "('tr_x', (16, 2340))\n",
      "('song', (17, 2340))\n",
      "('tr_x', (16, 2340))\n",
      "('song', (17, 2340))\n",
      "('tr_x', (16, 2340))\n",
      "('song', (17, 2340))\n",
      "('tr_x', (16, 2340))\n",
      "('song', (17, 2340))\n",
      "('tr_x', (16, 2340))\n",
      "('song', (17, 2340))\n",
      "('tr_x', (16, 2340))\n",
      "('song', (17, 2340))\n",
      "('tr_x', (16, 2340))\n",
      "('song', (17, 2340))\n",
      "('tr_x', (16, 2340))\n",
      "('song', (17, 2340))\n",
      "('tr_x', (16, 2340))\n",
      "('song', (17, 2340))\n",
      "('tr_x', (16, 2340))\n",
      "('song', (17, 2340))\n",
      "('tr_x', (16, 2340))\n",
      "('song', (17, 2340))\n",
      "('tr_x', (16, 2340))\n",
      "('song', (17, 2340))\n",
      "('tr_x', (16, 2340))\n",
      "('song', (17, 2340))\n",
      "('tr_x', (16, 2340))\n",
      "('song', (17, 2340))\n",
      "('tr_x', (16, 2340))\n",
      "('song', (17, 2340))\n",
      "('tr_x', (16, 2340))\n",
      "('song', (17, 2340))\n",
      "('tr_x', (16, 2340))\n",
      "('song', (17, 2340))\n",
      "('tr_x', (16, 2340))\n",
      "('song', (17, 2340))\n",
      "('tr_x', (16, 2340))\n",
      "('song', (17, 2340))\n",
      "('tr_x', (16, 2340))\n",
      "('song', (17, 2340))\n",
      "('tr_x', (16, 2340))\n",
      "('song', (17, 2340))\n",
      "('tr_x', (16, 2340))\n",
      "('song', (17, 2340))\n",
      "('tr_x', (16, 2340))\n",
      "('song', (17, 2340))\n",
      "('tr_x', (16, 2340))\n",
      "('song', (17, 2340))\n",
      "('tr_x', (16, 2340))\n",
      "('song', (17, 2340))\n",
      "('tr_x', (16, 2340))\n",
      "('song', (17, 2340))\n",
      "('tr_x', (16, 2340))\n",
      "('song', (17, 2340))\n",
      "('tr_x', (16, 2340))\n",
      "('song', (17, 2340))\n",
      "('tr_x', (16, 2340))\n",
      "('song', (17, 2340))\n",
      "('tr_x', (16, 2340))\n",
      "('song', (17, 2340))\n",
      "('tr_x', (16, 2340))\n",
      "('song', (17, 2340))\n",
      "('tr_x', (16, 2340))\n",
      "('song', (17, 2340))\n",
      "('tr_x', (16, 2340))\n",
      "('song', (17, 2340))\n",
      "('tr_x', (16, 2340))\n",
      "('song', (17, 2340))\n",
      "('tr_x', (16, 2340))\n",
      "('song', (17, 2340))\n",
      "('tr_x', (16, 2340))\n",
      "('song', (17, 2340))\n",
      "('tr_x', (16, 2340))\n",
      "('song', (17, 2340))\n",
      "('tr_x', (16, 2340))\n",
      "('song', (17, 2340))\n",
      "('tr_x', (16, 2340))\n",
      "('song', (17, 2340))\n",
      "('tr_x', (16, 2340))\n",
      "('song', (17, 2340))\n",
      "('tr_x', (16, 2340))\n",
      "('song', (17, 2340))\n",
      "('tr_x', (16, 2340))\n",
      "('song', (17, 2340))\n",
      "('tr_x', (16, 2340))\n",
      "('song', (17, 2340))\n",
      "('tr_x', (16, 2340))\n",
      "('song', (17, 2340))\n",
      "('tr_x', (16, 2340))\n",
      "('song', (17, 2340))\n",
      "('tr_x', (16, 2340))\n",
      "('song', (17, 2340))\n",
      "('tr_x', (16, 2340))\n",
      "('song', (17, 2340))\n",
      "('tr_x', (16, 2340))\n",
      "('song', (17, 2340))\n",
      "('tr_x', (16, 2340))\n",
      "('song', (17, 2340))\n",
      "('tr_x', (16, 2340))\n",
      "('song', (17, 2340))\n",
      "('tr_x', (16, 2340))\n",
      "('song', (17, 2340))\n",
      "('tr_x', (16, 2340))\n",
      "('song', (17, 2340))\n",
      "('tr_x', (16, 2340))\n",
      "('song', (17, 2340))\n",
      "('tr_x', (16, 2340))\n",
      "('song', (17, 2340))\n",
      "('tr_x', (16, 2340))\n",
      "('song', (17, 2340))\n",
      "('tr_x', (16, 2340))\n",
      "('song', (17, 2340))\n",
      "('tr_x', (16, 2340))\n",
      "('song', (17, 2340))\n",
      "('tr_x', (16, 2340))\n",
      "('song', (17, 2340))\n",
      "('tr_x', (16, 2340))\n",
      "('song', (17, 2340))\n",
      "('tr_x', (16, 2340))\n",
      "('song', (17, 2340))\n",
      "('tr_x', (16, 2340))\n",
      "('song', (17, 2340))\n",
      "('tr_x', (16, 2340))\n",
      "('song', (17, 2340))\n",
      "('tr_x', (16, 2340))\n",
      "('song', (17, 2340))\n",
      "('tr_x', (16, 2340))\n",
      "('song', (17, 2340))\n",
      "('tr_x', (16, 2340))\n",
      "('song', (17, 2340))\n",
      "('tr_x', (16, 2340))\n",
      "('song', (17, 2340))\n",
      "('tr_x', (16, 2340))\n"
     ]
    },
    {
     "name": "stderr",
     "output_type": "stream",
     "text": [
      "\n"
     ]
    },
    {
     "ename": "TypeError",
     "evalue": "'numpy.ndarray' object is not callable",
     "output_type": "error",
     "traceback": [
      "\u001b[0;31m---------------------------------------------------------------------------\u001b[0m",
      "\u001b[0;31mTypeError\u001b[0m                                 Traceback (most recent call last)",
      "\u001b[0;32m<ipython-input-32-c0f31ebf0f81>\u001b[0m in \u001b[0;36m<module>\u001b[0;34m()\u001b[0m\n\u001b[1;32m     26\u001b[0m     \u001b[0;31m#Now the model is fully trained, so let's make some music!\u001b[0m\u001b[0;34m\u001b[0m\u001b[0;34m\u001b[0m\u001b[0m\n\u001b[1;32m     27\u001b[0m     \u001b[0;31m#Run a gibbs chain where the visible nodes are initialized to 0\u001b[0m\u001b[0;34m\u001b[0m\u001b[0;34m\u001b[0m\u001b[0m\n\u001b[0;32m---> 28\u001b[0;31m     \u001b[0msample\u001b[0m \u001b[0;34m=\u001b[0m \u001b[0mgibbs_sample\u001b[0m\u001b[0;34m(\u001b[0m\u001b[0;36m1\u001b[0m\u001b[0;34m)\u001b[0m\u001b[0;34m.\u001b[0m\u001b[0meval\u001b[0m\u001b[0;34m(\u001b[0m\u001b[0msession\u001b[0m\u001b[0;34m=\u001b[0m\u001b[0msess\u001b[0m\u001b[0;34m,\u001b[0m \u001b[0mfeed_dict\u001b[0m\u001b[0;34m=\u001b[0m\u001b[0;34m{\u001b[0m\u001b[0mx\u001b[0m\u001b[0;34m:\u001b[0m \u001b[0mnp\u001b[0m\u001b[0;34m.\u001b[0m\u001b[0mzeros\u001b[0m\u001b[0;34m(\u001b[0m\u001b[0;34m(\u001b[0m\u001b[0;36m10\u001b[0m\u001b[0;34m,\u001b[0m \u001b[0mn_visible\u001b[0m\u001b[0;34m)\u001b[0m\u001b[0;34m)\u001b[0m\u001b[0;34m}\u001b[0m\u001b[0;34m)\u001b[0m\u001b[0;34m\u001b[0m\u001b[0m\n\u001b[0m\u001b[1;32m     29\u001b[0m     \u001b[0;32mfor\u001b[0m \u001b[0mi\u001b[0m \u001b[0;32min\u001b[0m \u001b[0mrange\u001b[0m\u001b[0;34m(\u001b[0m\u001b[0msample\u001b[0m\u001b[0;34m.\u001b[0m\u001b[0mshape\u001b[0m\u001b[0;34m[\u001b[0m\u001b[0;36m0\u001b[0m\u001b[0;34m]\u001b[0m\u001b[0;34m)\u001b[0m\u001b[0;34m:\u001b[0m\u001b[0;34m\u001b[0m\u001b[0m\n\u001b[1;32m     30\u001b[0m         \u001b[0;32mif\u001b[0m \u001b[0;32mnot\u001b[0m \u001b[0many\u001b[0m\u001b[0;34m(\u001b[0m\u001b[0msample\u001b[0m\u001b[0;34m[\u001b[0m\u001b[0mi\u001b[0m\u001b[0;34m,\u001b[0m\u001b[0;34m:\u001b[0m\u001b[0;34m]\u001b[0m\u001b[0;34m)\u001b[0m\u001b[0;34m:\u001b[0m\u001b[0;34m\u001b[0m\u001b[0m\n",
      "\u001b[0;32m<ipython-input-19-390f775cd471>\u001b[0m in \u001b[0;36mgibbs_sample\u001b[0;34m(k)\u001b[0m\n\u001b[1;32m     20\u001b[0m     \u001b[0mct\u001b[0m \u001b[0;34m=\u001b[0m \u001b[0mtf\u001b[0m\u001b[0;34m.\u001b[0m\u001b[0mconstant\u001b[0m\u001b[0;34m(\u001b[0m\u001b[0;36m0\u001b[0m\u001b[0;34m)\u001b[0m \u001b[0;31m#counter\u001b[0m\u001b[0;34m\u001b[0m\u001b[0m\n\u001b[1;32m     21\u001b[0m     [_, _, x_sample] = tf.while_loop(lambda count, num_iter, *args: count < num_iter,\n\u001b[0;32m---> 22\u001b[0;31m                                          gibbs_step, [ct, tf.constant(k), x], parallel_iterations=1, back_prop=False)\n\u001b[0m\u001b[1;32m     23\u001b[0m \u001b[0;31m#                                          gibbs_step, [ct, tf.constant(k), x], 1, False)\u001b[0m\u001b[0;34m\u001b[0m\u001b[0;34m\u001b[0m\u001b[0m\n\u001b[1;32m     24\u001b[0m     \u001b[0;31m#This is not strictly necessary in this implementation, but if you want to adapt this code to use one of TensorFlow's\u001b[0m\u001b[0;34m\u001b[0m\u001b[0;34m\u001b[0m\u001b[0m\n",
      "\u001b[0;32m/home/paperspace/anaconda3/envs/py2/lib/python2.7/site-packages/tensorflow/python/ops/control_flow_ops.pyc\u001b[0m in \u001b[0;36mwhile_loop\u001b[0;34m(cond, body, loop_vars, shape_invariants, parallel_iterations, back_prop, swap_memory, name)\u001b[0m\n\u001b[1;32m   2773\u001b[0m     \u001b[0mcontext\u001b[0m \u001b[0;34m=\u001b[0m \u001b[0mWhileContext\u001b[0m\u001b[0;34m(\u001b[0m\u001b[0mparallel_iterations\u001b[0m\u001b[0;34m,\u001b[0m \u001b[0mback_prop\u001b[0m\u001b[0;34m,\u001b[0m \u001b[0mswap_memory\u001b[0m\u001b[0;34m,\u001b[0m \u001b[0mname\u001b[0m\u001b[0;34m)\u001b[0m\u001b[0;34m\u001b[0m\u001b[0m\n\u001b[1;32m   2774\u001b[0m     \u001b[0mops\u001b[0m\u001b[0;34m.\u001b[0m\u001b[0madd_to_collection\u001b[0m\u001b[0;34m(\u001b[0m\u001b[0mops\u001b[0m\u001b[0;34m.\u001b[0m\u001b[0mGraphKeys\u001b[0m\u001b[0;34m.\u001b[0m\u001b[0mWHILE_CONTEXT\u001b[0m\u001b[0;34m,\u001b[0m \u001b[0mcontext\u001b[0m\u001b[0;34m)\u001b[0m\u001b[0;34m\u001b[0m\u001b[0m\n\u001b[0;32m-> 2775\u001b[0;31m     \u001b[0mresult\u001b[0m \u001b[0;34m=\u001b[0m \u001b[0mcontext\u001b[0m\u001b[0;34m.\u001b[0m\u001b[0mBuildLoop\u001b[0m\u001b[0;34m(\u001b[0m\u001b[0mcond\u001b[0m\u001b[0;34m,\u001b[0m \u001b[0mbody\u001b[0m\u001b[0;34m,\u001b[0m \u001b[0mloop_vars\u001b[0m\u001b[0;34m,\u001b[0m \u001b[0mshape_invariants\u001b[0m\u001b[0;34m)\u001b[0m\u001b[0;34m\u001b[0m\u001b[0m\n\u001b[0m\u001b[1;32m   2776\u001b[0m     \u001b[0;32mreturn\u001b[0m \u001b[0mresult\u001b[0m\u001b[0;34m\u001b[0m\u001b[0m\n\u001b[1;32m   2777\u001b[0m \u001b[0;34m\u001b[0m\u001b[0m\n",
      "\u001b[0;32m/home/paperspace/anaconda3/envs/py2/lib/python2.7/site-packages/tensorflow/python/ops/control_flow_ops.pyc\u001b[0m in \u001b[0;36mBuildLoop\u001b[0;34m(self, pred, body, loop_vars, shape_invariants)\u001b[0m\n\u001b[1;32m   2602\u001b[0m       \u001b[0mself\u001b[0m\u001b[0;34m.\u001b[0m\u001b[0mEnter\u001b[0m\u001b[0;34m(\u001b[0m\u001b[0;34m)\u001b[0m\u001b[0;34m\u001b[0m\u001b[0m\n\u001b[1;32m   2603\u001b[0m       original_body_result, exit_vars = self._BuildLoop(\n\u001b[0;32m-> 2604\u001b[0;31m           pred, body, original_loop_vars, loop_vars, shape_invariants)\n\u001b[0m\u001b[1;32m   2605\u001b[0m     \u001b[0;32mfinally\u001b[0m\u001b[0;34m:\u001b[0m\u001b[0;34m\u001b[0m\u001b[0m\n\u001b[1;32m   2606\u001b[0m       \u001b[0mself\u001b[0m\u001b[0;34m.\u001b[0m\u001b[0mExit\u001b[0m\u001b[0;34m(\u001b[0m\u001b[0;34m)\u001b[0m\u001b[0;34m\u001b[0m\u001b[0m\n",
      "\u001b[0;32m/home/paperspace/anaconda3/envs/py2/lib/python2.7/site-packages/tensorflow/python/ops/control_flow_ops.pyc\u001b[0m in \u001b[0;36m_BuildLoop\u001b[0;34m(self, pred, body, original_loop_vars, loop_vars, shape_invariants)\u001b[0m\n\u001b[1;32m   2552\u001b[0m         \u001b[0mstructure\u001b[0m\u001b[0;34m=\u001b[0m\u001b[0moriginal_loop_vars\u001b[0m\u001b[0;34m,\u001b[0m\u001b[0;34m\u001b[0m\u001b[0m\n\u001b[1;32m   2553\u001b[0m         flat_sequence=vars_for_body_with_tensor_arrays)\n\u001b[0;32m-> 2554\u001b[0;31m     \u001b[0mbody_result\u001b[0m \u001b[0;34m=\u001b[0m \u001b[0mbody\u001b[0m\u001b[0;34m(\u001b[0m\u001b[0;34m*\u001b[0m\u001b[0mpacked_vars_for_body\u001b[0m\u001b[0;34m)\u001b[0m\u001b[0;34m\u001b[0m\u001b[0m\n\u001b[0m\u001b[1;32m   2555\u001b[0m     \u001b[0;32mif\u001b[0m \u001b[0;32mnot\u001b[0m \u001b[0mnest\u001b[0m\u001b[0;34m.\u001b[0m\u001b[0mis_sequence\u001b[0m\u001b[0;34m(\u001b[0m\u001b[0mbody_result\u001b[0m\u001b[0;34m)\u001b[0m\u001b[0;34m:\u001b[0m\u001b[0;34m\u001b[0m\u001b[0m\n\u001b[1;32m   2556\u001b[0m       \u001b[0mbody_result\u001b[0m \u001b[0;34m=\u001b[0m \u001b[0;34m[\u001b[0m\u001b[0mbody_result\u001b[0m\u001b[0;34m]\u001b[0m\u001b[0;34m\u001b[0m\u001b[0m\n",
      "\u001b[0;32m<ipython-input-19-390f775cd471>\u001b[0m in \u001b[0;36mgibbs_step\u001b[0;34m(count, k, xk)\u001b[0m\n\u001b[1;32m     13\u001b[0m     \u001b[0;32mdef\u001b[0m \u001b[0mgibbs_step\u001b[0m\u001b[0;34m(\u001b[0m\u001b[0mcount\u001b[0m\u001b[0;34m,\u001b[0m \u001b[0mk\u001b[0m\u001b[0;34m,\u001b[0m \u001b[0mxk\u001b[0m\u001b[0;34m)\u001b[0m\u001b[0;34m:\u001b[0m\u001b[0;34m\u001b[0m\u001b[0m\n\u001b[1;32m     14\u001b[0m         \u001b[0;31m#Runs a single gibbs step. The visible values are initialized to xk\u001b[0m\u001b[0;34m\u001b[0m\u001b[0;34m\u001b[0m\u001b[0m\n\u001b[0;32m---> 15\u001b[0;31m         \u001b[0mhk\u001b[0m \u001b[0;34m=\u001b[0m \u001b[0msample\u001b[0m\u001b[0;34m(\u001b[0m\u001b[0mtf\u001b[0m\u001b[0;34m.\u001b[0m\u001b[0msigmoid\u001b[0m\u001b[0;34m(\u001b[0m\u001b[0mtf\u001b[0m\u001b[0;34m.\u001b[0m\u001b[0mmatmul\u001b[0m\u001b[0;34m(\u001b[0m\u001b[0mxk\u001b[0m\u001b[0;34m,\u001b[0m \u001b[0mW\u001b[0m\u001b[0;34m)\u001b[0m \u001b[0;34m+\u001b[0m \u001b[0mbh\u001b[0m\u001b[0;34m)\u001b[0m\u001b[0;34m)\u001b[0m \u001b[0;31m#Propagate the visible values to sample the hidden values\u001b[0m\u001b[0;34m\u001b[0m\u001b[0m\n\u001b[0m\u001b[1;32m     16\u001b[0m         \u001b[0mxk\u001b[0m \u001b[0;34m=\u001b[0m \u001b[0msample\u001b[0m\u001b[0;34m(\u001b[0m\u001b[0mtf\u001b[0m\u001b[0;34m.\u001b[0m\u001b[0msigmoid\u001b[0m\u001b[0;34m(\u001b[0m\u001b[0mtf\u001b[0m\u001b[0;34m.\u001b[0m\u001b[0mmatmul\u001b[0m\u001b[0;34m(\u001b[0m\u001b[0mhk\u001b[0m\u001b[0;34m,\u001b[0m \u001b[0mtf\u001b[0m\u001b[0;34m.\u001b[0m\u001b[0mtranspose\u001b[0m\u001b[0;34m(\u001b[0m\u001b[0mW\u001b[0m\u001b[0;34m)\u001b[0m\u001b[0;34m)\u001b[0m \u001b[0;34m+\u001b[0m \u001b[0mbv\u001b[0m\u001b[0;34m)\u001b[0m\u001b[0;34m)\u001b[0m \u001b[0;31m#Propagate the hidden values to sample the visible values\u001b[0m\u001b[0;34m\u001b[0m\u001b[0m\n\u001b[1;32m     17\u001b[0m         \u001b[0;32mreturn\u001b[0m \u001b[0mcount\u001b[0m\u001b[0;34m+\u001b[0m\u001b[0;36m1\u001b[0m\u001b[0;34m,\u001b[0m \u001b[0mk\u001b[0m\u001b[0;34m,\u001b[0m \u001b[0mxk\u001b[0m\u001b[0;34m\u001b[0m\u001b[0m\n",
      "\u001b[0;31mTypeError\u001b[0m: 'numpy.ndarray' object is not callable"
     ]
    }
   ],
   "source": [
    "### Run the graph!\n",
    "# Now it's time to start a session and run the graph! \n",
    "\n",
    "with tf.Session() as sess:\n",
    "    #First, we train the model\n",
    "    #initialize the variables of the model\n",
    "    init = tf.global_variables_initializer()\n",
    "    sess.run(init)\n",
    "    #Run through all of the training data num_epochs times\n",
    "    for epoch in tqdm(range(num_epochs)):\n",
    "        for song in songs:\n",
    "            #The songs are stored in a time x notes format. The size of each song is timesteps_in_song x 2*note_range\n",
    "            #Here we reshape the songs so that each training example is a vector with num_timesteps x 2*note_range elements\n",
    "            song = np.array(song)\n",
    "            song = song[:int(np.floor(song.shape[0]/num_timesteps)*num_timesteps)]\n",
    "            song = np.reshape(song, [song.shape[0]/num_timesteps, song.shape[1]*num_timesteps])\n",
    "            print('song', song.shape)\n",
    "            #Train the RBM on batch_size examples at a time\n",
    "            for i in range(1, len(song), batch_size): \n",
    "                tr_x = song[i:i+batch_size]\n",
    "                print('tr_x', tr_x.shape)\n",
    "                sess.run(updt, feed_dict={x: tr_x})\n",
    "                break\n",
    "            break\n",
    "\n",
    "    #Now the model is fully trained, so let's make some music! \n",
    "    #Run a gibbs chain where the visible nodes are initialized to 0\n",
    "    sample = gibbs_sample(1).eval(session=sess, feed_dict={x: np.zeros((10, n_visible))})\n",
    "    for i in range(sample.shape[0]):\n",
    "        if not any(sample[i,:]):\n",
    "            continue\n",
    "        #Here we reshape the vector to be time x notes, and then save the vector as a midi file\n",
    "        S = np.reshape(sample[i,:], (num_timesteps, 2*note_range))\n",
    "        midi_manipulation.noteStateMatrixToMidi(S, \"generated_chord_{}\".format(i))\n",
    "        \n",
    "            "
   ]
  },
  {
   "cell_type": "code",
   "execution_count": null,
   "metadata": {},
   "outputs": [],
   "source": []
  },
  {
   "cell_type": "code",
   "execution_count": 34,
   "metadata": {},
   "outputs": [
    {
     "data": {
      "text/plain": [
       "(257, 156)"
      ]
     },
     "execution_count": 34,
     "metadata": {},
     "output_type": "execute_result"
    }
   ],
   "source": [
    "songs[0].shape"
   ]
  },
  {
   "cell_type": "code",
   "execution_count": 41,
   "metadata": {},
   "outputs": [],
   "source": [
    "song = songs[0]\n",
    "s = np.array(song)\n",
    "s1 = s[:int(np.floor(s.shape[0]/num_timesteps)*num_timesteps)]\n",
    "s2 = np.reshape(s1, [s1.shape[0]/num_timesteps, s1.shape[1]*num_timesteps])"
   ]
  },
  {
   "cell_type": "code",
   "execution_count": 47,
   "metadata": {},
   "outputs": [
    {
     "data": {
      "text/plain": [
       "array([0, 0, 0, 0, 0, 0, 0, 0, 0, 0, 0, 0, 0, 0, 0, 0, 0, 0, 0, 0, 0, 0,\n",
       "       0, 0, 0, 0, 1, 0, 0, 0, 0, 0, 0, 1, 0, 0, 1, 0, 0, 0, 0, 1, 0, 0,\n",
       "       0, 0, 0, 0, 0, 0, 0, 0, 0, 0, 0, 0, 0, 0, 0, 0, 0, 0, 0, 0, 0, 0,\n",
       "       0, 0, 0, 0, 0, 0, 0, 0, 0, 0, 0, 0, 0, 0, 0, 0, 0, 0, 0, 0, 0, 0,\n",
       "       0, 0, 0, 0, 0, 0, 0, 0, 0, 0, 0, 0, 0, 0, 0, 0, 1, 0, 0, 0, 0, 0,\n",
       "       0, 1, 0, 0, 1, 0, 0, 0, 0, 1, 0, 0, 0, 0, 0, 0, 0, 0, 0, 0, 0, 0,\n",
       "       0, 0, 0, 0, 0, 0, 0, 0, 0, 0, 0, 0, 0, 0, 0, 0, 0, 0, 0, 0, 0, 0,\n",
       "       0, 0])"
      ]
     },
     "execution_count": 47,
     "metadata": {},
     "output_type": "execute_result"
    }
   ],
   "source": [
    "song[0]"
   ]
  },
  {
   "cell_type": "code",
   "execution_count": 48,
   "metadata": {},
   "outputs": [
    {
     "data": {
      "text/plain": [
       "array([0, 0, 0, 0, 0, 0, 0, 0, 0, 0, 0, 0, 0, 0, 0, 0, 0, 0, 0, 0, 0, 0,\n",
       "       0, 0, 0, 0, 1, 0, 0, 0, 0, 0, 0, 1, 0, 0, 1, 0, 0, 0, 0, 1, 0, 0,\n",
       "       0, 0, 0, 0, 0, 0, 0, 0, 0, 0, 0, 0, 0, 0, 0, 0, 0, 0, 0, 0, 0, 0,\n",
       "       0, 0, 0, 0, 0, 0, 0, 0, 0, 0, 0, 0, 0, 0, 0, 0, 0, 0, 0, 0, 0, 0,\n",
       "       0, 0, 0, 0, 0, 0, 0, 0, 0, 0, 0, 0, 0, 0, 0, 0, 0, 0, 0, 0, 0, 0,\n",
       "       0, 0, 0, 0, 0, 0, 0, 0, 0, 0, 0, 0, 0, 0, 0, 0, 0, 0, 0, 0, 0, 0,\n",
       "       0, 0, 0, 0, 0, 0, 0, 0, 0, 0, 0, 0, 0, 0, 0, 0, 0, 0, 0, 0, 0, 0,\n",
       "       0, 0])"
      ]
     },
     "execution_count": 48,
     "metadata": {},
     "output_type": "execute_result"
    }
   ],
   "source": [
    "song[1]"
   ]
  },
  {
   "cell_type": "code",
   "execution_count": 42,
   "metadata": {},
   "outputs": [
    {
     "data": {
      "text/plain": [
       "(257, 156)"
      ]
     },
     "execution_count": 42,
     "metadata": {},
     "output_type": "execute_result"
    }
   ],
   "source": [
    "s.shape"
   ]
  },
  {
   "cell_type": "code",
   "execution_count": 43,
   "metadata": {},
   "outputs": [
    {
     "data": {
      "text/plain": [
       "(255, 156)"
      ]
     },
     "execution_count": 43,
     "metadata": {},
     "output_type": "execute_result"
    }
   ],
   "source": [
    "s1.shape"
   ]
  },
  {
   "cell_type": "code",
   "execution_count": 44,
   "metadata": {},
   "outputs": [
    {
     "data": {
      "text/plain": [
       "(17, 2340)"
      ]
     },
     "execution_count": 44,
     "metadata": {},
     "output_type": "execute_result"
    }
   ],
   "source": [
    "s2.shape"
   ]
  },
  {
   "cell_type": "code",
   "execution_count": 45,
   "metadata": {},
   "outputs": [
    {
     "data": {
      "text/plain": [
       "15"
      ]
     },
     "execution_count": 45,
     "metadata": {},
     "output_type": "execute_result"
    }
   ],
   "source": [
    "num_timesteps"
   ]
  },
  {
   "cell_type": "code",
   "execution_count": null,
   "metadata": {},
   "outputs": [],
   "source": []
  }
 ],
 "metadata": {
  "kernelspec": {
   "display_name": "Python 2",
   "language": "python",
   "name": "python2"
  },
  "language_info": {
   "codemirror_mode": {
    "name": "ipython",
    "version": 2
   },
   "file_extension": ".py",
   "mimetype": "text/x-python",
   "name": "python",
   "nbconvert_exporter": "python",
   "pygments_lexer": "ipython2",
   "version": "2.7.14"
  }
 },
 "nbformat": 4,
 "nbformat_minor": 2
}
